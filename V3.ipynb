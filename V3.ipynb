{
  "nbformat": 4,
  "nbformat_minor": 0,
  "metadata": {
    "colab": {
      "name": "V3.ipynb",
      "version": "0.3.2",
      "provenance": [],
      "collapsed_sections": [],
      "include_colab_link": true
    },
    "kernelspec": {
      "name": "python3",
      "display_name": "Python 3"
    },
    "accelerator": "GPU"
  },
  "cells": [
    {
      "cell_type": "markdown",
      "metadata": {
        "id": "view-in-github",
        "colab_type": "text"
      },
      "source": [
        "<a href=\"https://colab.research.google.com/github/heeramani/A-to-Z-Resources-for-Students/blob/master/V3.ipynb\" target=\"_parent\"><img src=\"https://colab.research.google.com/assets/colab-badge.svg\" alt=\"Open In Colab\"/></a>"
      ]
    },
    {
      "metadata": {
        "id": "daeEIfnZTdR7",
        "colab_type": "code",
        "colab": {
          "base_uri": "https://localhost:8080/",
          "height": 388
        },
        "outputId": "efcb8e17-e8a8-4ff7-a889-6b56b51bbe01"
      },
      "cell_type": "code",
      "source": [
        "from __future__ import print_function\n",
        "import mxnet as mx\n",
        "from mxnet import nd, autograd\n",
        "import numpy as np\n",
        "import nltk\n",
        "import re\n",
        "import sys, os\n",
        "import random\n",
        "mx.random.seed(1)\n",
        "ctx = mx.gpu()"
      ],
      "execution_count": 1,
      "outputs": [
        {
          "output_type": "error",
          "ename": "ModuleNotFoundError",
          "evalue": "ignored",
          "traceback": [
            "\u001b[0;31m---------------------------------------------------------------------------\u001b[0m",
            "\u001b[0;31mModuleNotFoundError\u001b[0m                       Traceback (most recent call last)",
            "\u001b[0;32m<ipython-input-1-e7deeb080b42>\u001b[0m in \u001b[0;36m<module>\u001b[0;34m()\u001b[0m\n\u001b[1;32m      1\u001b[0m \u001b[0;32mfrom\u001b[0m \u001b[0m__future__\u001b[0m \u001b[0;32mimport\u001b[0m \u001b[0mprint_function\u001b[0m\u001b[0;34m\u001b[0m\u001b[0;34m\u001b[0m\u001b[0m\n\u001b[0;32m----> 2\u001b[0;31m \u001b[0;32mimport\u001b[0m \u001b[0mmxnet\u001b[0m \u001b[0;32mas\u001b[0m \u001b[0mmx\u001b[0m\u001b[0;34m\u001b[0m\u001b[0;34m\u001b[0m\u001b[0m\n\u001b[0m\u001b[1;32m      3\u001b[0m \u001b[0;32mfrom\u001b[0m \u001b[0mmxnet\u001b[0m \u001b[0;32mimport\u001b[0m \u001b[0mnd\u001b[0m\u001b[0;34m,\u001b[0m \u001b[0mautograd\u001b[0m\u001b[0;34m\u001b[0m\u001b[0;34m\u001b[0m\u001b[0m\n\u001b[1;32m      4\u001b[0m \u001b[0;32mimport\u001b[0m \u001b[0mnumpy\u001b[0m \u001b[0;32mas\u001b[0m \u001b[0mnp\u001b[0m\u001b[0;34m\u001b[0m\u001b[0;34m\u001b[0m\u001b[0m\n\u001b[1;32m      5\u001b[0m \u001b[0;32mimport\u001b[0m \u001b[0mnltk\u001b[0m\u001b[0;34m\u001b[0m\u001b[0;34m\u001b[0m\u001b[0m\n",
            "\u001b[0;31mModuleNotFoundError\u001b[0m: No module named 'mxnet'",
            "",
            "\u001b[0;31m---------------------------------------------------------------------------\u001b[0;32m\nNOTE: If your import is failing due to a missing package, you can\nmanually install dependencies using either !pip or !apt.\n\nTo view examples of installing some common dependencies, click the\n\"Open Examples\" button below.\n\u001b[0;31m---------------------------------------------------------------------------\u001b[0m\n"
          ]
        }
      ]
    },
    {
      "metadata": {
        "id": "Nqoii6ZzEsvx",
        "colab_type": "code",
        "colab": {}
      },
      "cell_type": "code",
      "source": [
        "def preprocess(corpus, wtoi = {}, itow = []):\n",
        "    tokenizer = nltk.tokenize.RegexpTokenizer(r'[\\w\\']+')\n",
        "    sequence = []\n",
        "    flag = 1\n",
        "    if len(itow) == 0 :\n",
        "        wtoi['<eos>']=len(itow)\n",
        "        itow.append('<eos>')\n",
        "        flag = 0\n",
        "    for line in corpus.split('\\n'):\n",
        "        words = tokenizer.tokenize(line.lower())\n",
        "        for word in words:\n",
        "            if word in wtoi.keys():\n",
        "                pass\n",
        "            elif flag == 0:\n",
        "                wtoi[word] = len(itow)\n",
        "                itow.append(word)\n",
        "            else:\n",
        "                word = '<oov>'\n",
        "            sequence.append(wtoi[word])\n",
        "        sequence.append(wtoi['<eos>'])\n",
        "    if flag == 0 :\n",
        "        wtoi['<oov>']=len(itow)\n",
        "        itow.append('<oov>')\n",
        "    return np.array(sequence), wtoi, itow"
      ],
      "execution_count": 0,
      "outputs": []
    },
    {
      "metadata": {
        "id": "d6GzgKnjFuNa",
        "colab_type": "code",
        "colab": {}
      },
      "cell_type": "code",
      "source": [
        ""
      ],
      "execution_count": 0,
      "outputs": []
    },
    {
      "metadata": {
        "id": "z_JhA9JVEsv3",
        "colab_type": "code",
        "outputId": "ac7892c1-a712-48de-b31b-1b1ac5783a5d",
        "colab": {
          "base_uri": "https://localhost:8080/",
          "height": 395
        }
      },
      "cell_type": "code",
      "source": [
        "with open(\"train.txt\") as f:\n",
        "    traincorpus = f.read()\n",
        "print(traincorpus[:500])\n",
        "with open(\"test.txt\") as f:\n",
        "    testcorpus = f.read()\n",
        "print(testcorpus[:500])\n",
        "testlines = testcorpus.split('\\n')"
      ],
      "execution_count": 4,
      "outputs": [
        {
          "output_type": "stream",
          "text": [
            "The third was being run by the head of an investment firm\n",
            "You wonder if he was manipulating the market with his bombing targets\n",
            "Guerrillas killed an engineer , Asi Ali , from Tikrit\n",
            "His mother was also killed in the attack\n",
            "The Commission said it had no legal grounds for such an exclusion\n",
            "This item is a small one and easily missed\n",
            "But in my view it is highly significant\n",
            "The situation in Iraq is only going to get better this way\n",
            "If someone committed a crime against humanity , prosecute the person\n",
            "\n",
            "From the AP comes this story\n",
            "A la guerre c'est comme a la guerre\n",
            "The US troops fired into the hostile crowd , killing 4\n",
            "Read the entire article ; there 's a punchline , too\n",
            "In Ramadi , there was a big demonstration\n",
            "Now , people wonder if Google can even survive\n",
            "That 's overstating it , I know\n",
            "When they saw a cartoon of their prophet , people had to die\n",
            "The battles and demonstrations were provoked by the US assault on Fallujah\n",
            "The hottest item on Christmas wish lists this year is nuclear weapons\n",
            "\n"
          ],
          "name": "stdout"
        }
      ]
    },
    {
      "metadata": {
        "id": "zVC9M3WSEswE",
        "colab_type": "code",
        "colab": {}
      },
      "cell_type": "code",
      "source": [
        "sequence, wtoi, itow = preprocess(traincorpus)"
      ],
      "execution_count": 0,
      "outputs": []
    },
    {
      "metadata": {
        "id": "5vIPXIP3EswN",
        "colab_type": "code",
        "outputId": "9ed8f8b0-4591-45d5-875c-f713065957ff",
        "colab": {
          "base_uri": "https://localhost:8080/",
          "height": 109
        }
      },
      "cell_type": "code",
      "source": [
        "print(len(wtoi.keys()))\n",
        "print(len(itow))\n",
        "print(' '.join(traincorpus.split()[:500]))\n",
        "print([itow[i] for i in sequence[:500]])"
      ],
      "execution_count": 6,
      "outputs": [
        {
          "output_type": "stream",
          "text": [
            "5896\n",
            "5896\n",
            "The third was being run by the head of an investment firm You wonder if he was manipulating the market with his bombing targets Guerrillas killed an engineer , Asi Ali , from Tikrit His mother was also killed in the attack The Commission said it had no legal grounds for such an exclusion This item is a small one and easily missed But in my view it is highly significant The situation in Iraq is only going to get better this way If someone committed a crime against humanity , prosecute the person A team from the court managed to take his deposition before he died The trial begins again Nov. 28 There has been talk that the night curfew might be implemented again Over 300 Iraqis are reported dead and 500 reported wounded in Fallujah alone Al - Iraqiyah tv said that ICDC were controlling Ramadi Now you can tour Chernobyl and write your own story This is not a post about fault - finding or assigning blame There is a lot to learn about Chernobyl There are a wealth of references on Chernobyl Read some of the following links and draw your own conclusions Remember the old shoe sizing machines that was a form of radiation xray Take care , my friend , The tape was a way to signal priorities It should continue to be defanged We need an FDR in Iraq , not a Ronald Reagan Let 's just remember a seminal Bush moment in 1999 ' Bush fails reporter 's pop quiz on international Web posted at : 3:29 p.m. EST ( 2029 GMT He could not name the others \" Can you name the general who is in charge of Pakistan ? \" Wait , wait , is this 50 questions ? \" asked Bush A spokesman for President Clinton also criticized Bush 's comments I do n't see Bush doing any of this Have they , however , actually weakened Israeli security Saddam never did anything practical to help the Palestinians He did not allow Palestinian radicals to launch operations against Israel from Iraq Its ramshackle army had virtually collapsed before the American invasion in 2003 They have also reestablished their historical links with Lebanese and Iranian Shiites The anger has spread throughout the Muslim world , including Iraq THE DAILY STAR publishes this commentary in agreement with Agence But they , too , failed Colombo , too , seems to be in an intractable position About 1,200 Indian soldiers were killed during this phase of the conflict That distinction has now gone to the United States We all know that John Kerry served in Vietnam ( Click here for source . And , let 's remember , flying supersonic fighter jets is dangerous They do n't let just anybody do it Read on to learn the facts Before you fall for Dems ’ spin , here are the That he did n’t show up for duty in Alabama That his daddy\n",
            "['the', 'third', 'was', 'being', 'run', 'by', 'the', 'head', 'of', 'an', 'investment', 'firm', '<eos>', 'you', 'wonder', 'if', 'he', 'was', 'manipulating', 'the', 'market', 'with', 'his', 'bombing', 'targets', '<eos>', 'guerrillas', 'killed', 'an', 'engineer', 'asi', 'ali', 'from', 'tikrit', '<eos>', 'his', 'mother', 'was', 'also', 'killed', 'in', 'the', 'attack', '<eos>', 'the', 'commission', 'said', 'it', 'had', 'no', 'legal', 'grounds', 'for', 'such', 'an', 'exclusion', '<eos>', 'this', 'item', 'is', 'a', 'small', 'one', 'and', 'easily', 'missed', '<eos>', 'but', 'in', 'my', 'view', 'it', 'is', 'highly', 'significant', '<eos>', 'the', 'situation', 'in', 'iraq', 'is', 'only', 'going', 'to', 'get', 'better', 'this', 'way', '<eos>', 'if', 'someone', 'committed', 'a', 'crime', 'against', 'humanity', 'prosecute', 'the', 'person', '<eos>', 'a', 'team', 'from', 'the', 'court', 'managed', 'to', 'take', 'his', 'deposition', 'before', 'he', 'died', '<eos>', 'the', 'trial', 'begins', 'again', 'nov', '28', '<eos>', 'there', 'has', 'been', 'talk', 'that', 'the', 'night', 'curfew', 'might', 'be', 'implemented', 'again', '<eos>', 'over', '300', 'iraqis', 'are', 'reported', 'dead', 'and', '500', 'reported', 'wounded', 'in', 'fallujah', 'alone', '<eos>', 'al', 'iraqiyah', 'tv', 'said', 'that', 'icdc', 'were', 'controlling', 'ramadi', '<eos>', 'now', 'you', 'can', 'tour', 'chernobyl', 'and', 'write', 'your', 'own', 'story', '<eos>', 'this', 'is', 'not', 'a', 'post', 'about', 'fault', 'finding', 'or', 'assigning', 'blame', '<eos>', 'there', 'is', 'a', 'lot', 'to', 'learn', 'about', 'chernobyl', '<eos>', 'there', 'are', 'a', 'wealth', 'of', 'references', 'on', 'chernobyl', '<eos>', 'read', 'some', 'of', 'the', 'following', 'links', 'and', 'draw', 'your', 'own', 'conclusions', '<eos>', 'remember', 'the', 'old', 'shoe', 'sizing', 'machines', 'that', 'was', 'a', 'form', 'of', 'radiation', 'xray', '<eos>', 'take', 'care', 'my', 'friend', '<eos>', 'the', 'tape', 'was', 'a', 'way', 'to', 'signal', 'priorities', '<eos>', 'it', 'should', 'continue', 'to', 'be', 'defanged', '<eos>', 'we', 'need', 'an', 'fdr', 'in', 'iraq', 'not', 'a', 'ronald', 'reagan', '<eos>', 'let', \"'s\", 'just', 'remember', 'a', 'seminal', 'bush', 'moment', 'in', '1999', '<eos>', \"'\", 'bush', 'fails', 'reporter', \"'s\", 'pop', 'quiz', 'on', 'international', '<eos>', 'web', 'posted', 'at', '3', '29', 'p', 'm', 'est', '2029', 'gmt', '<eos>', 'he', 'could', 'not', 'name', 'the', 'others', '<eos>', 'can', 'you', 'name', 'the', 'general', 'who', 'is', 'in', 'charge', 'of', 'pakistan', '<eos>', 'wait', 'wait', 'is', 'this', '50', 'questions', 'asked', 'bush', '<eos>', 'a', 'spokesman', 'for', 'president', 'clinton', 'also', 'criticized', 'bush', \"'s\", 'comments', '<eos>', 'i', 'do', \"n't\", 'see', 'bush', 'doing', 'any', 'of', 'this', '<eos>', 'have', 'they', 'however', 'actually', 'weakened', 'israeli', 'security', '<eos>', 'saddam', 'never', 'did', 'anything', 'practical', 'to', 'help', 'the', 'palestinians', '<eos>', 'he', 'did', 'not', 'allow', 'palestinian', 'radicals', 'to', 'launch', 'operations', 'against', 'israel', 'from', 'iraq', '<eos>', 'its', 'ramshackle', 'army', 'had', 'virtually', 'collapsed', 'before', 'the', 'american', 'invasion', 'in', '2003', '<eos>', 'they', 'have', 'also', 'reestablished', 'their', 'historical', 'links', 'with', 'lebanese', 'and', 'iranian', 'shiites', '<eos>', 'the', 'anger', 'has', 'spread', 'throughout', 'the', 'muslim', 'world', 'including', 'iraq', '<eos>', 'the', 'daily', 'star', 'publishes', 'this', 'commentary', 'in', 'agreement', 'with', 'agence', '<eos>', 'but', 'they', 'too', 'failed', '<eos>', 'colombo', 'too', 'seems', 'to', 'be', 'in', 'an', 'intractable', 'position', '<eos>', 'about', '1', '200', 'indian', 'soldiers', 'were', 'killed', 'during', 'this', 'phase', 'of', 'the', 'conflict', '<eos>', 'that', 'distinction', 'has', 'now', 'gone', 'to', 'the', 'united', 'states', '<eos>', 'we', 'all', 'know', 'that', 'john', 'kerry', 'served', 'in', 'vietnam', '<eos>', 'click', 'here', 'for', 'source', '<eos>', 'and', 'let', \"'s\", 'remember', 'flying', 'supersonic', 'fighter', 'jets', 'is', 'dangerous', '<eos>', 'they', 'do', \"n't\", 'let', 'just', 'anybody', 'do', 'it', '<eos>', 'read', 'on', 'to', 'learn', 'the', 'facts', '<eos>', 'before']\n"
          ],
          "name": "stdout"
        }
      ]
    },
    {
      "metadata": {
        "id": "Ar5Qj6xNEswV",
        "colab_type": "code",
        "outputId": "a727ec03-d6e0-4d63-f4a7-4c1587b26dfa",
        "colab": {
          "base_uri": "https://localhost:8080/",
          "height": 73
        }
      },
      "cell_type": "code",
      "source": [
        "character_list = itow\n",
        "vocab_size = len(itow)\n",
        "print(character_list)\n",
        "print(\"Length of vocab: %s\" % vocab_size)"
      ],
      "execution_count": 7,
      "outputs": [
        {
          "output_type": "stream",
          "text": [
            "['<eos>', 'the', 'third', 'was', 'being', 'run', 'by', 'head', 'of', 'an', 'investment', 'firm', 'you', 'wonder', 'if', 'he', 'manipulating', 'market', 'with', 'his', 'bombing', 'targets', 'guerrillas', 'killed', 'engineer', 'asi', 'ali', 'from', 'tikrit', 'mother', 'also', 'in', 'attack', 'commission', 'said', 'it', 'had', 'no', 'legal', 'grounds', 'for', 'such', 'exclusion', 'this', 'item', 'is', 'a', 'small', 'one', 'and', 'easily', 'missed', 'but', 'my', 'view', 'highly', 'significant', 'situation', 'iraq', 'only', 'going', 'to', 'get', 'better', 'way', 'someone', 'committed', 'crime', 'against', 'humanity', 'prosecute', 'person', 'team', 'court', 'managed', 'take', 'deposition', 'before', 'died', 'trial', 'begins', 'again', 'nov', '28', 'there', 'has', 'been', 'talk', 'that', 'night', 'curfew', 'might', 'be', 'implemented', 'over', '300', 'iraqis', 'are', 'reported', 'dead', '500', 'wounded', 'fallujah', 'alone', 'al', 'iraqiyah', 'tv', 'icdc', 'were', 'controlling', 'ramadi', 'now', 'can', 'tour', 'chernobyl', 'write', 'your', 'own', 'story', 'not', 'post', 'about', 'fault', 'finding', 'or', 'assigning', 'blame', 'lot', 'learn', 'wealth', 'references', 'on', 'read', 'some', 'following', 'links', 'draw', 'conclusions', 'remember', 'old', 'shoe', 'sizing', 'machines', 'form', 'radiation', 'xray', 'care', 'friend', 'tape', 'signal', 'priorities', 'should', 'continue', 'defanged', 'we', 'need', 'fdr', 'ronald', 'reagan', 'let', \"'s\", 'just', 'seminal', 'bush', 'moment', '1999', \"'\", 'fails', 'reporter', 'pop', 'quiz', 'international', 'web', 'posted', 'at', '3', '29', 'p', 'm', 'est', '2029', 'gmt', 'could', 'name', 'others', 'general', 'who', 'charge', 'pakistan', 'wait', '50', 'questions', 'asked', 'spokesman', 'president', 'clinton', 'criticized', 'comments', 'i', 'do', \"n't\", 'see', 'doing', 'any', 'have', 'they', 'however', 'actually', 'weakened', 'israeli', 'security', 'saddam', 'never', 'did', 'anything', 'practical', 'help', 'palestinians', 'allow', 'palestinian', 'radicals', 'launch', 'operations', 'israel', 'its', 'ramshackle', 'army', 'virtually', 'collapsed', 'american', 'invasion', '2003', 'reestablished', 'their', 'historical', 'lebanese', 'iranian', 'shiites', 'anger', 'spread', 'throughout', 'muslim', 'world', 'including', 'daily', 'star', 'publishes', 'commentary', 'agreement', 'agence', 'too', 'failed', 'colombo', 'seems', 'intractable', 'position', '1', '200', 'indian', 'soldiers', 'during', 'phase', 'conflict', 'distinction', 'gone', 'united', 'states', 'all', 'know', 'john', 'kerry', 'served', 'vietnam', 'click', 'here', 'source', 'flying', 'supersonic', 'fighter', 'jets', 'dangerous', 'anybody', 'facts', 'fall', 'dems', 'spin', 'n', 't', 'show', 'up', 'duty', 'alabama', 'daddy', 'got', 'him', 'future', 'joined', 'guard', 'may', '1968', 'almost', 'immediately', 'began', 'extended', 'period', 'training', 'fifty', 'three', 'weeks', 'flight', 'twenty', 'interceptor', 'full', 'time', 'work', 'nearly', 'two', 'years', 'as', 'accumulated', 'points', 'toward', 'national', 'service', 'requirements', 'earned', '340', '1969', '1970', '137', '1971', '112', '1972', 'fact', 'helping', 'them', 'solve', 'problem', 'then', 'request', 'given', 'permission', 'go', 'received', 'high', 'marks', 'pilot', 'much', 'perhaps', 'someday', 'will', 'release', 'more', 'military', 'records', 'well', 'byron', 'york', 'white', 'house', 'correspondent', 'review', 'column', 'appears', 'hill', 'each', 'week', 'many', 'voting', 'centres', 'already', 'successfully', 'attacked', 'destroyed', 'areas', 'doubt', 'outcome', 'though', 'support', 'base', 'larger', 'than', 'what', 'resistance', 'commonsense', 'solution', 'sunni', 'contend', 'elections', 'impossible', 'hold', 'under', 'occupation', 'revolt', 'took', 'suppressed', 'republican', 'shia', 'live', 'without', 'sunnis', 'vice', 'versa', 'first', 'hid', 'thought', 'us', 'government', 'looking', 'me', 'hide', 'less', 'ca', 'imagine', 'wanted', 'posada', 'meiring', 'ask', 'terry', 'nichols', 'philippines', 'so', 'instead', 'held', 'indefinitely', 'comfortable', 'custody', 'embarrassment', 'case', 'threatens', 'consensus', 'fiction', 'war', 'terror', 'remain', 'unspoken', 'seem', 'recall', 'object', 'smuggle', 'explosives', 'same', 'ole', 'charles', 'briggs', 'came', 'rescue', 'looks', 'like', 'rearing', 'louisianna', 'former', 'pastor', 'deputy', 'implicated', 'church', 'child', 'sex', 'relate', 'really', 'thinking', 'enjoy', 'reading', 'blog', 'good', 'ã³l', 'ai', 'nt', 'used', 'please', 'check', 'out', 'dog', 'los', 'angeles', 'online', 'pretty', 'covers', 'dating', 'stuff', \"'ll\", 'sure', 'come', 'back', 'hey', 'love', 'advice', 'site', 'searching', 'food', 'info', 'found', 'hard', 'how', 'pass', 'least', 'taking', 'look', 'recent', 'months', 'fallibility', 'become', 'evident', 'drugs', 'arms', 'travel', 'directions', 'unknown', 'new', 'delhi', 'intelligence', 'lackluster', 'performance', 'dealing', 'ltte', 'startling', 'six', 'crew', 'members', 'arakan', 'region', 'myanmar', 'boat', 'heading', 'cox', 'bazar', 'bangladesh', 'subsequently', 'phuket', 'became', 'main', 'backup', 'writes', 'aakrosh', 'india', 'defense', 'tied', 'quarterly', 'journal', 'both', 'afghanistan', 'deny', 'claim', 'where', 'mullah', 'omar', 'usmani', 'gulbuddin', 'hikmetar', 'flustered', 'musharraf', 'karzai', 'clearly', 'pleased', 'results', 'until', 's', 'options', 'open', 'pakistani', 'officials', 'insist', 'decision', 'unconnected', 'tripartite', 'meeting', 'visible', 'signs', 'crackdown', 'side', 'senior', 'diplomats', 'warned', 'barno', 'insists', 'presence', 'poses', 'threat', 'iran', 'taliban', 'living', 'voted', 'eyewitnesses', 'lying', 'lived', 'zone', 'logic', 'medal', 'saved', 'man', 'life', 'while', 'fire', 'youth', 'temper', 'enjoyed', 'governor', 'watching', 'executions', 'whether', 'awol', 'stint', 'unclear', 'ms', 'baba', 'groom', 'campaign', 'worker', 'would', 'wear', 'khaki', 'trousers', 'jacket', 'always', 'ready', 'road', 'phone', 'hear', 'accent', 'melded', 'everybody', 'prominent', 'southern', 'republicans', 'something', 'rare', 'breed', 'those', 'days', 'dated', 'beautiful', 'young', 'woman', 'working', 'went', 'evenings', 'unusual', 'frankly', 'inappropriate', 'laugh', 'goodwyn', 'dutifully', 'notes', 'george', 'telling', 'drunk', 'stories', 'trying', 'buddy', 'archibald', 'impress', 'our', 'crisis', 'republic', 'danger', 'when', 'cities', 'burning', 'flesh', 'death', 'search', 'vain', 'find', 'law', 'abiding', 'end', 'bob', 'thread', 'ri', 'discussion', 'board', 'four', 'planeloads', 'vanished', 'these', 'weapons', 'missing', 'terrifying', 'prospect', 'concerns', 'siphoned', 'off', 'snap', 'statement', 'robinson', 'conviction', 'victims', 'witnesses', 'stay', 'silent', 'nothing', 'changes', 'murder', 'weapon', 'letter', 'opener', 'police', 'prosecutors', 'tools', 'still', 'domain', 'sent', 'congress', 'yet', 'enforcement', 'having', 'tracking', 'mechanism', 'place', \"'m\", 'kind', 'thing', 'goes', 'return', 'regularly', 'scheduled', 'programming', 'simply', 'count', '14', 'explosive', 'headlines', 'funny', 'things', 'squirelled', 'away', 'meaning', 'husbands', 'marry', 'mothers', 'teen', 'daughters', 'fumarase', 'deficiency', 'kingston', 'family', 'charged', 'forced', 'marriage', 'beating', 'lost', 'stop', 'juicy', 'profits', 'evaporate', 'milking', 'incompetence', 'angle', 'another', 'big', 'whoopsie', 'daisy', 'huh', 'outsourcing', 'special', 'ops', 'group', 'country', 'deserves', 'leaders', 'friends', 'boast', 'mujahedeen', 'affair', 'visits', 'allowed', 'thursday', 'nights', 'fridays', 'children', 'schools', 'particularly', 'france', 'brainwash', 'control', 'sploid', 'com', 'cited', 'topic', 'priest', 'jimmy', 'plant', 'blogshares', 'fantasy', 'blogosphere', 'trading', 'game', 'pretend', 'money', 'makes', 'satan', 'comparison', 'okay', 'partly', 'strippers', 'dope', 'around', 'put', 'information', 'nature', 'hates', 'void', 'chants', 'suicide', 'morality', 'detect', 'hissing', 'lisp', 'serpent', 'article', 'deathly', 'inversion', 'truth', 'ala', 'satanism', 'irony', 'long', 'simple', 'clear', 'cut', 'quote', 'coogan', 'question', 'often', 'perfectly', 'am', 'must', 'getting', 'parents', 'refused', 'accept', \"'re\", 'inseparable', 'says', 'everything', 'lie', 'above', 'why', 'even', 'credit', 'claims', 'german', 'expressionist', 'movement', 'result', 'nordau', 'co', 'founder', 'zionist', 'organization', 'does', 'reappropriation', 'lead', 'originate', 'accurate', 'valid', 'enemy', 'point', 'state', 'balance', '2004', 'after', '000', 'guns', 'numbers', 'load', '99', 'tonnes', 'probably', '20', 'therefore', 'think', 'reporting', 'town', 'susan', 'polk', 'lo', 'behold', 'mormons', 'booth', 'men', 'delivering', 'mormon', 'genealogy', 'program', 'amazed', 'spiel', 'delivered', 'kindly', 'utterly', 'programmed', 'brain', 'painful', 'watch', 'anyone', 'purportedly', 'ahmadinejad', 'verified', 'america', 'condition', 'dire', 'dark', 'deep', 'important', 'kos', 'diary', 'response', 'gathering', 'storm', 'scandals', 'revoke', 'executive', 'order', '13011', 'today', 'fri', '12', '2006', '08', '27', '46', 'pm', 'scanning', 'whitehouse', 'gov', 'noticed', 'believe', 'serious', 'metal', 'fans', 'frequent', 'example', 'system', 'crowleyan', 'thelema', 'alchemical', 'process', 'supposed', 'initially', 'appropriation', 'shall', 'censor', 'works', 'poet', 'baudelaire', 'artists', 'tronicus', 'checking', 'real', 'literalist', 'fundamentalists', 'religion', 'sub', 'cultures', 'lable', 'implies', 'develope', 'vacuum', 'mixing', 'militarism', 'whole', 'other', 'thanks', 'nick', 'keck', 'passing', 'along', 'via', 'e', 'mail', 'very', 'worthwhile', 'eye', 'touch', 'upon', 'aside', 'immediate', 'neighborhood', 'element', 'potent', 'psychological', 'direct', 'impact', 'relatively', 'minor', 'september', '11', 'quantitatively', 'lethal', 'fuss', 'killings', 'shown', 'television', 'great', 'detail', 'penetrated', 'western', 'arrange', 'best', 'airport', 'behind', 'murders', 'true', 'fanatic', 'religious', 'beliefs', 'moslem', 'preacher', 'ever', 'blown', 'himself', 'relative', 'influential', 'done', 'interested', 'benefits', 'heaven', 'poverty', 'despair', 'poorest', 'far', 'africa', 'desperation', 'provide', 'reconnaissance', 'transportation', 'understands', 'russia', 'beginning', 'understand', 'humble', 'opinion', 'definitely', 'happen', 'spanish', 'trains', 'istanbul', 'bombings', 'unity', 'civilized', 'fighting', 'horror', 'absolutely', 'indispensable', 'europe', 'wakes', 'achieved', '2', 'second', 'ingredient', 'words', 'precisely', 'lies', 'disinformation', 'accepted', 'tactic', 'eyes', 'ways', 'subtle', 'dignitaries', 'condemn', 'act', 'visit', 'her', 'bereaved', 'flows', 'people', 'realize', 'emotional', 'infrastructure', 'atrocities', 'outperformed', 'successors', 'aspect', 'inner', 'circle', 'terrorists', 'themselves', 'horrifying', 'added', 'factor', 'birth', 'rate', 'aspects', 'society', 'limitations', 'policeman', 'kill', 'listen', 'conversations', 'drug', 'dealers', 'penalty', 'deliberate', 'multiple', 'fashioned', 'dilemmas', 'entire', 'set', 'raid', 'mosque', 'which', 'serves', 'terrorist', 'ammunition', 'storage', 'hospital', 'headquarters', 'hidden', 'mental', 'want', 'face', 'dilemma', 'avoided', 'twilight', 'harm', 'picture', 'described', 'short', 'fight', 'win', 'circles', 'force', 'outer', 'eliminated', 'sudan', 'list', 'syria', 'surrounded', 'turkey', 'jordan', 'ideology', 'supremacy', 'culture', 'develop', 'nuclear', 'business', 'needs', 'collaborate', 'beautifully', 'surrender', 'matter', 'spain', 'itself', 'pay', 'democratic', 'arab', 'ground', 'prepared', 'carefully', 'prevail', 'key', 'captured', 'previous', 'month', 'rawalpindi', 'hambali', 'reportedly', 'cooperating', 'degree', 'require', 'access', 'strain', 'zawahiri', 'expect', '9', 'soil', 'spotted', 'spores', 'bigger', '5', 'microns', 'inhalable', 'trillion', 'spore', 'concentration', 'extraordinary', 'qaeda', 'means', 'opportunity', 'ji', 'ties', 'moro', 'front', 'green', 'symbolizes', 'islam', 'prophet', 'mohammed', 'holy', 'crop', 'dusters', 'part', 'wave', 'sufaat', 'arrested', 'december', '2001', 'malaysia', 'mistaken', 'reports', 'understandably', 'amerithrax', 'confidential', 'investigation', 'karachi', 'south', 'last', 'ismat', 'heard', 'aafia', 'reached', 'uncle', 'nickname', 'jafar', 'doj', 'official', 'adnan', 'experience', 'commercial', 'hijacker', 'ahmed', 'alhaznawi', 'contracted', 'cutaneous', 'anthrax', 'remains', 'possible', 'ames', 'prevented', 'militant', 'islamists', 'achieving', 'goals', 'motive', 'mind', 'responsibility', 'exist', 'abdel', 'rahman', 'son', 'quetta', 'mid', 'february', 'treated', 'sons', 'imprisoned', 'wtc', '1993', 'plotter', 'yousef', 'ksm', 'nephew', 'brian', 'jenkins', 'once', 'terrorism', 'theater', 'color', 'dale', 'river', 'valley', 'mosques', 'exactly', 'meet', 'whatever', 'political', 'persuasion', 'fbi', 'cia', 'deserve', 'together', 'hindsight', 'hatfill', 'theory', 'accusing', 'dr', 'stephen', 'dubious', 'send', 'specifics', 'per', 'andre', 'later', 'puerto', 'rico', 'cpi', 'inflation', 'data', 'decline', 'invitation', 'regrets', 'commitments', 'right', 'consider', 'ling', 'drive', 'day', 'anne', 'mike', 'call', 'regarding', 'sarah', 'admin', \"coordinator's\", 'primarily', 'administrative', 'nice', 'deal', 'enron', 'include', 'iris', 'putting', 'paperwork', 'services', 'value', 'personally', 'naked', 'into', 'note', 'effective', 'email', 'address', 'changed', 'dinner', 'wednesday', 'prior', 'tuesday', 'nymex', 'candidate', 'cocktail', 'hour', 'oh', 'god', 'agenda', \"tuesday's\", '30', 'houston', 'move', 'weekly', \"monday's\", 'starting', 'next', '4', 'sign', 'employment', 'lavorato', 'requested', 'attached', 'report', 'x', 'easy', 'math', 'asap', 'thoughts', 'oxley', 'examine', 'technology', 'models', 'transmission', 'expansion', 'electricity', 'design', 'conference', 'march', '25', '26', '2002', 'atlanta', '969', '2000', 'tax', 'file', 'embedded', 'device', 'independent', 'bitmap', 'happy', 'porch', '217', 'gray', 'st', '713', 'ebs', 'sponsored', 'event', 'feel', 'company', 'monday', 'morning', 'patty', 'lee', 'corporate', 'x35172', 'eb', 'red', 'below', 'recommend', 'companies', 'fit', 'within', 'entity', 'tis', 'sap', 'nor', 'hyperion', 'income', 'assets', 'liabilities', 'despite', 'mtm', '80y', 'broadband', 'acquisition', 'inc', '83n', 'suggest', 'assigned', 'leon', '1579', 'network', 'division', '17h', 'possibly', 'networks', 'currently', 'centralize', 'merchant', 'asset', 'activities', 'broke', '1179', '1307', 'ebic', 'apache', 'rolls', 'cherokee', 'finance', 'vof', 'cfc', '1689', 'epi', 'ventures', 'branom', 'analyst', '345', '8702', 'office', 'moving', '1691', 'originally', 'inquiring', 'purchasing', 'cross', 'signac', 'impressionist', 'lithograph', 'add', 'collection', 'purchased', 'appel', 'several', 'suerat', 'paper', 'settle', 'down', 'lunch', 'jeff', 'intial', 'draft', 'wording', 'mark', 'comment', 'calendars', 'san', 'antonio', 'wow', 'year', 'stayed', 'menger', 'october', 'ena', 'orientation', 'hope', 'vacation', 'officer', 'enterprise', 'spouses', 'invited', 'wo', 'compaq', 'couple', 'wrap', 'loi', 'refer', 'licensed', 'fuel', 'cell', 'energy', 'equipment', 'epc', 'contract', 'handy', 'speed', 'forget', 'separate', 'contracts', 'project', 'hence', 'reference', 'manufacturer', 'attachment', 'development', 'coming', 'soon', 'forward', 'drinking', 'few', 'beers', 'michael', 'mcdermott', 'spectrongroup', '06', '01', '00', '56', 'she', 'dances', 'band', 'skip', 'puts', 'mayonnaise', 'aspirin', 'winner', 'cereal', 'bowl', 'lifeguard', 'zoo', 'elephants', 'throw', 'peanuts', 'school', 'graduation', 'aerial', 'photograph', 'driver', 'license', 'continued', 'iron', 'pants', 'driveway', 'neck', 'pack', 'hot', 'dogs', 'yo', 'mama', 'fat', 'sell', 'shade', 'paul', 'tonight', 'interview', 'microwave', 'gave', 'dan', 'expensive', 'reminder', 'currency', 'make', 'peters', 'chance', 'june', 'nx3', 'nx1', 'book', 'give', 'resume', 'cover', 'hopefully', 'spel', 'anyting', 'incorrectly', 'smart', 'guys', 'dawn', 'directly', 'able', 'attend', 'saturday', 'sunday', 'talked', 'little', 'shower', 'grand', 'presentation', 'january', 'late', 'sound', 'date', 'finally', 'timing', 'sorry', 'sharing', 'worry', 'speaker', 'hearing', 'staff', 'apologize', 'offended', 'attributing', 'ibm', 'issues', 'commit', 'transferring', 'messages', 'across', 'domains', 'hr', 'tool', 'called', 'confirmit', 'execute', 'anonymous', 'surveys', 'additional', 'document', 'advised', 'follows', 'central', 'pin', 'kaufman', '503', '464', '7927', 'girl', 'number', '814014', 'sitara', 'ok', 'husband', 'joseph', 'issued', 'express', 'card', 'expiration', '03', 'advise', 'otherwise', 'assume', 'tickets', 'survived', 'gas', 'settlement', 'difference', 'package', 'v02', 'xls', 'enrongss', 'sw', 'honro', 'indexed', 'basis', 'trip', 'des', 'moines', 'dthat', 'joe', 'car', 'netmeeting', 'doctor', 'yes', 'physical', 'theraphy', 'times', 'maam', 'ubs', 'mentioned', 'judy', 'cindy', 'franklin', '832', '676', '3177', 'fax', '1329', 'pager', 'error', 'notify', 'sender', 'bet', 'shemin', 'tabs', 'steve', 'exception', 'ed', 'approval', 'informed', 'discuss', 'attorney', 'stipulation', 'ect', 'kedne', 're', 'igts', 'tennessee', 'cap', 'releases', 'final', 'doc', 'blackline', 'stip', 'f', 'noted', 'women', 'customarily', 'walked', '10', 'feet', 'land', 'mines', 'kuwaiti', 'sending', 'revised', 'deliver', 'maybe', 'plate', 'dad', 'guilty', 'jack', 'welch', 'ceo', 'ge', 'gm', 'tremendous', 'cases', 'creative', 'fellow', 'employees', 'everyone', 'britney', 'spears', 'top', 'ten', 'most', 'espeakers', 'scott', 'mcneally', 'sun', '7', 'covey', 'author', 'seven', 'habits', '6', 'oprah', 'winfrey', 'talkshow', 'alan', 'greenspan', 'chairman', 'federal', 'reserve', 'u', 'bill', 'gates', 'texas', 'w', 'espeak', 'plenty', 'internal', 'speakers', 'thank', 'participation', 'hyatt', 'regency', 'downtown', 'perfect', 'lobby', 'friday', 'bad', 'committee', 'breakfast', 'smith', 'street', 'convenient', 'leave', '945', 'catch', 'plane', 'efforts', 'patient', 'july', 'pre', 'cruise', 'glad', 'website', 'www', 'weathereffects', 'available', 'eol', 'surprised', 'quality', 'proud', \"'ve\", 'between', 'cargill', '15', 'mm', 'collateral', 'threshold', 'mill', 'reflects', 'gross', 'exposure', 'reasonable', 'workable', 'regading', 'poa', 'line', 'change', 'language', 'global', 'piece', 'concern', 'hopeful', 'prepare', 'execution', 'copies', 'transactions', 'pg', 'swap', 'ltd', 'total', 'weekend', 'prod', 'description', 'fro', 'lme', 'product', 'curr', 'spot', 'mar', 'jpy', 'hoping', '48', 'hours', 'term', 'sheet', 'plans', 'manage', 'client', 'expectations', 'accordingly', 'privileged', 'planning', 'involved', 'since', 'plus', 'hosting', '22nd', 'subject', 'turbine', 'purchase', 'surgery', 'verify', 'titles', 'correct', 'ones', 'made', 'use', 'opposed', 'earlier', 'version', 'showing', 'revisions', 'correctly', 'sample', 'availability', 'provision', 'different', 'versions', 'seeing', 'peggy', 'banczak', 'lawyer', 'handles', 'mexico', 'through', 'kay', 'either', 'familiar', 'sounds', 'health', 'deteriorated', 'significantly', 'eric', 'smsu', 'joining', 'excellent', 'past', 'sixth', 'grandchild', 'born', 'david', 'wife', 'courtney', 'lb', 'oz', 'inch', 'boy', 'fun', 'summer', 'mr', 'lay', 'confirming', '___________', '8', 'receive', 'appreciate', '14th', 'joy', 'powell', 'assistant', 'richard', 'everett', 'kenneth', 'approved', 'expense', 'olson', 'tell', 'tenn', '36647', 'demand', 'speadsheet', 'matching', 'spreadsheet', 'don', 'germany', 'jr', 'po', 'box', 'cedar', 'lane', 'truck', 'consumption', 'tolerable', '16', '900', 'pick', 'jerry', 'engage', 'articulating', 'dow', 'stock', '33', '41', 'lock', 'gate', 'steers', 'heifers', 'tractor', 'fixed', 'reggie', 'wants', 'kinesiologist', 'sports', 'injury', 'therapist', 'football', 'players', 'legs', 'jaime', 'grown', 'sometimes', 'careful', 'safe', 'shucks', 'guess', 'none', 'paid', 'attention', 'sherrar', 'cool', 'dudes', '1774', '76', 'volumes', 'saga', 'style', 'writing', 'books', 'split', '120', 'shares', 'brand', 'divy', 'say', 'keep', 'dough', 'ck', 'oglethorpe', 'dec', 'cashout', 'booked', 'invoice', 'every', 'phones', 'anwser', 'mary', 'because', 'responds', 'quick', 'prices', 'tgpl', 'la', 'jan', '95', 'feb', '98', 'april', 'latest', 'enovate', 'risk', 'policy', 'machine', 'home', 'prefer', 'initial', 'signature', 'pages', 'else', 'portland', 'included', 'prompt', 'conscientious', 'initials', 'whom', 'faxed', 'fine', 'easier', 'coordinate', 'thanksgiving', 'girls', 'meek', 'incredible', 'player', 'alena', 'compared', 'embarrased', 'apartment', 'start', 'upstairs', 'guest', 'suite', 'neat', 'bathroom', 'cozy', 'stilted', 'conversation', 'xmas', 'chatting', 'likes', 'room', 'craig', 'ma', 'appartment', 'harrison', 'kyle', 'jones', 'technical', 'solutions', 'page', 'taffy', 'milligan', 'emails', 'notice', 'title', 'mean', 'warm', 'needless', 'excited', 'birdie', 'told', 'seoul', 'separately', 'instant', 'alerts', 'yahoo', 'messenger', 'play', 'luck', 'meetings', 'anyway', 'lots', 'ignore', 'sentiment', 'adhering', 'faithfully', 'organizational', 'skills', 'news', 'fyi', 'bobby', 'visitors', 'cards', 'folks', 'major', 'injuries', 'emergency', 'ben', 'taub', 'update', 'mailed', 'families', 'prayers', 'offer', 'guidelines', 'intend', 'implementation', 'dave', 'forster', 'among', 'argentina', 'press', 'ahead', 'taxes', 'etc', 'slides', 'wed', 'sept', 'thur', '21', 'arrv', 'london', 'early', 'transfer', '22', 'hotel', 'monaco', 'tue', 'fly', 'mon', 'oct', 'clh', 'matters', 'confusing', 'taylors', 'enclosed', 'worksheet', 'ineos', 'acrylics', 'copy', 'left', 'voice', 'uecomm', 'master', 'inserted', 'details', 'clauses', 'tracked', 'ease', 'uc', '0308', 'turn', 'bit', 'economic', 'provisions', 'omitted', 'elliotts', 'pictures', 'benjamin', 'james', '45', 'lbs', 'toby', 'william', 'hannah', 'ozs', 'emma', 'attempted', 'revise', 'clearer', 'niagara', 'mohawk', 'marketing', 'appropriate', 'understanding', 'free', '315', '460', '3344', 'schedule', 'nmemdrft8', 'para13', 'busy', 'closely', 'option', 'liquidation', 'problems', 'karim', 'likely', 'explanation', 'id', 'calgary', '11608', 'liq', 'hook', 'videoconference', 'toronto', 'video', 'conferenced', 'tabors', 'alberta', 'export', '050901', 'discussed', 'redlined', 'pricing', 'analysis_0712', 'katie', 'kaplan', 'iepa', 'attending', 'formal', 'follow', 'respond', 'contact', 'manager', 'iep', '916', 'extremely', 'suggestions', 'appreciated', 'participate', 'calling', 'dial', 'toll', '877', '331', '6867', 'duration', 'terminate', 'hung', 'resting', 'laurels', 'outstanding', 'accomplishment', 'panel', 'puc', 'ferc', 'tomorrow', 'alter', 'somewhat', 'shaped', 'gets', 'd', '35', 'southwest', 'marly', 'trademarking', 'covered', 'proceed', 'word', 'necessary', 'register', 'enrononline', 'updated', 'reflect', 'determined', 'responses', 'deals', 'shankman', 'arnold', 'personal', 'signed', 'communicated', 'bowen', 'carol', 'handle', 'eta_revision0307', 'amendment', 'adds', 'british', 'columbia', 'securities', 'representation', 'confirmation', 'desk', 'adding', 'rep', 'confirms', 'counterparties', 'merchanting', 'metals', 'summary', 'planned', 'systems', 'manual', 'substantiation', 'aa', 'middle', 'prioritised', 'reconciliation', 'movements', '23rd', '30th', 'tests', 'vanilla', 'detailed', 'analysis', 'obsf', 'reconciled', 'barclays', 'recalculation', 'premium', 'utilising', 'manually', 'created', 'debtors', 'creditors', 'partial', 'circularisation', 'initiated', 'close', 'items', 'needing', 'inventory', 'balances', 'documentation', 'substantive', 'cash', 'funding', 'plan', 'retaking', 'gmat', 'test', 'favorable', 'retake', 'teco', 'o', 'costs', 'correlation', 'assuming', 'flat', 'deducting', 'operating', 'expenses', 'using', 'mwh', 'vom', 'dollar', 'amount', 'strike', 'provided', 'payment', 'stream', 'covering', 'principal', 'thus', 'randy', 'issue', 'objections', 'rehearing', 'incorporates', 'stojic', 'kelly', 'lou', 'sort', 'requests', 'cost', '567', '77', 'chair', 'approve', 'message', 'forwarded', 'sommer', 'stan', 'yea', 'responsible', 'completing', 'entering', 'cec', 'invoices', 'associate', 'evaluations', 'associates', 'analysts', 'completed', 'brenner', 'ursula', 'j', 'doug', 'providing', 'specific', 'thane', 'visited', 'electric', 'restructuring', '6th', '7th', 'forum', 'expected', 'testimony', 'austin', 'ercot', 'prs', 'rick', 'budget', 'becky', 'replace', 'peter', 'job', 'arrangements', 'percell', 'swbell', 'net', '04', '58', 'addendum', 'academic', 'consulting', 'c', 'stark', 'appointment', 'wish', 'figured', 'posting', 'belonged', 'danny', 'further', 'contacted', 'relevant', 'interest', 'recommendation', 'games', 'distributed', 'preseason', 'vs', 'miami', 'b', '24', 'detroit', '17', 'utah', '19', 'washington', '23', 'sacramento', 'indiana', 'cleveland', '13', 'seattle', 'august', 'orlando', 'phoenix', 'minnesota', 'mailing', 'iis', 'sometime', 'cdt', 'connections', 'established', 'remote', 'locations', 'conf', 'lines', 'reserved', 'gcp', 'adjustments', 'highlighted', 'counterparty', 'listed', 'uk', 'type', 'datamanager', 'steps', 'stl', 'plt', 'termination', '31', 'transaction', 'marine', 'terminal', 'chicago', 'ill', 'metro', 'area', 'production', 'cluster', 'select', 'requiring', 'stated', 'mouse', 'samuel', 'x3', '9890', '_', 'updates', 'defeats', 'purpose', 'tradename', 'eve', 'handling', 'afternoon', 'harry', 'shows', 'session', 'sessions', 'overview', 'henderson', 'ssd', 'groan', 'agree', 'try', 'migrate', 'voicemail', \"'d\", 'customer', 'brandee', 'sanborn', 'concerned', 'suggestion', 'safer', 'badge', 'ss', 'calendar', 'print', 'files', '46c1', 'leads', 'peer', 'reviews', 'gathered', 'shanna', 'spoke', 'background', 'sharon', 'butcher', 'confidentiality', 'earliest', 'convience', 'nepco', 'picketing', 'apparently', 'city', 'permit', 'required', 'local', 'counsel', 'assist', 'regard', 'replacement', 'sara', 'settled', 'invitaion', 'lynn', 'products', 'various', 'groups', 'seeking', 'answers', 'brazil', 'tozzini', 'lawyers', 'ba', 'marval', 'waiting', 'executed', 'forwarding', 'certain', 'printed', 'sided', 'laminated', 'bring', 'l', 'original', 'fedexed', 'overnight', 'gtee', 'agreed', 'owe', 'pleasure', 'selling', 'burgers', 'east', 'coast', 'sao', 'paulo', 'buenos', 'aires', 'power', 'extent', 'communication', 'rules', 'lindh', 'frank', 'frl3', 'pge', 'cpuc', 'rule', 'accord', 'ii', 'ga', 'proposal', 'provides', 'vintaged', 'redwood', 'path', 'rates', 'core', 'customers', 'maintains', 'aggregation', 'answering', 'receiving', 'feedback', 'ray', 'williams', '415', '973', '2776', 'talking', 'hearings', 'limited', 'minutes', '800', '8600', 'begin', 'pst', 'wild', 'ride', 'excellently', 'administration', 'hell', 'bent', 'guy', 'renewed', 'refunds', 'carl', 'wood', 'remarks', 'extreme', 'bilbray', 'gouging', 'wagon', 'clamoring', 'refund', 'subsides', 'campus', 'interviews', '1st', 'inn', 'kushnick', 'skush', 'mention', 'ny', 'wd', '143', 'pumps', 'onshore', 'floating', 'platt', 'index', 'typically', 'hedging', 'attempt', 'reply', 'highlight', 'handled', 'running', 'bus', 'realized', 'decided', 'nicki', 'grandmother', 'explained', 'class', 'remainder', 'lecture', 'drop', 'notified', 'departure', 'memo', 'egm', 'heads', 'jen', 'volunteered', 'advance', 'cooperation', '65', 'million', 'dollars', 'gain', 'counting', 'margin', 'single', 'cargo', 'marianne', 'section', 'semicolon', 'clause', 'defined', 'govt', 'authority', 'granting', 'perfection', 'clair', '3889', '853', '3989', '646', '3393', 'making', 'loc', 'playing', '860', '665', '2368', 'leporjj', 'selectenergy', 'eei', 'documents', '74419', 'chnages', 'respect', 'guaranty', 'delete', 'interconnect', 'questar', 'fairly', 'standard', 'fully', 'reimbursable', 'transwestern', 'operate', 'trails', 'hub', '02', '05', 'ticket', 'price', '183', 'tom', 'join', 'hotline', '3044', 'hurry', 'wondering', 'invoiced', '180', 'mainly', 'due', 'socal', 'revenues', 'adjusted', 'according', 'x36709', 'yesterday', 'vendors', 'instrumentation', 'usual', 'mode', 'confirm', 'testing', 'delivery', 'dates', 'ultrasonic', 'schedulers', 'holding', 'workshops', 'announcement', 'winter', 'referring', 'public', 'relations', 'iso', 'gregg', 'fishman', 'dunn', 'criminal', 'conduct', 'action', 'loose', 'lifting', 'rested', 'retrospect', \"''\", 'beyond', 'belief', 'believes', 'resulting', 'overcharges', 'exceeded', 'billion', 'spike', 'hopes', 'events', 'transpired', 'dig', 'thereafter', 'sce', 'sdg', 'structure', 'wager', 'neal', 'manne', 'nmanne', 'susmangodfrey', 'course', 'expressed', 'negotiating', 'absence', 'entreaty', 'perkins', 'accounts', 'veronica', 'parra', 'nedre', 'strambler', 'fran', 'mayes', 'felicia', 'deffner', 'kerrigan', 'lewis', 'worthy', 'structuring', 'brad', 'alford', 'chris', 'coffman', 'michelle', 'ago', 'faith', 'proceedings', 'robin', 'gibbs', 'kinga', 'chanukah', 'atty', '202', '61', 'patricia', 'gillman', 'sanders', '4_28_00', 'liz', 'finished', 'pulling', 'trustee', 'motion', 'compel', 'paralegal', 'pleadings', 'gerry', 'strathmann', 'gstrathmann', 'mediaone', 'environment', 'ecommerce', 'arbitration', 'association', '978', '376', '9004', 'tel', 'leopold', 'jason', 'dowjones', 'inevitable', 'industry', 'kids', 'abomination', 'springer', 'air', 'literally', 'monkey', 'inside', 'yourselves', 'insidious', 'conspiracy', 'mommism', 'supporters', 'pointing', 'nasa', 'pr', 'hurdles', 'overcome', 'nook', '2005', '09', '32', 'merit', 'flowing', 'duality', 'strength', 'harmony', 'dischord', 'suffer', 'insult', 'collective', 'brings', 'escape', 'ocean', 'swim', 'reward', 'haunt', 'near', 'choices', 'peace', 'sunshine', 'christopher', 'scipio', 'homeopath', 'herbalist', 'holistic', 'viral', 'freedom', 'fear', 'downsizing', 'developed', 'entirely', 'category', 'changing', 'innovation', 'agel', 'introduces', 'gelceuticals', 'unique', 'innovative', 'nutritional', 'proprietary', 'gel', 'suspension', 'serving', 'packets', 'method', 'consuming', 'water', 'needed', 'tablets', 'capsules', 'exotic', 'juice', 'bottle', 'glass', 'weight', 'packages', 'sampling', 'capabilities', 'difficulty', 'swallowing', 'faster', 'efficient', 'body', 'compensation', 'truly', 'revolutionary', 'longevity', 'discover', 'unlimited', 'possibilities', 'passcode', 'november', 'eastern', 'pt', 'mt', 'ct', 'dharmadeva', 'dharmad', 'gmail', 'dance', 'males', 'females', 'kaoshikii', 'invented', '1978', 'shrii', \"a'nandamu'rti\", 'especially', 'normally', 'referred', 'mysticism', 'exercises', 'glands', 'limbs', 'toes', 'childbirth', 'gout', 'spine', 'hands', 'waist', 'becomes', 'strong', 'sharp', 'irregularities', 'menstruation', 'cured', 'troubles', 'bladder', 'urethra', 'charm', 'shine', 'skin', 'helps', 'self', 'expression', 'develops', 'potentiality', 'increases', 'capacity', '75', '80', 'age', 'eighteen', 'rhythmically', 'danced', 'rounds', 'bending', 'suggests', 'completely', 'push', 'polar', 'bear', 'bears', 'screams', 'fortier', 'chase', 'parenteau', 'doyon', 'bleeding', 'badly', 'award', 'comes', 'grant', 'favorite', 'fruit', 'jobs', 'acronym', 'popularly', 'believed', 'francisco', 'derived', 'cowpland', 'stands', 'research', 'laboratory', 'hotmail', 'selective', 'uppercasing', 'kapor', 'teacher', 'transcendental', 'meditation', 'maharishi', 'mahesh', 'yogi', 'popular', 'radio', 'victrola', 'kept', 'oracle', 'rdbms', 'engine', 'mayur', 'sms', '919819602175', 'guild', 'wars', 'febuary', 'rumor', 'calender', 'reason', 'firewalls', 'lol', 'curious', 'hav', 'massive', 'multiplayer', 'role', 'participated', 'beta', 'preview', '100', 'functional', 'greetings', 'gw', 'community', 'alliance', 'straightforward', 'invite', 'greeted', 'wonderful', 'hello', 'warmly', 'welcomed', 'inform', 'holidays', 'moreso', 'earth', 'financial', 'spiritual', 'grandchildren', 'domestic', 'ourselves', 'tough', 'deeper', 'gated', 'gentrified', 'crafting', 'laws', 'instilling', 'insights', 'bruce', 'reilly', 'k', 'bruha', '8274', 'cranston', '02920', 'nsa', 'eater', 'contain', 'peanutjake', 'peanutjak', 'usa', 'urgent', 'assistance', 'walker', '456', '1414', '1111', 'bold', 'step', 'taken', 'regretted', 'assure', 'pray', 'plight', 'colleagues', 'forever', 'grateful', 'strict', 'confidence', 'mayor', 'rescuers', 'unable', 'retrieve', 'pushing', 'superdome', 'stadium', 'toilets', 'overflowing', 'occurred', 'processing', 'directive', 'screaming', 'hollering', 'flashing', 'lights', 'levels', 'rise', 'worse', 'mississippi', 'casinos', 'housed', 'barges', 'hurled', 'onto', 'beach', 'media', '54', 'q', 'waste', '18', 'expires', 'answered', 'googlenut', 'space', 'station', 'funded', 'moon', 'mars', 'vision', 'lunar', 'exploration', 'mission', 'centennial', 'challenges', 'helpful', 'log', 'saem_aero', 'spending', 'webpage', 'explaining', 'effort', 'contribution', 'internet', 'pull', 'bless', 'healthy', 'attach', 'benefit', 'sponsoring', 'link', 'contest', 'distributing', 'greatly', 'certainly', 'cause', 'huge', 'caring', 'enough', 'auction', 'raffle', 'abby', 'miss', 'logging', 'rockin', 'donations', 'charter', 'bank', 'checks', 'payable', 'kendel', 'bunnell', 'increased', 'usage', 'china', 'creating', 'west', 'developments', 'shortages', 'leading', 'cuts', 'clash', 'oil', 'primary', 'visualisations', 'useful', 'ideation', 'floor', 'sit', 'crossed', 'breathing', 'calm', 'relaxed', 'nose', 'breathe', 'slowly', 'deeply', 'tension', 'melting', 'naturally', 'yourself', 'sea', 'golden', 'rays', 'soft', 'soothing', 'vast', 'warmth', 'familiarity', 'vastness', 'sitting', 'serenely', 'restfully', 'muscles', 'limp', 'sinking', 'slightly', 'sand', 'earthly', 'connection', 'surrounding', 'relaxation', 'totally', 'infinite', 'happiness', 'direction', 'repeat', 'mantra', 'nam', 'kevalam', 'everywhere', 'idea', 'intellectual', 'basic', 'practicing', 'practice', 'happens', 'north', 'carolina', 'coalition', 'rector', 'barbara', 'deacon', 'clare', 'declaration', 'consideration', 'spirit', 'vestry', 'human', 'protest', 'oppose', 'injustice', 'affirm', 'conscience', 'dempsey', 'gulf', 'breeze', 'fl', 'mcginnis', 'bmc', 'patriot', 'americans', 'nomination', 'intellect', 'tragic', 'flaw', 'alito', 'proof', 'websites', 'rev', 'director', 'http', 'loveallpeople', 'org', 'located', 'launches', 'manned', 'spaceflight', 'secretive', 'outsiders', 'economics', 'determiner', 'freeze', 'thawed', 'yang', 'successful', 'astronauts', 'turned', 'soviets', 'russians', 'righter', 'righ', 'sonic', 'cats', 'text', 'song', 'uploaded', 'travis', 'thu', '39', 'civet', 'rachels', 'confined', 'die', 'heat', 'musk', 'url', 'started', 'download', 'postage', 'honesty', 'integrity', 'participants', 'success', 'instructions', 'developing', 'lists', 'large', 'corporations', 'bucks', 'requesting', 'legitimate', 'paying', 'envelopes', 'addresses', 'g', 'burrows', '264', 'tor', 'toowoomba', 'qld', '4350', 'luest', '366', 'garden', 'grove', '92842', 'r', 'ansems', 'gen', 'foulkesstraat', '4641', 'bw', 'ossendrecht', 'brumbley', '4632', 'hilton', 'ave', 'columbus', 'ohio', 'amended', 'verifies', 'computer', 'memory', 'edit', 'menu', 'paste', 'save', 'notepad', 'blue', 'planet', 'afraid', 'wolf', 'boulder', 'upi', 'yellowstone', 'park', '1943', 'caper', 'seemed', 'rehabilitate', 'image', 'triggered', 'veritable', 'ecological', 'cascade', 'streamside', 'communities', 'streams', 'plants', 'root', 'stability', 'critical', 'wildland', 'ecosystems', 'wolves', 'vacated', 'fws', 'downgrade', 'status', 'bangs', 'agency', 'reviewing', 'rumors', 'reintroduction', 'climate', 'humans', 'animals', 'birds', 'arrived', 'sooner', 'migrations', 'flowered', 'phoebe', 'forest', 'phlox', 'blooming', 'half', 'phenophases', 'showed', 'consistent', 'warming', 'england', 'cuckoo', 'returns', 'occurring', 'species', 'parmesan', 'localized', 'extinctions', 'habitat', 'tree', 'swallows', 'nesting', 'nine', 'tropical', 'moved', 'florida', 'pew', 'researchers', 'tried', 'transcend', 'argument', 'preamble', 'bbc', 'katrina', 'disaster', 'affected', 'countries', 'race', 'welfare', 'orleans', 'distances', 'irrelevant', 'windermere', 'eat', 'anytime', 'interesting', 'citizen', 'stricken', 'racial', 'pockets', 'diverse', 'member', 'recently', 'addressed', 'nation', 'curb', 'diligence', 'taurus', 'progresses', 'impressive', 'ideas', 'leaps', 'bounds', 'creativity', 'restful', 'periods', 'active', 'hectic', 'suddenly', 'tight', 'inconvenient', 'smoothly', 'virgo', 'bright', 'finances', 'stable', 'hopeless', 'romantic', 'streak', 'residence', 'fascinating', 'absolute', 'overall', 'sees', 'expanding', 'intuitive', 'psychic', 'aquarius', 'pisces', 'unexpected', 'share', 'mails', 'mailto', 'archilochus', 'solar', 'eclipse', '648', 'bc', 'koran', 'descends', '610', 'ad', 'clement', 'methodius', 'dies', '884', 'petrarch', 'meets', 'laura', '1327', 'durer', '1528', 'bridget', 'vere', '1584', 'sir', 'francis', 'walsingham', '1590', 'native', 'crete', 'el', 'greco', '1614', 'lucio', 'paint', 'pompey', 'ha', 'mfm', 'sc', 'plague', '1348', 'raphael', '1483', '1520', 'thomas', 'hobbes', '1588', 'kent', 'earthquake', '1580', 'historian', 'stow', '1605', 'sat', 'alexander', 'perez', '1535', '1611', 'philip', 'renegade', 'secretary', 'scene', 'parody', 'sobriquet', 'identifies', 'armatho', 'martin', 'mgr', 'pipeline', '1995', '57', 'italy', 'jews', 'speak', \"1590's\", '1530', 'lopez', 'ruy', 'zafra', '1533', 'atahualpa', 'inca', 'emperor', 'peru', 'learns', 'chess', '1551', 'ivan', 'iv', 'bans', '1560', 'rome', '1561', 'castling', 'moves', 'proposes', '1562', 'teresa', 'reformer', 'includes', 'writings', '1570', 'gianutto', 'della', 'mantia', 'horatio', '1572', 'eminent', '1574', 'boi', 'leonardo', 'beat', 'ceron', 'phillip', '1575', 'beats', 'madrid', 'cremona', 'except', 'banned', '1576', 'prisoner', 'wins', 'catherine', 'de', 'medici', 'keen', 'terrible', 'translated', 'italian', 'tarsia', 'published', 'venice', 'wrong', 'suspicion', 'rid', 'garcia', 'lennon', 'entered', 'stardom', 'murderer', 'jesus', 'pope', 'curse', 'carried', 'shot', 'chauvinisms', 'hated', 'mccartney', 'devil', 'attempting', 'disguise', 'alt', 'consumers', 'misc', 'looming', 'h', 'examination', 'ramifications', 'desperately', 'essence', 'owns', 'portion', 'iraqi', 'seething', 'cauldron', 'sink', 'chaos', 'guards', 'trained', 'naval', 'asymmetrical', 'warfare', 'holds', 'missiles', 'fastest', 'anti', 'ship', 'sunburn', 'reach', 'mach', 'altitude', 'takes', 'range', 'superior', 'exocet', 'missile', 'uss', 'likewise', 'deployed', 'scoff', 'accumulation', 'approximately', '600', 'korea', 'sums', 'enormous', 'leverage', 'dramatic', 'reduction', 'incomes', 'economy', 'throat', 'decide', 'squeeze', 'rapid', 'victory', 'cemented', 'perception', 'vital', 'refusing', 'enlist', 'stretched', 'breaking', 'conclusion', 'accused', 'aiding', 'globe', 'manner', 'maniac', 'undertake', '1600', 'pennsylvania', 'avenue', 'answer', 'abramoff', 'probability', 'level', 'cent', 'percentage', 'population', 'britain', '79', 'hijackers', 'saudi', 'arabia', '401', 'proposed', '680', 'estimated', 'reconstruction', 'awarded', 'bechtel', 'corp', '55', 'workforce', 'unemployed', '94', '40', 'allocated', 'homeland', 'samoa', '87', 'goods', 'subjected', 'thorough', 'inspection', '0', 'port', 'chemical', 'facilities', 'giving', 'hand', 'debt', '858', 'judges', '42', 'nationalities', 'detainees', 'guantanamo', 'confirmed', 'attempts', 'bay', 'prisoners', 'french', 'record', 'holder', 'nixon', 'average', 'receives', 'fool', 'evangelicals', 'voters', 'describe', 'christians', 'ugh', 'stupid', 'yep', 'dads', 'ucas', 'merrist', 'woking', 'surrey', 'besides', 'pacquiao', 'philipines', 'famous', 'texting', 'capital', 'limerick', 'student', 'mytouch', '4g', 'crashes', 'custom', 'roms', 'install', 'newest', 'cyanogen', 'mod', 'voided', 'warrenty', 'installing', 'clockwork', 'recovery', 'older', 'cynagon', 'rom', 'bugless', 'beast', 'baked', 'snake', 'focus', 'screen', 'launcher', 'adw', 'quite', 'moors', 'penines', 'yorkshire', 'lonely', 'eerie', 'appy', 'heavy', 'lope', 'stride', 'trot', 'olympus', 'x940', 'digital', 'camera', 'ur', 'gud', 'casual', 'functions', 'photography', 'comparable', 'sony', 'mega', 'pixel', 'wide', 'optical', 'zoom', 'wud', 'def', 'worth', 'plain', 'shoot', 'english', 'fix', 'dirt', 'sensor', 'cure', 'poles', 'preferable', 'depends', 'conditions', 'skilled', 'migrant', 'visa', 'clark', 'walk', 'blocks', 'coupons', 'poison', 'knowing', 'exact', 'arm', 'hammer', \"it's\", 'loves', 'giraffes', 'homemade', 'sculpted', 'giraffe', 'laying', 'tested', 'figure', 'dried', 'fragile', 'strengthen', 'cat', 'outside', 'carrier', 'adapt', 'litter', 'mitten', 'camping', 'cleaners', 'dusting', 'parakeet', 'dust', 'budgie', 'window', 'fresh', 'circulate', 'swiffer', 'micro', 'fiber', 'cloth', 'gon', 'na', 'stupidity', 'gpa', 'mine', 'newborn', 'baby', 'fish', 'feed', 'babies', 'flakes', 'mcdonald', 'monopoly', 'wan', 'pieces', 'extra', 'fries', 'drinks', 'scroll', 'buy', 'hurt', 'unless', 'adaptation', 'kimberwick', 'horses', 'pullers', 'gives', 'pressure', 'snaffle', 'vague', 'horse', 'canon', 't3i', 'dslr', 'buying', 'guide', 'drying', 'slow', 'exposed', 'dwarf', 'hamster', 'noise', 'wheel', 'petsmart', 'origin', 'howrah', 'asansol', 'train', 'passenger', 'jeez', 'spelling', 'punctuation', 'letters', 'resumes', 'application', 'round', 'canadian', 'reapply', 'prevent', 'escaping', 'cage', 'regards', 'traveler', 'unknowledgeable', 'dislike', 'urban', 'enviroment', 'finish', 'college', 'atm', 'hotels', 'travelling', 'sleeping', 'bag', 'blanket', 'light', 'itchy', 'beg', 'spare', 'hungry', 'survival', 'setting', 'vietnamese', 'mayko', 'meiko', 'japanese', 'proven', 'relating', 'splitter', 'filter', 'adsl', 'ph', 'easiest', 'comfortably', 'film', 'scratched', 'stores', 'carry', 'adorama', 'fi', 'statue', 'censored', 'spent', 'morton', 'ruth', 'lovely', 'anniversary', 'hamsters', 'steam', 'temperature', 'constantly', 'somewhere', 'european', 'indoors', 'outdoors', 'island', 'jejudo', 'jeju', 'amazing', 'll', 'blow', 'injured', 'pure', 'bird', 'dove', 'petco', 'shallow', 'dish', 'drink', 'bait', 'worms', 'petshoppe', 'aquarium', 'pets', 'anyways', 'paris', 'cdg', 'montparnasse', 'runs', 'transfers', 'rer', 'bienvenue', 'opera', 'software', 'programs', 'smooth', 'crisp', 'black', 'editing', 'gimp', 'cutting', 'shots', 'create', 'layer', 'fill', 'colors', 'adjust', 'channel', 'values', 'brightness', 'darkness', 'parts', 'picasa', 'photoscape', 'clinic', 'cheap', 'cheapest', 'plastic', 'surgeons', 'yanhee', 'hospitals', 'meat', 'label', 'dry', 'foods', 'spoilage', 'sick', 'vet', 'welcome', 'club', 'mash', 'spoon', 'trail', 'riding', 'cantering', 'scared', 'spooky', 'competitive', 'spend', 'met', 'stuck', 'rider', 'encounters', 'foxes', 'deer', 'woodpeckers', 'pecking', 'trees', 'watched', 'aware', 'maintenance', 'keeping', 'tank', 'size', 'maintaining', 'gravity', '024', 'gallon', 'powerhead', 'sump', 'protein', 'skimmer', 'piping', 'overflow', 'tablet', 'ipad', 'kindle', 'mini', 'judging', 'processor', 'bars', 'places', 'suburbs', 'wishing', 'birthday', 'gosh', 'conditioner', 'aquasafe', 'lazers', 'wang', 'recovering', 'accident', 'appear', 'feeling', 'comic', 'sci', 'movies', 'mount', 'laser', 'sights', 'removing', 'grip', 'grips', 'common', 'wangs', 'mounting', 'semi', 'automatic', 'newer', 'rail', 'built', 'receiver', 'shaft', 'sight', 'screws', 'budgies', 'breast', 'feeding', 'male', 'bisexual', 'properly', 'btw', 'canada', 'somebody', 'bunch', 'ye', 'temporary', 'usually', 'wifi', 'syrian', 'worried', 'firstly', 'hammie', 'stressed', 'thirdly', 'cge', 'ans', 'unsure', 'fujairah', 'dubai', 'gaming', 'console', 'ps3', 'kinect', 'ds', 'psp', 'typical', 'lifespan', 'seizure', 'indoor', 'cared', 'seldom', 'knew', 'sleep', 'aged', 'bonus', 'gaining', 'loosing', 'cockatiel', 'trust', 'losing', 'gesture', 'resorted', 'flock', 'predators', 'breyer', 'hi', 'fan', 'materials', 'miniature', 'model', 'kitten', 'biting', 'plays', 'figures', 'cruel', 'teething', 'yeah', 'mouth', 'sounded', 'worries', 'randomly', 'stopped', 'height', 'width', 'rats', 'higher', 'rather', 'wider', 'equal', 'length', 'taller', 'imo', 'bought', 'ebay', 'user', 'heating', 'corn', 'opinons', \"uth's\", 'burrowing', 'snakes', 'bottom', 'brunch', 'strongly', 'definately', 'meal', 'fabulous', 'toast', 'kennedy', 'ogden', 'exit', 'hubbard', 'corner', 'noble', 'titanic', 'nervous', 'movie', 'ships', 'perform', 'drill', 'leaving', 'dock', 'japan', 'obvious', 'tourist', 'spots', 'naha', 'temples', 'shrines', 'okinawa', 'speaking', 'conveyor', 'belt', 'sushi', 'restaurant', 'sake', 'nightlife', 'modern', 'brother', 'auto', 'semiautomatic', \"16's\", 'burst', 'function', 'jamming', 'alright', 'clog', 'zealand', 'holiday', 'christchurch', 'earthquakes', 'rotarua', 'hh', 'iguazu', 'studying', 'aboard', 'tend', 'treat', 'deliteful', 'parisians', 'lack', 'proper', 'manners', 'nobody', 'mediterranean', 'friendly', 'magical', 'mostly', 'staying', 'bta', 'romance', 'allowance', 'requirement', 'invention', 'scammers', 'fraud', 'centre', 'exists', 'tighten', 'pc', 'reproduce', 'married', 'compatible', 'pair', 'mate', 'encourage', 'dempseys', 'cichlid', 'breeding', 'aggressive', 'behavior', 'stops', 'spawn', 'eggs', 'cave', 'temp', '82', 'female', 'calico', 'peeing', 'soaking', 'somehow', 'underneath', 'scrub', 'remedies', 'urination', 'vomiting', 'breath', 'listlessness', 'meantime', 'apply', 'immigeration', '63', '67', 'minimunm', 'regular', 'permanent', 'residency', 'unfortunately', 'minimums', 'score', 'acts', 'candidates', 'minimum', 'ignored', 'mad', 'upset', 'gold', 'honey', 'crapload', 'visitor', 'automatically', 'medical', 'exam', 'passport', 'blood', 'embassies', 'professional', 'double', 'embassy', 'sussex', 'silkie', 'crossbred', 'mutt', 'chicken', 'features', 'silkies', 'dominate', 'recessive', 'rec', 'dom', 'genes', 'dilute', 'gene', 'darker', 'lighter', 'five', 'crosses', 'photos', 'girlfriend', 'nikon', 'd7000', 'distracting', 'elements', 'taste', 'shadow', 'customs', 'ireland', 'countryside', 'images', 'saw', 'charges', '70', 'mile', 'dehydrated', 'transport', 'destinations', 'cruises', 'possibility', 'customise', 'ports', 'caucasian', '1970s', 'addition', 'haight', 'basically', 'latin', 'illegals', 'counted', '80s', 'percent', 'chinese', 'migration', '90s', 'fewer', 'mexican', 'border', 'rabbits', 'chickens', 'rabbit', 'non', 'veg', 'delicate', 'diseases', 'echo', 'melt', 'brass', 'cast', 'propane', 'blower', 'burner', 'mikegigi', 'meltmetl', 'htm', 'towns', 'cafes', 'restaurants', 'halal', 'dartmouth', 'devon', 'whilst', 'consume', 'packed', 'bosnia', 'animal', 'cruelty', 'forbid', 'kosher', 'switzerland', 'netherlands', 'eu', 'dictate', 'convince', 'ball', 'python', 'pythons', 'knowledge', 'dude', 'mom', 'reptile', 'sympathy', 'insulting', 'tupperwear', 'tbh', 'humane', 'gay', 'village', 'fancy', 'wanting', 'bags', 'legally', 'shih', 'tzu', 'puppy', 'trouble', 'walking', 'leash', 'trainer', 'yrs', 'shoulder', 'harness', 'chew', 'obedience', 'ajay', 'guesthouse', 'travelled', 'twice', 'rooms', 'varanasi', 'taj', 'agra', 'sandeep', 'choice', 'pet', 'mice', 'guinea', 'pigs', 'stink', 'honest', 'degus', 'rat', 'incredibly', 'social', 'trainable', 'clean', 'cleaning', 'pairs', 'trios', 'bite', 'degu', 'potatos', 'toxic', 'fostering', 'kittens', 'hating', 'scratches', 'limit', 'flooring', 'boxes', 'cleaned', 'diarrhea', 'foster', 'coordinator', 'medication', 'deworming', 'claws', 'teeth', 'adults', 'volunteering', 'shelter', 'delay', 'certificate', 'registered', 'ontario', 'registration', 'northern', 'elsewhere', 'liked', 'specify', 'royal', 'carnival', 'caribbean', 'followings', 'aficionados', 'refuse', 'sail', 'differences', 'explore', 'variety', 'liberty', 'comedian', 'juggling', 'pools', 'slide', 'spa', 'loved', 'mariner', 'seas', 'treatment', 'cruiseline', 'regent', 'walmart', 'collage', 'saving', 'boston', 'philadelphia', 'sites', 'dc', 'nashville', 'birmingham', 'charlotte', 'numerous', 'foreign', 'seville', 'barcelona', 'valencia', 'bilboa', 'pamplona', 'guernica', 'dependent', 'territory', 'door', 'adopted', 'shepherd', 'crate', 'towards', 'willingly', 'command', 'patients', 'tosses', 'tricks', 'potty', 'till', 'recommendations', 'reliable', 'inexpensive', 'sinh', 'cafe', 'satisfied', 'party', 'clubs', 'confused', 'buses', 'boss', 'yoga', 'freakin', 'leg', 'relaxing', 'alot', 'thigh', 'bareback', 'ya', 'bother', 'gastroenteritis', 'diarheya', 'vomit', 'normal', 'radiographs', 'nausea', 'seen', 'boiled', 'rice', 'ailment', \"20's\", 'relationship', 'nicer', 'articles', 'contrary', 'fallen', 'victim', 'cultural', 'trap', 'christiane', 'misunderstanding', 'chances', 'false', 'zealander', 'undergraduate', 'applied', 'scholarship', 'obviously', 'melodramatic', 'gasps', 'prostitute', 'saying', 'bed', 'annoying', 'accents', 'australia', 'racked', 'overseas', 'racking', 'nz', 'worked', 'hunger', '700', 'advertised', 'known', 'networking', 'king', 'crawls', 'eaten', 'tiny', 'pencil', 'pinkies', 'eating', 'natural', 'instinct', 'hibernate', 'shedding', 'dull', 'shed', 'suitable', 'eats', 'fifteen', 'solved', 'hiss', 'apart', 'goal', 'tet', 'offensive', 'troops', 'defeat', 'arvn', 'rushed', 'counterattacked', 'ultimate', 'rallied', 'communists', 'screwed', 'accepting', 'offered', 'emancipate', 'failure', 'unpalatable', 'succeeded', 'google', 'bearded', 'dragon', 'juvenile', 'crickets', 'uvb', 'reproduced', 'fluorescent', 'lighting', 'thermometer', 'leafy', 'veggies', 'kale', 'spinach', 'finch', 'y', 'thx', 'christmas', 'ended', 'zebra', 'finches', 'chirping', 'tired', 'messy', 've', 'tame', 'tamed', 'touched', 'parakeets', 'adorable', 'personality', 'choosing', 'stripes', 'hair', 'stipes', 'balding', 'feathers', 'pink', 'brown', 'yellow', 'honestly', 'couch', 'finger', 'gently', 'hit', 'yell', 'quiet', 'named', 'cookie', 'sister', 'rain', 'county', 'worst', 'southeast', 'driest', 'enjoying', 'continental', 'assumptions', 'spring', 'festivities', 'patrick', 'festival', 'waterproof', 'clothing', 'footwear', 'essential', 'umbrella', 'dublin', 'bbq', 'occasions', 'realise', 'particular', 'killifish', 'colorful', 'cm', 'colourful', 'earthworms', 'uncut', 'everyday', 'acrylic', 'spawning', 'mop', 'separated', 'nourishing', 'produce', 'nicks', 'dings', 'fins', 'incubation', 'chlorine', 'ammonia', 'choramine', 'mineral', 'aplo', 'lineatus', 'indicates', 'thrive', 'chemistries', 'minerals', 'consequence', 'suffocate', 'shipping', 'container', 'methylene', 'grist', 'disney', 'yr', 'olds', 'tips', 'holidaying', 'filled', 'rejuvenating', 'memorable', 'designed', 'thematically', 'imposing', 'animated', 'cartoon', 'characters', 'magic', 'comforts', 'travelers', 'spacious', 'furnished', 'neatly', 'decorated', 'uniquely', 'marvelously', 'offers', 'eatables', 'deliciously', 'delicious', 'shores', 'regions', 'imposingly', 'theme', 'parks', 'types', 'entertainment', 'relax', 'rejuvenate', 'offering', 'booking', 'facility', 'affordable', 'avoid', 'onboard', 'magnet', 'magnetic', 'whiteboard', 'cabin', 'illustrated', 'describing', 'consistently', 'gained', 'pounds', 'farrier', 'father', 'insight', 'switched', 'coffee', 'habit', 'epm', 'dealt', 'lame', 'owner', 'dentist', 'gant', 'flank', 'topline', 'muscle', 'afford', 'wobblers', 'willing', 'chiro', 'rideable', 'saddle', 'pain', 'looked', 'studies', 'treating', 'acupuncture', 'alternative', 'therapies', 'hauled', 'windsor', 'returned', 'racing', 'lifetime', 'causing', 'atrophy', 'slight', 'stroke', 'knows', 'rude', 'insensitive', 'discourteous', 'wedding', 'impressed', 'cj', 'imagined', 'ants', 'myself', 'location', 'neighbors', 'dropped', 'lynda', 'compassion', 'garage', 'doors', 'happier', 'super', 'cold', 'serve', 'fast', 'lab', 'coats', 'lftd', 'weekends', 'infant', 'content', 'fantastic', 'lasted', 'faris', 'edmark', 'rover', 'sport', 'rear', 'tints', 'beer', 'store', 'verizon', 'dupont', 'unbeatable', 'wisdom', 'wallen', 'procedure', 'insurance', 'procedures', 'tattoos', 'revived', 'artwork', 'shop', 'tattoo', 'cathy', 'stars', 'lake', 'tots', 'postive', 'wine', 'tastings', 'opposite', 'quiktrip', 'crappy', 'recieve', 'awesome', 'haircut', 'palatine', 'towel', 'straight', 'edge', 'shave', 'baffled', 'loving', 'wok', 'cooked', 'chefs', 'comfort', 'starbucks', 'assembly', 'te', 'rest', 'anywhere', 'camper', 'decent', 'cup', 'burnt', 'bitter', 'sugar', 'milk', 'mask', 'westfield', 'rt', 'brick', 'ikea', 'furniture', 'qwest', 'dsl', 'lowest', 'lease', '129', 'tmobile', 'sweets', 'delicous', \"l'espalier\", 'discounted', 'beauty', 'household', 'appliances', 'daughter', 'ballet', 'instep', 'notch', 'loyal', 'crust', 'broad', 'coupon', 'pennysaver', 'grills', 'retarded', 'complaining', 'severe', 'toothache', 'dentists', 'fernandina', 'amelia', 'gentle', 'dentistry', 'chester', 'feels', 'springfield', 'il', 'funeral', 'kansas', 'refrigerator', 'brought', 'le', 'petit', 'nails', 'promise', 'disappointed', 'chocolate', 'lava', 'cake', 'retracted', 'hcc', 'kusal', 'goonewardena', 'physios', 'unbelievable', 'vigor', 'improved', 'happened', 'whim', 'server', 'attentive', 'flavorful', 'enjoyable', 'choppy', 'bull', 'nurses', 'sweet', 'pie', 'healing', 'buck', 'brainer', 'choose', 'pros', 'dingy', 'dirty', 'bike', 'fixeded', 'thumpstar', 'wase', 'gear', 'thaks', 'reccommend', 'suspect', 'failing', 'management', 'struggling', 'fond', 'memories', 'ham', 'hire', 'quickly', 'windows', 'closing', 'forgot', 'trainers', 'min', 'whenever', 'writer', 'printers', 'joule', 'gang', 'exceed', 'nasty', 'maids', 'satisfactory', 'sercvice', 'clothes', 'spoil', 'princess', 'largest', 'chandeliers', 'antiques', 'vintage', 'contemporary', 'repair', 'restoration', 'someplace', 'ribs', 'ordered', 'moo', 'shu', 'pork', 'disappointment', 'iowa', 'soul', 'presented', 'sum', 'penny', 'polite', 'dustin', 'feverishly', 'exhaust', 'motor', 'replaced', 'rhino', 'grizzly', 'department', 'blows', 'dreams', 'reality', 'bea', 'esp', 'mole', 'tortilla', 'soup', 'guacamole', 'complaint', 'queso', 'watery', 'vomited', 'poor', 'skylight', 'horrible', 'wind', 'blew', 'satisfaction', 'tricky', 'rental', 'raina', 'gift', 'chili', 'relleno', 'batter', 'mixed', 'tempura', 'shrimp', 'vegetable', 'salad', 'dine', 'cesar', 'gracie', 'ufc', 'jiu', 'jitsu', 'mma', 'toyota', 'absoulutely', 'reccomend', 'hospitality', 'cars', 'claimed', 'drives', 'cajunish', 'meadowrun', 'nightmare', 'locally', 'bites', 'baltimore', 'apps', 'entree', '07', 'dining', 'interviewed', 'thankful', 'puppies', 'breeder', 'bar', 'que', 'sauce', 'checked', 'napkins', 'buys', 'chao', 'knowledgeable', 'gentel', 'preserve', 'meticulous', 'smile', 'emissions', 'manson', 'pretense', 'reasonably', 'priced', 'selections', 'tasting', 'seriously', 'willow', 'lounge', 'ipanema', 'threw', 'surprise', 'fraiser', 'building', 'caught', 'furnishings', 'accessories', 'colorado', 'flips', 'sucks', 'ignorant', 'compeltly', 'dissatisfied', 'advanced', 'meanest', 'uneven', 'rediculous', 'supercuts', 'favor', 'establishment', 'shame', 'branford', 'disgusting', 'adequate', 'phenomenal', 'lopsided', 'thicker', 'hole', 'slices', 'minimal', 'cheese', 'lacked', 'flavor', 'pizza', 'complete', 'utter', 'sales', 'patience', 'kindness', 'tasted', 'odd', 'flipped', 'square', 'riddled', 'mold', 'clerk', 'considerable', 'providence', 'aesthetics', 'jana', 'kueck', 'music', 'art', 'hesitate', 'roofing', 'recommended', 'van', 'mysterys', 'valet', 'apartments', 'roadside', 'towed', 'vehicle', 'sussman', 'kia', 'pleasant', 'dealer', 'bringing', 'eatting', 'amaze', 'grill', 'dishes', 'ta', 'juno', 'atmosphere', 'kid', 'amore', 'arancini', 'di', 'riso', 'risotto', 'fritters', 'towing', 'solana', 'vibe', 'impeccable', 'janice', 'alta', 'moda', 'suck', 'genius', 'talent', 'layout', 'learning', 'italiano', 'nissan', 'dealship', 'nw', 'er', 'nurse', 'seekers', 'attended', 'jolla', 'residential', 'mistake', 'tasteless', 'host', 'upcoming', 'converted', 'hino', 'contributions', 'awards', 'leader', 'dandenong', 'pma', 'medium', 'anthony', 'bronze', 'excellence', 'brendan', 'bottles', 'photographer', 'hesitation', 'peddle', 'rescheduling', 'chose', 'hang', 'rip', 'excuse', 'estimate', 'gem', 'immaculately', 'authentic', 'cuban', 'cuisine', 'ingredients', 'expertly', 'seasoned', 'compassionate', 'approachable', 'personalized', 'counseling', 'nonjudgmental', 'veraakulov', 'preferred', 'provider', 'petting', 'gracee', 'minute', 'calls', 'punctual', 'enthusiastic', 'nonexistent', 'unorganized', 'exile', 'longest', 'lasting', 'punk', 'richmond', 'shopping', 'environmentally', 'conscious', 'heavily', 'angry', 'lobster', 'landlord', 'buckingham', 'condominiums', 'townhouse', 'exterminator', 'experienced', 'leaves', 'desired', 'wildernest', 'occasional', 'deck', 'mingle', 'wildlife', 'kathy', 'stewart', 'proprietors', 'epitome', 'delightful', 'hospitable', 'superb', 'restored', 'mechanics', 'kitchen', 'preparing', 'breakfasts', 'waiters', 'licking', 'bowel', 'holly', 'truely', 'hairstylist', 'welcoming', 'highlights', 'blowdry', 'compliments', 'deffenitly', 'salon', 'finest', 'magnificent', 'shape', 'astounding', 'owners', 'entertaining', 'gracious', 'farms', 'mahal', 'debit', 'transformational', 'coach', 'bramen', 'honda', 'hassle', 'brickell', 'frontier', 'cracked', 'manifold', 'mechanic', 'nail', 'shady', 'jerk', 'attitude', 'inexperienced', 'prideful', 'researching', 'vets', 'written', 'untrue', 'ghassemlou', 'learned', 'afterward', 'fused', 'unbelievably', 'kim', 'cheveux', 'quaint', 'felt', 'hostess', 'stand', 'unprofessional', 'jerks', 'carless', 'neeeeeeeeeverrrr', 'conditioned', 'students', 'argue', 'complex', '90', 'tenants', 'smokers', 'smoke', 'regulars', 'hotpot', 'traffic', 'bloody', 'chrisssake', 'christian', 'churchy', 'grandure', 'robe', \"'60s\", 'heck', 'becuse', 'broken', 'fair', 'johnette', 'responsiveness', '2010', 'picky', 'eaters', 'orderd', 'meals', 'chimichangas', 'jalapeno', 'borritos', 'quesadillas', 'bland', 'spice', 'tables', 'empty', 'fidelity', 'leasing', 'joke', 'whatsoever', 'misinform', 'misrepresent', 'excuses', 'confuse', 'holders', 'misinformation', 'ifa', 'assh', 'loud', 'safety', 'equipped', 'gym', 'jose', 'contractors', 'remodel', 'pressured', 'mann', 'beloved', 'kitty', 'itemized', 'disposal', 'fee', 'waited', 'mins', 'chain', 'slipped', 'lucky', 'adopt', 'frustrating', '230', 'ammount', 'wasted', 'elevated', 'promised', 'advertising', 'boot', 'tile', 'remodeling', 'certified', 'owned', 'bmw', 'dealership', 'driving', 'highway', 'seal', 'soda', 'ohm', 'grow', 'sierra', 'stylist', 'wavy', 'trio', 'hills', 'warn', 'grocery', '5000', 'challenging', 'managing', 'pos', 'counter', 'barcoding', 'fusionretail', 'maintain', 'organised', 'resolved', 'cayuga', 'lewiston', 'gentleman', 'foot', 'cuticles', 'pedicure', 'stretch', 'andrew', 'infertility', 'herbs', 'suspicious', 'glowing', 'yards', 'brewery', 'sampler', 'ipa', 'brawler', 'stout', 'esa', 'philly', 'negative', 'abou', 'parking', 'cruze', 'mpg', 'miles', '9000', 'purchace', 'vic', 'canever', 'grandparents', 'passed', 'professionally', 'names', 'greeter', 'reasons', 'instructor', 'studio', 'karma', 'manifest', 'marginal', 'focused', 'entertained', 'dental', 'discomfort', 'courage', 'muster', 'considered', 'rocky', 'lange', 'retired', 'routine', 'ingrown', 'toenail', '483', 'payments', 'reversed', 'reversal', 'billing', '1000', 'postcards', 'thieves', 'falls', 'catagory', 'rigged', 'somethin', 'popped', 'pumpkin', 'latte', 'break', 'stationery', 'goodness', 'printing', 'overpriced', 'ltake', 'premier', 'university', 'virginia', 'fhs', 'rutgers', 'ranked', 'pharmacy', 'motel', 'chill', 'regret', 'slice', 'forsyth', 'selection', 'meats', 'sauces', 'cookies', 'cakes', 'craving', 'loss', 'liau', 'talks', 'cares', 'confident', 'wearing', 'bathing', 'suit', 'bowtie', 'nicely', 'theatre', 'ads', 'previews', 'feature', 'cinema', 'jean', 'hyundai', 'genesis', 'quoted', 'inclusive', 'grinder', 'inserts', '260', 'suspects', 'reviewer', 'laundry', 'necessarily', 'clock', 'ensure', 'scoop', 'serivce', 'fuse', '2007', 'alarms', 'audio', 'visual', 'passion', 'eather', 'realy', 'wrapping', 'totalling', '212', 'ted', 'curtains', 'rudeness', 'smoked', 'smoking', 'reception', 'responded', 'alerted', 'emailed', 'mackinaw', 'devoid', 'nyc', 'glasgow', 'grail', 'crushed', 'pepper', 'oregano', 'flew', 'waitress', 'visiting', 'mia', 'seats', '2009', 'mezza', \"luna's\", 'deffly', 'healthier', 'prolly', 'luna', 'crushing', 'negotiation', 'fiance', 'identity', 'stolen', 'luckily', 'crooks', 'hookers', 'spaces', 'cooper', 'bugs', 'falling', 'oily', 'greasy', 'thinks', 'kiss', 'silly', 'experiences', 'chef', 'miracles', '21st', 'offices', 'traveled', 'resturant', 'usally', 'promptly', 'portions', 'generous', 'amazes', 'personable', 'unheard', 'intruders', 'slit', 'helped', 'conditioning', 'approx', 'compressor', 'nope', 'stood', 'bench', 'picked', 'sooo', 'locker', 'cape', 'fitness', 'obligated', 'ridiculous', 'celebrity', 'derrick', '400', 'jaw', 'receptionist', 'cried', 'accountant', 'lower', 'rating', 'lose', 'drawer', 'limbo', 'bedroom', 'conquer', 'confidently', 'egg', 'tastes', 'strzalka', 'flagship', 'cvts', '2008', 'proxy', 'stone', 'inoperable', 'warwick', 'jersey', '1701', 'locust', 'township', 'walnut', '17th', 'phantom', 'innkeeper', 'arrival', 'cans', 'trash', 'bath', 'stall', 'mildew', 'kitchens', 'laffa', 'hummus', 'tells', 'semifreddo', 'brides', 'detective', 'uhh', 'shops', 'transparent', 'shredded', 'tire', '<oov>']\n",
            "Length of vocab: 5896\n"
          ],
          "name": "stdout"
        }
      ]
    },
    {
      "metadata": {
        "id": "H0I4O-_0Eswc",
        "colab_type": "code",
        "outputId": "3816ed85-2d00-483f-d0a4-b870cc26c0b1",
        "colab": {
          "base_uri": "https://localhost:8080/",
          "height": 55
        }
      },
      "cell_type": "code",
      "source": [
        "character_dict = wtoi\n",
        "print(character_dict)"
      ],
      "execution_count": 8,
      "outputs": [
        {
          "output_type": "stream",
          "text": [
            "{'<eos>': 0, 'the': 1, 'third': 2, 'was': 3, 'being': 4, 'run': 5, 'by': 6, 'head': 7, 'of': 8, 'an': 9, 'investment': 10, 'firm': 11, 'you': 12, 'wonder': 13, 'if': 14, 'he': 15, 'manipulating': 16, 'market': 17, 'with': 18, 'his': 19, 'bombing': 20, 'targets': 21, 'guerrillas': 22, 'killed': 23, 'engineer': 24, 'asi': 25, 'ali': 26, 'from': 27, 'tikrit': 28, 'mother': 29, 'also': 30, 'in': 31, 'attack': 32, 'commission': 33, 'said': 34, 'it': 35, 'had': 36, 'no': 37, 'legal': 38, 'grounds': 39, 'for': 40, 'such': 41, 'exclusion': 42, 'this': 43, 'item': 44, 'is': 45, 'a': 46, 'small': 47, 'one': 48, 'and': 49, 'easily': 50, 'missed': 51, 'but': 52, 'my': 53, 'view': 54, 'highly': 55, 'significant': 56, 'situation': 57, 'iraq': 58, 'only': 59, 'going': 60, 'to': 61, 'get': 62, 'better': 63, 'way': 64, 'someone': 65, 'committed': 66, 'crime': 67, 'against': 68, 'humanity': 69, 'prosecute': 70, 'person': 71, 'team': 72, 'court': 73, 'managed': 74, 'take': 75, 'deposition': 76, 'before': 77, 'died': 78, 'trial': 79, 'begins': 80, 'again': 81, 'nov': 82, '28': 83, 'there': 84, 'has': 85, 'been': 86, 'talk': 87, 'that': 88, 'night': 89, 'curfew': 90, 'might': 91, 'be': 92, 'implemented': 93, 'over': 94, '300': 95, 'iraqis': 96, 'are': 97, 'reported': 98, 'dead': 99, '500': 100, 'wounded': 101, 'fallujah': 102, 'alone': 103, 'al': 104, 'iraqiyah': 105, 'tv': 106, 'icdc': 107, 'were': 108, 'controlling': 109, 'ramadi': 110, 'now': 111, 'can': 112, 'tour': 113, 'chernobyl': 114, 'write': 115, 'your': 116, 'own': 117, 'story': 118, 'not': 119, 'post': 120, 'about': 121, 'fault': 122, 'finding': 123, 'or': 124, 'assigning': 125, 'blame': 126, 'lot': 127, 'learn': 128, 'wealth': 129, 'references': 130, 'on': 131, 'read': 132, 'some': 133, 'following': 134, 'links': 135, 'draw': 136, 'conclusions': 137, 'remember': 138, 'old': 139, 'shoe': 140, 'sizing': 141, 'machines': 142, 'form': 143, 'radiation': 144, 'xray': 145, 'care': 146, 'friend': 147, 'tape': 148, 'signal': 149, 'priorities': 150, 'should': 151, 'continue': 152, 'defanged': 153, 'we': 154, 'need': 155, 'fdr': 156, 'ronald': 157, 'reagan': 158, 'let': 159, \"'s\": 160, 'just': 161, 'seminal': 162, 'bush': 163, 'moment': 164, '1999': 165, \"'\": 166, 'fails': 167, 'reporter': 168, 'pop': 169, 'quiz': 170, 'international': 171, 'web': 172, 'posted': 173, 'at': 174, '3': 175, '29': 176, 'p': 177, 'm': 178, 'est': 179, '2029': 180, 'gmt': 181, 'could': 182, 'name': 183, 'others': 184, 'general': 185, 'who': 186, 'charge': 187, 'pakistan': 188, 'wait': 189, '50': 190, 'questions': 191, 'asked': 192, 'spokesman': 193, 'president': 194, 'clinton': 195, 'criticized': 196, 'comments': 197, 'i': 198, 'do': 199, \"n't\": 200, 'see': 201, 'doing': 202, 'any': 203, 'have': 204, 'they': 205, 'however': 206, 'actually': 207, 'weakened': 208, 'israeli': 209, 'security': 210, 'saddam': 211, 'never': 212, 'did': 213, 'anything': 214, 'practical': 215, 'help': 216, 'palestinians': 217, 'allow': 218, 'palestinian': 219, 'radicals': 220, 'launch': 221, 'operations': 222, 'israel': 223, 'its': 224, 'ramshackle': 225, 'army': 226, 'virtually': 227, 'collapsed': 228, 'american': 229, 'invasion': 230, '2003': 231, 'reestablished': 232, 'their': 233, 'historical': 234, 'lebanese': 235, 'iranian': 236, 'shiites': 237, 'anger': 238, 'spread': 239, 'throughout': 240, 'muslim': 241, 'world': 242, 'including': 243, 'daily': 244, 'star': 245, 'publishes': 246, 'commentary': 247, 'agreement': 248, 'agence': 249, 'too': 250, 'failed': 251, 'colombo': 252, 'seems': 253, 'intractable': 254, 'position': 255, '1': 256, '200': 257, 'indian': 258, 'soldiers': 259, 'during': 260, 'phase': 261, 'conflict': 262, 'distinction': 263, 'gone': 264, 'united': 265, 'states': 266, 'all': 267, 'know': 268, 'john': 269, 'kerry': 270, 'served': 271, 'vietnam': 272, 'click': 273, 'here': 274, 'source': 275, 'flying': 276, 'supersonic': 277, 'fighter': 278, 'jets': 279, 'dangerous': 280, 'anybody': 281, 'facts': 282, 'fall': 283, 'dems': 284, 'spin': 285, 'n': 286, 't': 287, 'show': 288, 'up': 289, 'duty': 290, 'alabama': 291, 'daddy': 292, 'got': 293, 'him': 294, 'future': 295, 'joined': 296, 'guard': 297, 'may': 298, '1968': 299, 'almost': 300, 'immediately': 301, 'began': 302, 'extended': 303, 'period': 304, 'training': 305, 'fifty': 306, 'three': 307, 'weeks': 308, 'flight': 309, 'twenty': 310, 'interceptor': 311, 'full': 312, 'time': 313, 'work': 314, 'nearly': 315, 'two': 316, 'years': 317, 'as': 318, 'accumulated': 319, 'points': 320, 'toward': 321, 'national': 322, 'service': 323, 'requirements': 324, 'earned': 325, '340': 326, '1969': 327, '1970': 328, '137': 329, '1971': 330, '112': 331, '1972': 332, 'fact': 333, 'helping': 334, 'them': 335, 'solve': 336, 'problem': 337, 'then': 338, 'request': 339, 'given': 340, 'permission': 341, 'go': 342, 'received': 343, 'high': 344, 'marks': 345, 'pilot': 346, 'much': 347, 'perhaps': 348, 'someday': 349, 'will': 350, 'release': 351, 'more': 352, 'military': 353, 'records': 354, 'well': 355, 'byron': 356, 'york': 357, 'white': 358, 'house': 359, 'correspondent': 360, 'review': 361, 'column': 362, 'appears': 363, 'hill': 364, 'each': 365, 'week': 366, 'many': 367, 'voting': 368, 'centres': 369, 'already': 370, 'successfully': 371, 'attacked': 372, 'destroyed': 373, 'areas': 374, 'doubt': 375, 'outcome': 376, 'though': 377, 'support': 378, 'base': 379, 'larger': 380, 'than': 381, 'what': 382, 'resistance': 383, 'commonsense': 384, 'solution': 385, 'sunni': 386, 'contend': 387, 'elections': 388, 'impossible': 389, 'hold': 390, 'under': 391, 'occupation': 392, 'revolt': 393, 'took': 394, 'suppressed': 395, 'republican': 396, 'shia': 397, 'live': 398, 'without': 399, 'sunnis': 400, 'vice': 401, 'versa': 402, 'first': 403, 'hid': 404, 'thought': 405, 'us': 406, 'government': 407, 'looking': 408, 'me': 409, 'hide': 410, 'less': 411, 'ca': 412, 'imagine': 413, 'wanted': 414, 'posada': 415, 'meiring': 416, 'ask': 417, 'terry': 418, 'nichols': 419, 'philippines': 420, 'so': 421, 'instead': 422, 'held': 423, 'indefinitely': 424, 'comfortable': 425, 'custody': 426, 'embarrassment': 427, 'case': 428, 'threatens': 429, 'consensus': 430, 'fiction': 431, 'war': 432, 'terror': 433, 'remain': 434, 'unspoken': 435, 'seem': 436, 'recall': 437, 'object': 438, 'smuggle': 439, 'explosives': 440, 'same': 441, 'ole': 442, 'charles': 443, 'briggs': 444, 'came': 445, 'rescue': 446, 'looks': 447, 'like': 448, 'rearing': 449, 'louisianna': 450, 'former': 451, 'pastor': 452, 'deputy': 453, 'implicated': 454, 'church': 455, 'child': 456, 'sex': 457, 'relate': 458, 'really': 459, 'thinking': 460, 'enjoy': 461, 'reading': 462, 'blog': 463, 'good': 464, 'ã³l': 465, 'ai': 466, 'nt': 467, 'used': 468, 'please': 469, 'check': 470, 'out': 471, 'dog': 472, 'los': 473, 'angeles': 474, 'online': 475, 'pretty': 476, 'covers': 477, 'dating': 478, 'stuff': 479, \"'ll\": 480, 'sure': 481, 'come': 482, 'back': 483, 'hey': 484, 'love': 485, 'advice': 486, 'site': 487, 'searching': 488, 'food': 489, 'info': 490, 'found': 491, 'hard': 492, 'how': 493, 'pass': 494, 'least': 495, 'taking': 496, 'look': 497, 'recent': 498, 'months': 499, 'fallibility': 500, 'become': 501, 'evident': 502, 'drugs': 503, 'arms': 504, 'travel': 505, 'directions': 506, 'unknown': 507, 'new': 508, 'delhi': 509, 'intelligence': 510, 'lackluster': 511, 'performance': 512, 'dealing': 513, 'ltte': 514, 'startling': 515, 'six': 516, 'crew': 517, 'members': 518, 'arakan': 519, 'region': 520, 'myanmar': 521, 'boat': 522, 'heading': 523, 'cox': 524, 'bazar': 525, 'bangladesh': 526, 'subsequently': 527, 'phuket': 528, 'became': 529, 'main': 530, 'backup': 531, 'writes': 532, 'aakrosh': 533, 'india': 534, 'defense': 535, 'tied': 536, 'quarterly': 537, 'journal': 538, 'both': 539, 'afghanistan': 540, 'deny': 541, 'claim': 542, 'where': 543, 'mullah': 544, 'omar': 545, 'usmani': 546, 'gulbuddin': 547, 'hikmetar': 548, 'flustered': 549, 'musharraf': 550, 'karzai': 551, 'clearly': 552, 'pleased': 553, 'results': 554, 'until': 555, 's': 556, 'options': 557, 'open': 558, 'pakistani': 559, 'officials': 560, 'insist': 561, 'decision': 562, 'unconnected': 563, 'tripartite': 564, 'meeting': 565, 'visible': 566, 'signs': 567, 'crackdown': 568, 'side': 569, 'senior': 570, 'diplomats': 571, 'warned': 572, 'barno': 573, 'insists': 574, 'presence': 575, 'poses': 576, 'threat': 577, 'iran': 578, 'taliban': 579, 'living': 580, 'voted': 581, 'eyewitnesses': 582, 'lying': 583, 'lived': 584, 'zone': 585, 'logic': 586, 'medal': 587, 'saved': 588, 'man': 589, 'life': 590, 'while': 591, 'fire': 592, 'youth': 593, 'temper': 594, 'enjoyed': 595, 'governor': 596, 'watching': 597, 'executions': 598, 'whether': 599, 'awol': 600, 'stint': 601, 'unclear': 602, 'ms': 603, 'baba': 604, 'groom': 605, 'campaign': 606, 'worker': 607, 'would': 608, 'wear': 609, 'khaki': 610, 'trousers': 611, 'jacket': 612, 'always': 613, 'ready': 614, 'road': 615, 'phone': 616, 'hear': 617, 'accent': 618, 'melded': 619, 'everybody': 620, 'prominent': 621, 'southern': 622, 'republicans': 623, 'something': 624, 'rare': 625, 'breed': 626, 'those': 627, 'days': 628, 'dated': 629, 'beautiful': 630, 'young': 631, 'woman': 632, 'working': 633, 'went': 634, 'evenings': 635, 'unusual': 636, 'frankly': 637, 'inappropriate': 638, 'laugh': 639, 'goodwyn': 640, 'dutifully': 641, 'notes': 642, 'george': 643, 'telling': 644, 'drunk': 645, 'stories': 646, 'trying': 647, 'buddy': 648, 'archibald': 649, 'impress': 650, 'our': 651, 'crisis': 652, 'republic': 653, 'danger': 654, 'when': 655, 'cities': 656, 'burning': 657, 'flesh': 658, 'death': 659, 'search': 660, 'vain': 661, 'find': 662, 'law': 663, 'abiding': 664, 'end': 665, 'bob': 666, 'thread': 667, 'ri': 668, 'discussion': 669, 'board': 670, 'four': 671, 'planeloads': 672, 'vanished': 673, 'these': 674, 'weapons': 675, 'missing': 676, 'terrifying': 677, 'prospect': 678, 'concerns': 679, 'siphoned': 680, 'off': 681, 'snap': 682, 'statement': 683, 'robinson': 684, 'conviction': 685, 'victims': 686, 'witnesses': 687, 'stay': 688, 'silent': 689, 'nothing': 690, 'changes': 691, 'murder': 692, 'weapon': 693, 'letter': 694, 'opener': 695, 'police': 696, 'prosecutors': 697, 'tools': 698, 'still': 699, 'domain': 700, 'sent': 701, 'congress': 702, 'yet': 703, 'enforcement': 704, 'having': 705, 'tracking': 706, 'mechanism': 707, 'place': 708, \"'m\": 709, 'kind': 710, 'thing': 711, 'goes': 712, 'return': 713, 'regularly': 714, 'scheduled': 715, 'programming': 716, 'simply': 717, 'count': 718, '14': 719, 'explosive': 720, 'headlines': 721, 'funny': 722, 'things': 723, 'squirelled': 724, 'away': 725, 'meaning': 726, 'husbands': 727, 'marry': 728, 'mothers': 729, 'teen': 730, 'daughters': 731, 'fumarase': 732, 'deficiency': 733, 'kingston': 734, 'family': 735, 'charged': 736, 'forced': 737, 'marriage': 738, 'beating': 739, 'lost': 740, 'stop': 741, 'juicy': 742, 'profits': 743, 'evaporate': 744, 'milking': 745, 'incompetence': 746, 'angle': 747, 'another': 748, 'big': 749, 'whoopsie': 750, 'daisy': 751, 'huh': 752, 'outsourcing': 753, 'special': 754, 'ops': 755, 'group': 756, 'country': 757, 'deserves': 758, 'leaders': 759, 'friends': 760, 'boast': 761, 'mujahedeen': 762, 'affair': 763, 'visits': 764, 'allowed': 765, 'thursday': 766, 'nights': 767, 'fridays': 768, 'children': 769, 'schools': 770, 'particularly': 771, 'france': 772, 'brainwash': 773, 'control': 774, 'sploid': 775, 'com': 776, 'cited': 777, 'topic': 778, 'priest': 779, 'jimmy': 780, 'plant': 781, 'blogshares': 782, 'fantasy': 783, 'blogosphere': 784, 'trading': 785, 'game': 786, 'pretend': 787, 'money': 788, 'makes': 789, 'satan': 790, 'comparison': 791, 'okay': 792, 'partly': 793, 'strippers': 794, 'dope': 795, 'around': 796, 'put': 797, 'information': 798, 'nature': 799, 'hates': 800, 'void': 801, 'chants': 802, 'suicide': 803, 'morality': 804, 'detect': 805, 'hissing': 806, 'lisp': 807, 'serpent': 808, 'article': 809, 'deathly': 810, 'inversion': 811, 'truth': 812, 'ala': 813, 'satanism': 814, 'irony': 815, 'long': 816, 'simple': 817, 'clear': 818, 'cut': 819, 'quote': 820, 'coogan': 821, 'question': 822, 'often': 823, 'perfectly': 824, 'am': 825, 'must': 826, 'getting': 827, 'parents': 828, 'refused': 829, 'accept': 830, \"'re\": 831, 'inseparable': 832, 'says': 833, 'everything': 834, 'lie': 835, 'above': 836, 'why': 837, 'even': 838, 'credit': 839, 'claims': 840, 'german': 841, 'expressionist': 842, 'movement': 843, 'result': 844, 'nordau': 845, 'co': 846, 'founder': 847, 'zionist': 848, 'organization': 849, 'does': 850, 'reappropriation': 851, 'lead': 852, 'originate': 853, 'accurate': 854, 'valid': 855, 'enemy': 856, 'point': 857, 'state': 858, 'balance': 859, '2004': 860, 'after': 861, '000': 862, 'guns': 863, 'numbers': 864, 'load': 865, '99': 866, 'tonnes': 867, 'probably': 868, '20': 869, 'therefore': 870, 'think': 871, 'reporting': 872, 'town': 873, 'susan': 874, 'polk': 875, 'lo': 876, 'behold': 877, 'mormons': 878, 'booth': 879, 'men': 880, 'delivering': 881, 'mormon': 882, 'genealogy': 883, 'program': 884, 'amazed': 885, 'spiel': 886, 'delivered': 887, 'kindly': 888, 'utterly': 889, 'programmed': 890, 'brain': 891, 'painful': 892, 'watch': 893, 'anyone': 894, 'purportedly': 895, 'ahmadinejad': 896, 'verified': 897, 'america': 898, 'condition': 899, 'dire': 900, 'dark': 901, 'deep': 902, 'important': 903, 'kos': 904, 'diary': 905, 'response': 906, 'gathering': 907, 'storm': 908, 'scandals': 909, 'revoke': 910, 'executive': 911, 'order': 912, '13011': 913, 'today': 914, 'fri': 915, '12': 916, '2006': 917, '08': 918, '27': 919, '46': 920, 'pm': 921, 'scanning': 922, 'whitehouse': 923, 'gov': 924, 'noticed': 925, 'believe': 926, 'serious': 927, 'metal': 928, 'fans': 929, 'frequent': 930, 'example': 931, 'system': 932, 'crowleyan': 933, 'thelema': 934, 'alchemical': 935, 'process': 936, 'supposed': 937, 'initially': 938, 'appropriation': 939, 'shall': 940, 'censor': 941, 'works': 942, 'poet': 943, 'baudelaire': 944, 'artists': 945, 'tronicus': 946, 'checking': 947, 'real': 948, 'literalist': 949, 'fundamentalists': 950, 'religion': 951, 'sub': 952, 'cultures': 953, 'lable': 954, 'implies': 955, 'develope': 956, 'vacuum': 957, 'mixing': 958, 'militarism': 959, 'whole': 960, 'other': 961, 'thanks': 962, 'nick': 963, 'keck': 964, 'passing': 965, 'along': 966, 'via': 967, 'e': 968, 'mail': 969, 'very': 970, 'worthwhile': 971, 'eye': 972, 'touch': 973, 'upon': 974, 'aside': 975, 'immediate': 976, 'neighborhood': 977, 'element': 978, 'potent': 979, 'psychological': 980, 'direct': 981, 'impact': 982, 'relatively': 983, 'minor': 984, 'september': 985, '11': 986, 'quantitatively': 987, 'lethal': 988, 'fuss': 989, 'killings': 990, 'shown': 991, 'television': 992, 'great': 993, 'detail': 994, 'penetrated': 995, 'western': 996, 'arrange': 997, 'best': 998, 'airport': 999, 'behind': 1000, 'murders': 1001, 'true': 1002, 'fanatic': 1003, 'religious': 1004, 'beliefs': 1005, 'moslem': 1006, 'preacher': 1007, 'ever': 1008, 'blown': 1009, 'himself': 1010, 'relative': 1011, 'influential': 1012, 'done': 1013, 'interested': 1014, 'benefits': 1015, 'heaven': 1016, 'poverty': 1017, 'despair': 1018, 'poorest': 1019, 'far': 1020, 'africa': 1021, 'desperation': 1022, 'provide': 1023, 'reconnaissance': 1024, 'transportation': 1025, 'understands': 1026, 'russia': 1027, 'beginning': 1028, 'understand': 1029, 'humble': 1030, 'opinion': 1031, 'definitely': 1032, 'happen': 1033, 'spanish': 1034, 'trains': 1035, 'istanbul': 1036, 'bombings': 1037, 'unity': 1038, 'civilized': 1039, 'fighting': 1040, 'horror': 1041, 'absolutely': 1042, 'indispensable': 1043, 'europe': 1044, 'wakes': 1045, 'achieved': 1046, '2': 1047, 'second': 1048, 'ingredient': 1049, 'words': 1050, 'precisely': 1051, 'lies': 1052, 'disinformation': 1053, 'accepted': 1054, 'tactic': 1055, 'eyes': 1056, 'ways': 1057, 'subtle': 1058, 'dignitaries': 1059, 'condemn': 1060, 'act': 1061, 'visit': 1062, 'her': 1063, 'bereaved': 1064, 'flows': 1065, 'people': 1066, 'realize': 1067, 'emotional': 1068, 'infrastructure': 1069, 'atrocities': 1070, 'outperformed': 1071, 'successors': 1072, 'aspect': 1073, 'inner': 1074, 'circle': 1075, 'terrorists': 1076, 'themselves': 1077, 'horrifying': 1078, 'added': 1079, 'factor': 1080, 'birth': 1081, 'rate': 1082, 'aspects': 1083, 'society': 1084, 'limitations': 1085, 'policeman': 1086, 'kill': 1087, 'listen': 1088, 'conversations': 1089, 'drug': 1090, 'dealers': 1091, 'penalty': 1092, 'deliberate': 1093, 'multiple': 1094, 'fashioned': 1095, 'dilemmas': 1096, 'entire': 1097, 'set': 1098, 'raid': 1099, 'mosque': 1100, 'which': 1101, 'serves': 1102, 'terrorist': 1103, 'ammunition': 1104, 'storage': 1105, 'hospital': 1106, 'headquarters': 1107, 'hidden': 1108, 'mental': 1109, 'want': 1110, 'face': 1111, 'dilemma': 1112, 'avoided': 1113, 'twilight': 1114, 'harm': 1115, 'picture': 1116, 'described': 1117, 'short': 1118, 'fight': 1119, 'win': 1120, 'circles': 1121, 'force': 1122, 'outer': 1123, 'eliminated': 1124, 'sudan': 1125, 'list': 1126, 'syria': 1127, 'surrounded': 1128, 'turkey': 1129, 'jordan': 1130, 'ideology': 1131, 'supremacy': 1132, 'culture': 1133, 'develop': 1134, 'nuclear': 1135, 'business': 1136, 'needs': 1137, 'collaborate': 1138, 'beautifully': 1139, 'surrender': 1140, 'matter': 1141, 'spain': 1142, 'itself': 1143, 'pay': 1144, 'democratic': 1145, 'arab': 1146, 'ground': 1147, 'prepared': 1148, 'carefully': 1149, 'prevail': 1150, 'key': 1151, 'captured': 1152, 'previous': 1153, 'month': 1154, 'rawalpindi': 1155, 'hambali': 1156, 'reportedly': 1157, 'cooperating': 1158, 'degree': 1159, 'require': 1160, 'access': 1161, 'strain': 1162, 'zawahiri': 1163, 'expect': 1164, '9': 1165, 'soil': 1166, 'spotted': 1167, 'spores': 1168, 'bigger': 1169, '5': 1170, 'microns': 1171, 'inhalable': 1172, 'trillion': 1173, 'spore': 1174, 'concentration': 1175, 'extraordinary': 1176, 'qaeda': 1177, 'means': 1178, 'opportunity': 1179, 'ji': 1180, 'ties': 1181, 'moro': 1182, 'front': 1183, 'green': 1184, 'symbolizes': 1185, 'islam': 1186, 'prophet': 1187, 'mohammed': 1188, 'holy': 1189, 'crop': 1190, 'dusters': 1191, 'part': 1192, 'wave': 1193, 'sufaat': 1194, 'arrested': 1195, 'december': 1196, '2001': 1197, 'malaysia': 1198, 'mistaken': 1199, 'reports': 1200, 'understandably': 1201, 'amerithrax': 1202, 'confidential': 1203, 'investigation': 1204, 'karachi': 1205, 'south': 1206, 'last': 1207, 'ismat': 1208, 'heard': 1209, 'aafia': 1210, 'reached': 1211, 'uncle': 1212, 'nickname': 1213, 'jafar': 1214, 'doj': 1215, 'official': 1216, 'adnan': 1217, 'experience': 1218, 'commercial': 1219, 'hijacker': 1220, 'ahmed': 1221, 'alhaznawi': 1222, 'contracted': 1223, 'cutaneous': 1224, 'anthrax': 1225, 'remains': 1226, 'possible': 1227, 'ames': 1228, 'prevented': 1229, 'militant': 1230, 'islamists': 1231, 'achieving': 1232, 'goals': 1233, 'motive': 1234, 'mind': 1235, 'responsibility': 1236, 'exist': 1237, 'abdel': 1238, 'rahman': 1239, 'son': 1240, 'quetta': 1241, 'mid': 1242, 'february': 1243, 'treated': 1244, 'sons': 1245, 'imprisoned': 1246, 'wtc': 1247, '1993': 1248, 'plotter': 1249, 'yousef': 1250, 'ksm': 1251, 'nephew': 1252, 'brian': 1253, 'jenkins': 1254, 'once': 1255, 'terrorism': 1256, 'theater': 1257, 'color': 1258, 'dale': 1259, 'river': 1260, 'valley': 1261, 'mosques': 1262, 'exactly': 1263, 'meet': 1264, 'whatever': 1265, 'political': 1266, 'persuasion': 1267, 'fbi': 1268, 'cia': 1269, 'deserve': 1270, 'together': 1271, 'hindsight': 1272, 'hatfill': 1273, 'theory': 1274, 'accusing': 1275, 'dr': 1276, 'stephen': 1277, 'dubious': 1278, 'send': 1279, 'specifics': 1280, 'per': 1281, 'andre': 1282, 'later': 1283, 'puerto': 1284, 'rico': 1285, 'cpi': 1286, 'inflation': 1287, 'data': 1288, 'decline': 1289, 'invitation': 1290, 'regrets': 1291, 'commitments': 1292, 'right': 1293, 'consider': 1294, 'ling': 1295, 'drive': 1296, 'day': 1297, 'anne': 1298, 'mike': 1299, 'call': 1300, 'regarding': 1301, 'sarah': 1302, 'admin': 1303, \"coordinator's\": 1304, 'primarily': 1305, 'administrative': 1306, 'nice': 1307, 'deal': 1308, 'enron': 1309, 'include': 1310, 'iris': 1311, 'putting': 1312, 'paperwork': 1313, 'services': 1314, 'value': 1315, 'personally': 1316, 'naked': 1317, 'into': 1318, 'note': 1319, 'effective': 1320, 'email': 1321, 'address': 1322, 'changed': 1323, 'dinner': 1324, 'wednesday': 1325, 'prior': 1326, 'tuesday': 1327, 'nymex': 1328, 'candidate': 1329, 'cocktail': 1330, 'hour': 1331, 'oh': 1332, 'god': 1333, 'agenda': 1334, \"tuesday's\": 1335, '30': 1336, 'houston': 1337, 'move': 1338, 'weekly': 1339, \"monday's\": 1340, 'starting': 1341, 'next': 1342, '4': 1343, 'sign': 1344, 'employment': 1345, 'lavorato': 1346, 'requested': 1347, 'attached': 1348, 'report': 1349, 'x': 1350, 'easy': 1351, 'math': 1352, 'asap': 1353, 'thoughts': 1354, 'oxley': 1355, 'examine': 1356, 'technology': 1357, 'models': 1358, 'transmission': 1359, 'expansion': 1360, 'electricity': 1361, 'design': 1362, 'conference': 1363, 'march': 1364, '25': 1365, '26': 1366, '2002': 1367, 'atlanta': 1368, '969': 1369, '2000': 1370, 'tax': 1371, 'file': 1372, 'embedded': 1373, 'device': 1374, 'independent': 1375, 'bitmap': 1376, 'happy': 1377, 'porch': 1378, '217': 1379, 'gray': 1380, 'st': 1381, '713': 1382, 'ebs': 1383, 'sponsored': 1384, 'event': 1385, 'feel': 1386, 'company': 1387, 'monday': 1388, 'morning': 1389, 'patty': 1390, 'lee': 1391, 'corporate': 1392, 'x35172': 1393, 'eb': 1394, 'red': 1395, 'below': 1396, 'recommend': 1397, 'companies': 1398, 'fit': 1399, 'within': 1400, 'entity': 1401, 'tis': 1402, 'sap': 1403, 'nor': 1404, 'hyperion': 1405, 'income': 1406, 'assets': 1407, 'liabilities': 1408, 'despite': 1409, 'mtm': 1410, '80y': 1411, 'broadband': 1412, 'acquisition': 1413, 'inc': 1414, '83n': 1415, 'suggest': 1416, 'assigned': 1417, 'leon': 1418, '1579': 1419, 'network': 1420, 'division': 1421, '17h': 1422, 'possibly': 1423, 'networks': 1424, 'currently': 1425, 'centralize': 1426, 'merchant': 1427, 'asset': 1428, 'activities': 1429, 'broke': 1430, '1179': 1431, '1307': 1432, 'ebic': 1433, 'apache': 1434, 'rolls': 1435, 'cherokee': 1436, 'finance': 1437, 'vof': 1438, 'cfc': 1439, '1689': 1440, 'epi': 1441, 'ventures': 1442, 'branom': 1443, 'analyst': 1444, '345': 1445, '8702': 1446, 'office': 1447, 'moving': 1448, '1691': 1449, 'originally': 1450, 'inquiring': 1451, 'purchasing': 1452, 'cross': 1453, 'signac': 1454, 'impressionist': 1455, 'lithograph': 1456, 'add': 1457, 'collection': 1458, 'purchased': 1459, 'appel': 1460, 'several': 1461, 'suerat': 1462, 'paper': 1463, 'settle': 1464, 'down': 1465, 'lunch': 1466, 'jeff': 1467, 'intial': 1468, 'draft': 1469, 'wording': 1470, 'mark': 1471, 'comment': 1472, 'calendars': 1473, 'san': 1474, 'antonio': 1475, 'wow': 1476, 'year': 1477, 'stayed': 1478, 'menger': 1479, 'october': 1480, 'ena': 1481, 'orientation': 1482, 'hope': 1483, 'vacation': 1484, 'officer': 1485, 'enterprise': 1486, 'spouses': 1487, 'invited': 1488, 'wo': 1489, 'compaq': 1490, 'couple': 1491, 'wrap': 1492, 'loi': 1493, 'refer': 1494, 'licensed': 1495, 'fuel': 1496, 'cell': 1497, 'energy': 1498, 'equipment': 1499, 'epc': 1500, 'contract': 1501, 'handy': 1502, 'speed': 1503, 'forget': 1504, 'separate': 1505, 'contracts': 1506, 'project': 1507, 'hence': 1508, 'reference': 1509, 'manufacturer': 1510, 'attachment': 1511, 'development': 1512, 'coming': 1513, 'soon': 1514, 'forward': 1515, 'drinking': 1516, 'few': 1517, 'beers': 1518, 'michael': 1519, 'mcdermott': 1520, 'spectrongroup': 1521, '06': 1522, '01': 1523, '00': 1524, '56': 1525, 'she': 1526, 'dances': 1527, 'band': 1528, 'skip': 1529, 'puts': 1530, 'mayonnaise': 1531, 'aspirin': 1532, 'winner': 1533, 'cereal': 1534, 'bowl': 1535, 'lifeguard': 1536, 'zoo': 1537, 'elephants': 1538, 'throw': 1539, 'peanuts': 1540, 'school': 1541, 'graduation': 1542, 'aerial': 1543, 'photograph': 1544, 'driver': 1545, 'license': 1546, 'continued': 1547, 'iron': 1548, 'pants': 1549, 'driveway': 1550, 'neck': 1551, 'pack': 1552, 'hot': 1553, 'dogs': 1554, 'yo': 1555, 'mama': 1556, 'fat': 1557, 'sell': 1558, 'shade': 1559, 'paul': 1560, 'tonight': 1561, 'interview': 1562, 'microwave': 1563, 'gave': 1564, 'dan': 1565, 'expensive': 1566, 'reminder': 1567, 'currency': 1568, 'make': 1569, 'peters': 1570, 'chance': 1571, 'june': 1572, 'nx3': 1573, 'nx1': 1574, 'book': 1575, 'give': 1576, 'resume': 1577, 'cover': 1578, 'hopefully': 1579, 'spel': 1580, 'anyting': 1581, 'incorrectly': 1582, 'smart': 1583, 'guys': 1584, 'dawn': 1585, 'directly': 1586, 'able': 1587, 'attend': 1588, 'saturday': 1589, 'sunday': 1590, 'talked': 1591, 'little': 1592, 'shower': 1593, 'grand': 1594, 'presentation': 1595, 'january': 1596, 'late': 1597, 'sound': 1598, 'date': 1599, 'finally': 1600, 'timing': 1601, 'sorry': 1602, 'sharing': 1603, 'worry': 1604, 'speaker': 1605, 'hearing': 1606, 'staff': 1607, 'apologize': 1608, 'offended': 1609, 'attributing': 1610, 'ibm': 1611, 'issues': 1612, 'commit': 1613, 'transferring': 1614, 'messages': 1615, 'across': 1616, 'domains': 1617, 'hr': 1618, 'tool': 1619, 'called': 1620, 'confirmit': 1621, 'execute': 1622, 'anonymous': 1623, 'surveys': 1624, 'additional': 1625, 'document': 1626, 'advised': 1627, 'follows': 1628, 'central': 1629, 'pin': 1630, 'kaufman': 1631, '503': 1632, '464': 1633, '7927': 1634, 'girl': 1635, 'number': 1636, '814014': 1637, 'sitara': 1638, 'ok': 1639, 'husband': 1640, 'joseph': 1641, 'issued': 1642, 'express': 1643, 'card': 1644, 'expiration': 1645, '03': 1646, 'advise': 1647, 'otherwise': 1648, 'assume': 1649, 'tickets': 1650, 'survived': 1651, 'gas': 1652, 'settlement': 1653, 'difference': 1654, 'package': 1655, 'v02': 1656, 'xls': 1657, 'enrongss': 1658, 'sw': 1659, 'honro': 1660, 'indexed': 1661, 'basis': 1662, 'trip': 1663, 'des': 1664, 'moines': 1665, 'dthat': 1666, 'joe': 1667, 'car': 1668, 'netmeeting': 1669, 'doctor': 1670, 'yes': 1671, 'physical': 1672, 'theraphy': 1673, 'times': 1674, 'maam': 1675, 'ubs': 1676, 'mentioned': 1677, 'judy': 1678, 'cindy': 1679, 'franklin': 1680, '832': 1681, '676': 1682, '3177': 1683, 'fax': 1684, '1329': 1685, 'pager': 1686, 'error': 1687, 'notify': 1688, 'sender': 1689, 'bet': 1690, 'shemin': 1691, 'tabs': 1692, 'steve': 1693, 'exception': 1694, 'ed': 1695, 'approval': 1696, 'informed': 1697, 'discuss': 1698, 'attorney': 1699, 'stipulation': 1700, 'ect': 1701, 'kedne': 1702, 're': 1703, 'igts': 1704, 'tennessee': 1705, 'cap': 1706, 'releases': 1707, 'final': 1708, 'doc': 1709, 'blackline': 1710, 'stip': 1711, 'f': 1712, 'noted': 1713, 'women': 1714, 'customarily': 1715, 'walked': 1716, '10': 1717, 'feet': 1718, 'land': 1719, 'mines': 1720, 'kuwaiti': 1721, 'sending': 1722, 'revised': 1723, 'deliver': 1724, 'maybe': 1725, 'plate': 1726, 'dad': 1727, 'guilty': 1728, 'jack': 1729, 'welch': 1730, 'ceo': 1731, 'ge': 1732, 'gm': 1733, 'tremendous': 1734, 'cases': 1735, 'creative': 1736, 'fellow': 1737, 'employees': 1738, 'everyone': 1739, 'britney': 1740, 'spears': 1741, 'top': 1742, 'ten': 1743, 'most': 1744, 'espeakers': 1745, 'scott': 1746, 'mcneally': 1747, 'sun': 1748, '7': 1749, 'covey': 1750, 'author': 1751, 'seven': 1752, 'habits': 1753, '6': 1754, 'oprah': 1755, 'winfrey': 1756, 'talkshow': 1757, 'alan': 1758, 'greenspan': 1759, 'chairman': 1760, 'federal': 1761, 'reserve': 1762, 'u': 1763, 'bill': 1764, 'gates': 1765, 'texas': 1766, 'w': 1767, 'espeak': 1768, 'plenty': 1769, 'internal': 1770, 'speakers': 1771, 'thank': 1772, 'participation': 1773, 'hyatt': 1774, 'regency': 1775, 'downtown': 1776, 'perfect': 1777, 'lobby': 1778, 'friday': 1779, 'bad': 1780, 'committee': 1781, 'breakfast': 1782, 'smith': 1783, 'street': 1784, 'convenient': 1785, 'leave': 1786, '945': 1787, 'catch': 1788, 'plane': 1789, 'efforts': 1790, 'patient': 1791, 'july': 1792, 'pre': 1793, 'cruise': 1794, 'glad': 1795, 'website': 1796, 'www': 1797, 'weathereffects': 1798, 'available': 1799, 'eol': 1800, 'surprised': 1801, 'quality': 1802, 'proud': 1803, \"'ve\": 1804, 'between': 1805, 'cargill': 1806, '15': 1807, 'mm': 1808, 'collateral': 1809, 'threshold': 1810, 'mill': 1811, 'reflects': 1812, 'gross': 1813, 'exposure': 1814, 'reasonable': 1815, 'workable': 1816, 'regading': 1817, 'poa': 1818, 'line': 1819, 'change': 1820, 'language': 1821, 'global': 1822, 'piece': 1823, 'concern': 1824, 'hopeful': 1825, 'prepare': 1826, 'execution': 1827, 'copies': 1828, 'transactions': 1829, 'pg': 1830, 'swap': 1831, 'ltd': 1832, 'total': 1833, 'weekend': 1834, 'prod': 1835, 'description': 1836, 'fro': 1837, 'lme': 1838, 'product': 1839, 'curr': 1840, 'spot': 1841, 'mar': 1842, 'jpy': 1843, 'hoping': 1844, '48': 1845, 'hours': 1846, 'term': 1847, 'sheet': 1848, 'plans': 1849, 'manage': 1850, 'client': 1851, 'expectations': 1852, 'accordingly': 1853, 'privileged': 1854, 'planning': 1855, 'involved': 1856, 'since': 1857, 'plus': 1858, 'hosting': 1859, '22nd': 1860, 'subject': 1861, 'turbine': 1862, 'purchase': 1863, 'surgery': 1864, 'verify': 1865, 'titles': 1866, 'correct': 1867, 'ones': 1868, 'made': 1869, 'use': 1870, 'opposed': 1871, 'earlier': 1872, 'version': 1873, 'showing': 1874, 'revisions': 1875, 'correctly': 1876, 'sample': 1877, 'availability': 1878, 'provision': 1879, 'different': 1880, 'versions': 1881, 'seeing': 1882, 'peggy': 1883, 'banczak': 1884, 'lawyer': 1885, 'handles': 1886, 'mexico': 1887, 'through': 1888, 'kay': 1889, 'either': 1890, 'familiar': 1891, 'sounds': 1892, 'health': 1893, 'deteriorated': 1894, 'significantly': 1895, 'eric': 1896, 'smsu': 1897, 'joining': 1898, 'excellent': 1899, 'past': 1900, 'sixth': 1901, 'grandchild': 1902, 'born': 1903, 'david': 1904, 'wife': 1905, 'courtney': 1906, 'lb': 1907, 'oz': 1908, 'inch': 1909, 'boy': 1910, 'fun': 1911, 'summer': 1912, 'mr': 1913, 'lay': 1914, 'confirming': 1915, '___________': 1916, '8': 1917, 'receive': 1918, 'appreciate': 1919, '14th': 1920, 'joy': 1921, 'powell': 1922, 'assistant': 1923, 'richard': 1924, 'everett': 1925, 'kenneth': 1926, 'approved': 1927, 'expense': 1928, 'olson': 1929, 'tell': 1930, 'tenn': 1931, '36647': 1932, 'demand': 1933, 'speadsheet': 1934, 'matching': 1935, 'spreadsheet': 1936, 'don': 1937, 'germany': 1938, 'jr': 1939, 'po': 1940, 'box': 1941, 'cedar': 1942, 'lane': 1943, 'truck': 1944, 'consumption': 1945, 'tolerable': 1946, '16': 1947, '900': 1948, 'pick': 1949, 'jerry': 1950, 'engage': 1951, 'articulating': 1952, 'dow': 1953, 'stock': 1954, '33': 1955, '41': 1956, 'lock': 1957, 'gate': 1958, 'steers': 1959, 'heifers': 1960, 'tractor': 1961, 'fixed': 1962, 'reggie': 1963, 'wants': 1964, 'kinesiologist': 1965, 'sports': 1966, 'injury': 1967, 'therapist': 1968, 'football': 1969, 'players': 1970, 'legs': 1971, 'jaime': 1972, 'grown': 1973, 'sometimes': 1974, 'careful': 1975, 'safe': 1976, 'shucks': 1977, 'guess': 1978, 'none': 1979, 'paid': 1980, 'attention': 1981, 'sherrar': 1982, 'cool': 1983, 'dudes': 1984, '1774': 1985, '76': 1986, 'volumes': 1987, 'saga': 1988, 'style': 1989, 'writing': 1990, 'books': 1991, 'split': 1992, '120': 1993, 'shares': 1994, 'brand': 1995, 'divy': 1996, 'say': 1997, 'keep': 1998, 'dough': 1999, 'ck': 2000, 'oglethorpe': 2001, 'dec': 2002, 'cashout': 2003, 'booked': 2004, 'invoice': 2005, 'every': 2006, 'phones': 2007, 'anwser': 2008, 'mary': 2009, 'because': 2010, 'responds': 2011, 'quick': 2012, 'prices': 2013, 'tgpl': 2014, 'la': 2015, 'jan': 2016, '95': 2017, 'feb': 2018, '98': 2019, 'april': 2020, 'latest': 2021, 'enovate': 2022, 'risk': 2023, 'policy': 2024, 'machine': 2025, 'home': 2026, 'prefer': 2027, 'initial': 2028, 'signature': 2029, 'pages': 2030, 'else': 2031, 'portland': 2032, 'included': 2033, 'prompt': 2034, 'conscientious': 2035, 'initials': 2036, 'whom': 2037, 'faxed': 2038, 'fine': 2039, 'easier': 2040, 'coordinate': 2041, 'thanksgiving': 2042, 'girls': 2043, 'meek': 2044, 'incredible': 2045, 'player': 2046, 'alena': 2047, 'compared': 2048, 'embarrased': 2049, 'apartment': 2050, 'start': 2051, 'upstairs': 2052, 'guest': 2053, 'suite': 2054, 'neat': 2055, 'bathroom': 2056, 'cozy': 2057, 'stilted': 2058, 'conversation': 2059, 'xmas': 2060, 'chatting': 2061, 'likes': 2062, 'room': 2063, 'craig': 2064, 'ma': 2065, 'appartment': 2066, 'harrison': 2067, 'kyle': 2068, 'jones': 2069, 'technical': 2070, 'solutions': 2071, 'page': 2072, 'taffy': 2073, 'milligan': 2074, 'emails': 2075, 'notice': 2076, 'title': 2077, 'mean': 2078, 'warm': 2079, 'needless': 2080, 'excited': 2081, 'birdie': 2082, 'told': 2083, 'seoul': 2084, 'separately': 2085, 'instant': 2086, 'alerts': 2087, 'yahoo': 2088, 'messenger': 2089, 'play': 2090, 'luck': 2091, 'meetings': 2092, 'anyway': 2093, 'lots': 2094, 'ignore': 2095, 'sentiment': 2096, 'adhering': 2097, 'faithfully': 2098, 'organizational': 2099, 'skills': 2100, 'news': 2101, 'fyi': 2102, 'bobby': 2103, 'visitors': 2104, 'cards': 2105, 'folks': 2106, 'major': 2107, 'injuries': 2108, 'emergency': 2109, 'ben': 2110, 'taub': 2111, 'update': 2112, 'mailed': 2113, 'families': 2114, 'prayers': 2115, 'offer': 2116, 'guidelines': 2117, 'intend': 2118, 'implementation': 2119, 'dave': 2120, 'forster': 2121, 'among': 2122, 'argentina': 2123, 'press': 2124, 'ahead': 2125, 'taxes': 2126, 'etc': 2127, 'slides': 2128, 'wed': 2129, 'sept': 2130, 'thur': 2131, '21': 2132, 'arrv': 2133, 'london': 2134, 'early': 2135, 'transfer': 2136, '22': 2137, 'hotel': 2138, 'monaco': 2139, 'tue': 2140, 'fly': 2141, 'mon': 2142, 'oct': 2143, 'clh': 2144, 'matters': 2145, 'confusing': 2146, 'taylors': 2147, 'enclosed': 2148, 'worksheet': 2149, 'ineos': 2150, 'acrylics': 2151, 'copy': 2152, 'left': 2153, 'voice': 2154, 'uecomm': 2155, 'master': 2156, 'inserted': 2157, 'details': 2158, 'clauses': 2159, 'tracked': 2160, 'ease': 2161, 'uc': 2162, '0308': 2163, 'turn': 2164, 'bit': 2165, 'economic': 2166, 'provisions': 2167, 'omitted': 2168, 'elliotts': 2169, 'pictures': 2170, 'benjamin': 2171, 'james': 2172, '45': 2173, 'lbs': 2174, 'toby': 2175, 'william': 2176, 'hannah': 2177, 'ozs': 2178, 'emma': 2179, 'attempted': 2180, 'revise': 2181, 'clearer': 2182, 'niagara': 2183, 'mohawk': 2184, 'marketing': 2185, 'appropriate': 2186, 'understanding': 2187, 'free': 2188, '315': 2189, '460': 2190, '3344': 2191, 'schedule': 2192, 'nmemdrft8': 2193, 'para13': 2194, 'busy': 2195, 'closely': 2196, 'option': 2197, 'liquidation': 2198, 'problems': 2199, 'karim': 2200, 'likely': 2201, 'explanation': 2202, 'id': 2203, 'calgary': 2204, '11608': 2205, 'liq': 2206, 'hook': 2207, 'videoconference': 2208, 'toronto': 2209, 'video': 2210, 'conferenced': 2211, 'tabors': 2212, 'alberta': 2213, 'export': 2214, '050901': 2215, 'discussed': 2216, 'redlined': 2217, 'pricing': 2218, 'analysis_0712': 2219, 'katie': 2220, 'kaplan': 2221, 'iepa': 2222, 'attending': 2223, 'formal': 2224, 'follow': 2225, 'respond': 2226, 'contact': 2227, 'manager': 2228, 'iep': 2229, '916': 2230, 'extremely': 2231, 'suggestions': 2232, 'appreciated': 2233, 'participate': 2234, 'calling': 2235, 'dial': 2236, 'toll': 2237, '877': 2238, '331': 2239, '6867': 2240, 'duration': 2241, 'terminate': 2242, 'hung': 2243, 'resting': 2244, 'laurels': 2245, 'outstanding': 2246, 'accomplishment': 2247, 'panel': 2248, 'puc': 2249, 'ferc': 2250, 'tomorrow': 2251, 'alter': 2252, 'somewhat': 2253, 'shaped': 2254, 'gets': 2255, 'd': 2256, '35': 2257, 'southwest': 2258, 'marly': 2259, 'trademarking': 2260, 'covered': 2261, 'proceed': 2262, 'word': 2263, 'necessary': 2264, 'register': 2265, 'enrononline': 2266, 'updated': 2267, 'reflect': 2268, 'determined': 2269, 'responses': 2270, 'deals': 2271, 'shankman': 2272, 'arnold': 2273, 'personal': 2274, 'signed': 2275, 'communicated': 2276, 'bowen': 2277, 'carol': 2278, 'handle': 2279, 'eta_revision0307': 2280, 'amendment': 2281, 'adds': 2282, 'british': 2283, 'columbia': 2284, 'securities': 2285, 'representation': 2286, 'confirmation': 2287, 'desk': 2288, 'adding': 2289, 'rep': 2290, 'confirms': 2291, 'counterparties': 2292, 'merchanting': 2293, 'metals': 2294, 'summary': 2295, 'planned': 2296, 'systems': 2297, 'manual': 2298, 'substantiation': 2299, 'aa': 2300, 'middle': 2301, 'prioritised': 2302, 'reconciliation': 2303, 'movements': 2304, '23rd': 2305, '30th': 2306, 'tests': 2307, 'vanilla': 2308, 'detailed': 2309, 'analysis': 2310, 'obsf': 2311, 'reconciled': 2312, 'barclays': 2313, 'recalculation': 2314, 'premium': 2315, 'utilising': 2316, 'manually': 2317, 'created': 2318, 'debtors': 2319, 'creditors': 2320, 'partial': 2321, 'circularisation': 2322, 'initiated': 2323, 'close': 2324, 'items': 2325, 'needing': 2326, 'inventory': 2327, 'balances': 2328, 'documentation': 2329, 'substantive': 2330, 'cash': 2331, 'funding': 2332, 'plan': 2333, 'retaking': 2334, 'gmat': 2335, 'test': 2336, 'favorable': 2337, 'retake': 2338, 'teco': 2339, 'o': 2340, 'costs': 2341, 'correlation': 2342, 'assuming': 2343, 'flat': 2344, 'deducting': 2345, 'operating': 2346, 'expenses': 2347, 'using': 2348, 'mwh': 2349, 'vom': 2350, 'dollar': 2351, 'amount': 2352, 'strike': 2353, 'provided': 2354, 'payment': 2355, 'stream': 2356, 'covering': 2357, 'principal': 2358, 'thus': 2359, 'randy': 2360, 'issue': 2361, 'objections': 2362, 'rehearing': 2363, 'incorporates': 2364, 'stojic': 2365, 'kelly': 2366, 'lou': 2367, 'sort': 2368, 'requests': 2369, 'cost': 2370, '567': 2371, '77': 2372, 'chair': 2373, 'approve': 2374, 'message': 2375, 'forwarded': 2376, 'sommer': 2377, 'stan': 2378, 'yea': 2379, 'responsible': 2380, 'completing': 2381, 'entering': 2382, 'cec': 2383, 'invoices': 2384, 'associate': 2385, 'evaluations': 2386, 'associates': 2387, 'analysts': 2388, 'completed': 2389, 'brenner': 2390, 'ursula': 2391, 'j': 2392, 'doug': 2393, 'providing': 2394, 'specific': 2395, 'thane': 2396, 'visited': 2397, 'electric': 2398, 'restructuring': 2399, '6th': 2400, '7th': 2401, 'forum': 2402, 'expected': 2403, 'testimony': 2404, 'austin': 2405, 'ercot': 2406, 'prs': 2407, 'rick': 2408, 'budget': 2409, 'becky': 2410, 'replace': 2411, 'peter': 2412, 'job': 2413, 'arrangements': 2414, 'percell': 2415, 'swbell': 2416, 'net': 2417, '04': 2418, '58': 2419, 'addendum': 2420, 'academic': 2421, 'consulting': 2422, 'c': 2423, 'stark': 2424, 'appointment': 2425, 'wish': 2426, 'figured': 2427, 'posting': 2428, 'belonged': 2429, 'danny': 2430, 'further': 2431, 'contacted': 2432, 'relevant': 2433, 'interest': 2434, 'recommendation': 2435, 'games': 2436, 'distributed': 2437, 'preseason': 2438, 'vs': 2439, 'miami': 2440, 'b': 2441, '24': 2442, 'detroit': 2443, '17': 2444, 'utah': 2445, '19': 2446, 'washington': 2447, '23': 2448, 'sacramento': 2449, 'indiana': 2450, 'cleveland': 2451, '13': 2452, 'seattle': 2453, 'august': 2454, 'orlando': 2455, 'phoenix': 2456, 'minnesota': 2457, 'mailing': 2458, 'iis': 2459, 'sometime': 2460, 'cdt': 2461, 'connections': 2462, 'established': 2463, 'remote': 2464, 'locations': 2465, 'conf': 2466, 'lines': 2467, 'reserved': 2468, 'gcp': 2469, 'adjustments': 2470, 'highlighted': 2471, 'counterparty': 2472, 'listed': 2473, 'uk': 2474, 'type': 2475, 'datamanager': 2476, 'steps': 2477, 'stl': 2478, 'plt': 2479, 'termination': 2480, '31': 2481, 'transaction': 2482, 'marine': 2483, 'terminal': 2484, 'chicago': 2485, 'ill': 2486, 'metro': 2487, 'area': 2488, 'production': 2489, 'cluster': 2490, 'select': 2491, 'requiring': 2492, 'stated': 2493, 'mouse': 2494, 'samuel': 2495, 'x3': 2496, '9890': 2497, '_': 2498, 'updates': 2499, 'defeats': 2500, 'purpose': 2501, 'tradename': 2502, 'eve': 2503, 'handling': 2504, 'afternoon': 2505, 'harry': 2506, 'shows': 2507, 'session': 2508, 'sessions': 2509, 'overview': 2510, 'henderson': 2511, 'ssd': 2512, 'groan': 2513, 'agree': 2514, 'try': 2515, 'migrate': 2516, 'voicemail': 2517, \"'d\": 2518, 'customer': 2519, 'brandee': 2520, 'sanborn': 2521, 'concerned': 2522, 'suggestion': 2523, 'safer': 2524, 'badge': 2525, 'ss': 2526, 'calendar': 2527, 'print': 2528, 'files': 2529, '46c1': 2530, 'leads': 2531, 'peer': 2532, 'reviews': 2533, 'gathered': 2534, 'shanna': 2535, 'spoke': 2536, 'background': 2537, 'sharon': 2538, 'butcher': 2539, 'confidentiality': 2540, 'earliest': 2541, 'convience': 2542, 'nepco': 2543, 'picketing': 2544, 'apparently': 2545, 'city': 2546, 'permit': 2547, 'required': 2548, 'local': 2549, 'counsel': 2550, 'assist': 2551, 'regard': 2552, 'replacement': 2553, 'sara': 2554, 'settled': 2555, 'invitaion': 2556, 'lynn': 2557, 'products': 2558, 'various': 2559, 'groups': 2560, 'seeking': 2561, 'answers': 2562, 'brazil': 2563, 'tozzini': 2564, 'lawyers': 2565, 'ba': 2566, 'marval': 2567, 'waiting': 2568, 'executed': 2569, 'forwarding': 2570, 'certain': 2571, 'printed': 2572, 'sided': 2573, 'laminated': 2574, 'bring': 2575, 'l': 2576, 'original': 2577, 'fedexed': 2578, 'overnight': 2579, 'gtee': 2580, 'agreed': 2581, 'owe': 2582, 'pleasure': 2583, 'selling': 2584, 'burgers': 2585, 'east': 2586, 'coast': 2587, 'sao': 2588, 'paulo': 2589, 'buenos': 2590, 'aires': 2591, 'power': 2592, 'extent': 2593, 'communication': 2594, 'rules': 2595, 'lindh': 2596, 'frank': 2597, 'frl3': 2598, 'pge': 2599, 'cpuc': 2600, 'rule': 2601, 'accord': 2602, 'ii': 2603, 'ga': 2604, 'proposal': 2605, 'provides': 2606, 'vintaged': 2607, 'redwood': 2608, 'path': 2609, 'rates': 2610, 'core': 2611, 'customers': 2612, 'maintains': 2613, 'aggregation': 2614, 'answering': 2615, 'receiving': 2616, 'feedback': 2617, 'ray': 2618, 'williams': 2619, '415': 2620, '973': 2621, '2776': 2622, 'talking': 2623, 'hearings': 2624, 'limited': 2625, 'minutes': 2626, '800': 2627, '8600': 2628, 'begin': 2629, 'pst': 2630, 'wild': 2631, 'ride': 2632, 'excellently': 2633, 'administration': 2634, 'hell': 2635, 'bent': 2636, 'guy': 2637, 'renewed': 2638, 'refunds': 2639, 'carl': 2640, 'wood': 2641, 'remarks': 2642, 'extreme': 2643, 'bilbray': 2644, 'gouging': 2645, 'wagon': 2646, 'clamoring': 2647, 'refund': 2648, 'subsides': 2649, 'campus': 2650, 'interviews': 2651, '1st': 2652, 'inn': 2653, 'kushnick': 2654, 'skush': 2655, 'mention': 2656, 'ny': 2657, 'wd': 2658, '143': 2659, 'pumps': 2660, 'onshore': 2661, 'floating': 2662, 'platt': 2663, 'index': 2664, 'typically': 2665, 'hedging': 2666, 'attempt': 2667, 'reply': 2668, 'highlight': 2669, 'handled': 2670, 'running': 2671, 'bus': 2672, 'realized': 2673, 'decided': 2674, 'nicki': 2675, 'grandmother': 2676, 'explained': 2677, 'class': 2678, 'remainder': 2679, 'lecture': 2680, 'drop': 2681, 'notified': 2682, 'departure': 2683, 'memo': 2684, 'egm': 2685, 'heads': 2686, 'jen': 2687, 'volunteered': 2688, 'advance': 2689, 'cooperation': 2690, '65': 2691, 'million': 2692, 'dollars': 2693, 'gain': 2694, 'counting': 2695, 'margin': 2696, 'single': 2697, 'cargo': 2698, 'marianne': 2699, 'section': 2700, 'semicolon': 2701, 'clause': 2702, 'defined': 2703, 'govt': 2704, 'authority': 2705, 'granting': 2706, 'perfection': 2707, 'clair': 2708, '3889': 2709, '853': 2710, '3989': 2711, '646': 2712, '3393': 2713, 'making': 2714, 'loc': 2715, 'playing': 2716, '860': 2717, '665': 2718, '2368': 2719, 'leporjj': 2720, 'selectenergy': 2721, 'eei': 2722, 'documents': 2723, '74419': 2724, 'chnages': 2725, 'respect': 2726, 'guaranty': 2727, 'delete': 2728, 'interconnect': 2729, 'questar': 2730, 'fairly': 2731, 'standard': 2732, 'fully': 2733, 'reimbursable': 2734, 'transwestern': 2735, 'operate': 2736, 'trails': 2737, 'hub': 2738, '02': 2739, '05': 2740, 'ticket': 2741, 'price': 2742, '183': 2743, 'tom': 2744, 'join': 2745, 'hotline': 2746, '3044': 2747, 'hurry': 2748, 'wondering': 2749, 'invoiced': 2750, '180': 2751, 'mainly': 2752, 'due': 2753, 'socal': 2754, 'revenues': 2755, 'adjusted': 2756, 'according': 2757, 'x36709': 2758, 'yesterday': 2759, 'vendors': 2760, 'instrumentation': 2761, 'usual': 2762, 'mode': 2763, 'confirm': 2764, 'testing': 2765, 'delivery': 2766, 'dates': 2767, 'ultrasonic': 2768, 'schedulers': 2769, 'holding': 2770, 'workshops': 2771, 'announcement': 2772, 'winter': 2773, 'referring': 2774, 'public': 2775, 'relations': 2776, 'iso': 2777, 'gregg': 2778, 'fishman': 2779, 'dunn': 2780, 'criminal': 2781, 'conduct': 2782, 'action': 2783, 'loose': 2784, 'lifting': 2785, 'rested': 2786, 'retrospect': 2787, \"''\": 2788, 'beyond': 2789, 'belief': 2790, 'believes': 2791, 'resulting': 2792, 'overcharges': 2793, 'exceeded': 2794, 'billion': 2795, 'spike': 2796, 'hopes': 2797, 'events': 2798, 'transpired': 2799, 'dig': 2800, 'thereafter': 2801, 'sce': 2802, 'sdg': 2803, 'structure': 2804, 'wager': 2805, 'neal': 2806, 'manne': 2807, 'nmanne': 2808, 'susmangodfrey': 2809, 'course': 2810, 'expressed': 2811, 'negotiating': 2812, 'absence': 2813, 'entreaty': 2814, 'perkins': 2815, 'accounts': 2816, 'veronica': 2817, 'parra': 2818, 'nedre': 2819, 'strambler': 2820, 'fran': 2821, 'mayes': 2822, 'felicia': 2823, 'deffner': 2824, 'kerrigan': 2825, 'lewis': 2826, 'worthy': 2827, 'structuring': 2828, 'brad': 2829, 'alford': 2830, 'chris': 2831, 'coffman': 2832, 'michelle': 2833, 'ago': 2834, 'faith': 2835, 'proceedings': 2836, 'robin': 2837, 'gibbs': 2838, 'kinga': 2839, 'chanukah': 2840, 'atty': 2841, '202': 2842, '61': 2843, 'patricia': 2844, 'gillman': 2845, 'sanders': 2846, '4_28_00': 2847, 'liz': 2848, 'finished': 2849, 'pulling': 2850, 'trustee': 2851, 'motion': 2852, 'compel': 2853, 'paralegal': 2854, 'pleadings': 2855, 'gerry': 2856, 'strathmann': 2857, 'gstrathmann': 2858, 'mediaone': 2859, 'environment': 2860, 'ecommerce': 2861, 'arbitration': 2862, 'association': 2863, '978': 2864, '376': 2865, '9004': 2866, 'tel': 2867, 'leopold': 2868, 'jason': 2869, 'dowjones': 2870, 'inevitable': 2871, 'industry': 2872, 'kids': 2873, 'abomination': 2874, 'springer': 2875, 'air': 2876, 'literally': 2877, 'monkey': 2878, 'inside': 2879, 'yourselves': 2880, 'insidious': 2881, 'conspiracy': 2882, 'mommism': 2883, 'supporters': 2884, 'pointing': 2885, 'nasa': 2886, 'pr': 2887, 'hurdles': 2888, 'overcome': 2889, 'nook': 2890, '2005': 2891, '09': 2892, '32': 2893, 'merit': 2894, 'flowing': 2895, 'duality': 2896, 'strength': 2897, 'harmony': 2898, 'dischord': 2899, 'suffer': 2900, 'insult': 2901, 'collective': 2902, 'brings': 2903, 'escape': 2904, 'ocean': 2905, 'swim': 2906, 'reward': 2907, 'haunt': 2908, 'near': 2909, 'choices': 2910, 'peace': 2911, 'sunshine': 2912, 'christopher': 2913, 'scipio': 2914, 'homeopath': 2915, 'herbalist': 2916, 'holistic': 2917, 'viral': 2918, 'freedom': 2919, 'fear': 2920, 'downsizing': 2921, 'developed': 2922, 'entirely': 2923, 'category': 2924, 'changing': 2925, 'innovation': 2926, 'agel': 2927, 'introduces': 2928, 'gelceuticals': 2929, 'unique': 2930, 'innovative': 2931, 'nutritional': 2932, 'proprietary': 2933, 'gel': 2934, 'suspension': 2935, 'serving': 2936, 'packets': 2937, 'method': 2938, 'consuming': 2939, 'water': 2940, 'needed': 2941, 'tablets': 2942, 'capsules': 2943, 'exotic': 2944, 'juice': 2945, 'bottle': 2946, 'glass': 2947, 'weight': 2948, 'packages': 2949, 'sampling': 2950, 'capabilities': 2951, 'difficulty': 2952, 'swallowing': 2953, 'faster': 2954, 'efficient': 2955, 'body': 2956, 'compensation': 2957, 'truly': 2958, 'revolutionary': 2959, 'longevity': 2960, 'discover': 2961, 'unlimited': 2962, 'possibilities': 2963, 'passcode': 2964, 'november': 2965, 'eastern': 2966, 'pt': 2967, 'mt': 2968, 'ct': 2969, 'dharmadeva': 2970, 'dharmad': 2971, 'gmail': 2972, 'dance': 2973, 'males': 2974, 'females': 2975, 'kaoshikii': 2976, 'invented': 2977, '1978': 2978, 'shrii': 2979, \"a'nandamu'rti\": 2980, 'especially': 2981, 'normally': 2982, 'referred': 2983, 'mysticism': 2984, 'exercises': 2985, 'glands': 2986, 'limbs': 2987, 'toes': 2988, 'childbirth': 2989, 'gout': 2990, 'spine': 2991, 'hands': 2992, 'waist': 2993, 'becomes': 2994, 'strong': 2995, 'sharp': 2996, 'irregularities': 2997, 'menstruation': 2998, 'cured': 2999, 'troubles': 3000, 'bladder': 3001, 'urethra': 3002, 'charm': 3003, 'shine': 3004, 'skin': 3005, 'helps': 3006, 'self': 3007, 'expression': 3008, 'develops': 3009, 'potentiality': 3010, 'increases': 3011, 'capacity': 3012, '75': 3013, '80': 3014, 'age': 3015, 'eighteen': 3016, 'rhythmically': 3017, 'danced': 3018, 'rounds': 3019, 'bending': 3020, 'suggests': 3021, 'completely': 3022, 'push': 3023, 'polar': 3024, 'bear': 3025, 'bears': 3026, 'screams': 3027, 'fortier': 3028, 'chase': 3029, 'parenteau': 3030, 'doyon': 3031, 'bleeding': 3032, 'badly': 3033, 'award': 3034, 'comes': 3035, 'grant': 3036, 'favorite': 3037, 'fruit': 3038, 'jobs': 3039, 'acronym': 3040, 'popularly': 3041, 'believed': 3042, 'francisco': 3043, 'derived': 3044, 'cowpland': 3045, 'stands': 3046, 'research': 3047, 'laboratory': 3048, 'hotmail': 3049, 'selective': 3050, 'uppercasing': 3051, 'kapor': 3052, 'teacher': 3053, 'transcendental': 3054, 'meditation': 3055, 'maharishi': 3056, 'mahesh': 3057, 'yogi': 3058, 'popular': 3059, 'radio': 3060, 'victrola': 3061, 'kept': 3062, 'oracle': 3063, 'rdbms': 3064, 'engine': 3065, 'mayur': 3066, 'sms': 3067, '919819602175': 3068, 'guild': 3069, 'wars': 3070, 'febuary': 3071, 'rumor': 3072, 'calender': 3073, 'reason': 3074, 'firewalls': 3075, 'lol': 3076, 'curious': 3077, 'hav': 3078, 'massive': 3079, 'multiplayer': 3080, 'role': 3081, 'participated': 3082, 'beta': 3083, 'preview': 3084, '100': 3085, 'functional': 3086, 'greetings': 3087, 'gw': 3088, 'community': 3089, 'alliance': 3090, 'straightforward': 3091, 'invite': 3092, 'greeted': 3093, 'wonderful': 3094, 'hello': 3095, 'warmly': 3096, 'welcomed': 3097, 'inform': 3098, 'holidays': 3099, 'moreso': 3100, 'earth': 3101, 'financial': 3102, 'spiritual': 3103, 'grandchildren': 3104, 'domestic': 3105, 'ourselves': 3106, 'tough': 3107, 'deeper': 3108, 'gated': 3109, 'gentrified': 3110, 'crafting': 3111, 'laws': 3112, 'instilling': 3113, 'insights': 3114, 'bruce': 3115, 'reilly': 3116, 'k': 3117, 'bruha': 3118, '8274': 3119, 'cranston': 3120, '02920': 3121, 'nsa': 3122, 'eater': 3123, 'contain': 3124, 'peanutjake': 3125, 'peanutjak': 3126, 'usa': 3127, 'urgent': 3128, 'assistance': 3129, 'walker': 3130, '456': 3131, '1414': 3132, '1111': 3133, 'bold': 3134, 'step': 3135, 'taken': 3136, 'regretted': 3137, 'assure': 3138, 'pray': 3139, 'plight': 3140, 'colleagues': 3141, 'forever': 3142, 'grateful': 3143, 'strict': 3144, 'confidence': 3145, 'mayor': 3146, 'rescuers': 3147, 'unable': 3148, 'retrieve': 3149, 'pushing': 3150, 'superdome': 3151, 'stadium': 3152, 'toilets': 3153, 'overflowing': 3154, 'occurred': 3155, 'processing': 3156, 'directive': 3157, 'screaming': 3158, 'hollering': 3159, 'flashing': 3160, 'lights': 3161, 'levels': 3162, 'rise': 3163, 'worse': 3164, 'mississippi': 3165, 'casinos': 3166, 'housed': 3167, 'barges': 3168, 'hurled': 3169, 'onto': 3170, 'beach': 3171, 'media': 3172, '54': 3173, 'q': 3174, 'waste': 3175, '18': 3176, 'expires': 3177, 'answered': 3178, 'googlenut': 3179, 'space': 3180, 'station': 3181, 'funded': 3182, 'moon': 3183, 'mars': 3184, 'vision': 3185, 'lunar': 3186, 'exploration': 3187, 'mission': 3188, 'centennial': 3189, 'challenges': 3190, 'helpful': 3191, 'log': 3192, 'saem_aero': 3193, 'spending': 3194, 'webpage': 3195, 'explaining': 3196, 'effort': 3197, 'contribution': 3198, 'internet': 3199, 'pull': 3200, 'bless': 3201, 'healthy': 3202, 'attach': 3203, 'benefit': 3204, 'sponsoring': 3205, 'link': 3206, 'contest': 3207, 'distributing': 3208, 'greatly': 3209, 'certainly': 3210, 'cause': 3211, 'huge': 3212, 'caring': 3213, 'enough': 3214, 'auction': 3215, 'raffle': 3216, 'abby': 3217, 'miss': 3218, 'logging': 3219, 'rockin': 3220, 'donations': 3221, 'charter': 3222, 'bank': 3223, 'checks': 3224, 'payable': 3225, 'kendel': 3226, 'bunnell': 3227, 'increased': 3228, 'usage': 3229, 'china': 3230, 'creating': 3231, 'west': 3232, 'developments': 3233, 'shortages': 3234, 'leading': 3235, 'cuts': 3236, 'clash': 3237, 'oil': 3238, 'primary': 3239, 'visualisations': 3240, 'useful': 3241, 'ideation': 3242, 'floor': 3243, 'sit': 3244, 'crossed': 3245, 'breathing': 3246, 'calm': 3247, 'relaxed': 3248, 'nose': 3249, 'breathe': 3250, 'slowly': 3251, 'deeply': 3252, 'tension': 3253, 'melting': 3254, 'naturally': 3255, 'yourself': 3256, 'sea': 3257, 'golden': 3258, 'rays': 3259, 'soft': 3260, 'soothing': 3261, 'vast': 3262, 'warmth': 3263, 'familiarity': 3264, 'vastness': 3265, 'sitting': 3266, 'serenely': 3267, 'restfully': 3268, 'muscles': 3269, 'limp': 3270, 'sinking': 3271, 'slightly': 3272, 'sand': 3273, 'earthly': 3274, 'connection': 3275, 'surrounding': 3276, 'relaxation': 3277, 'totally': 3278, 'infinite': 3279, 'happiness': 3280, 'direction': 3281, 'repeat': 3282, 'mantra': 3283, 'nam': 3284, 'kevalam': 3285, 'everywhere': 3286, 'idea': 3287, 'intellectual': 3288, 'basic': 3289, 'practicing': 3290, 'practice': 3291, 'happens': 3292, 'north': 3293, 'carolina': 3294, 'coalition': 3295, 'rector': 3296, 'barbara': 3297, 'deacon': 3298, 'clare': 3299, 'declaration': 3300, 'consideration': 3301, 'spirit': 3302, 'vestry': 3303, 'human': 3304, 'protest': 3305, 'oppose': 3306, 'injustice': 3307, 'affirm': 3308, 'conscience': 3309, 'dempsey': 3310, 'gulf': 3311, 'breeze': 3312, 'fl': 3313, 'mcginnis': 3314, 'bmc': 3315, 'patriot': 3316, 'americans': 3317, 'nomination': 3318, 'intellect': 3319, 'tragic': 3320, 'flaw': 3321, 'alito': 3322, 'proof': 3323, 'websites': 3324, 'rev': 3325, 'director': 3326, 'http': 3327, 'loveallpeople': 3328, 'org': 3329, 'located': 3330, 'launches': 3331, 'manned': 3332, 'spaceflight': 3333, 'secretive': 3334, 'outsiders': 3335, 'economics': 3336, 'determiner': 3337, 'freeze': 3338, 'thawed': 3339, 'yang': 3340, 'successful': 3341, 'astronauts': 3342, 'turned': 3343, 'soviets': 3344, 'russians': 3345, 'righter': 3346, 'righ': 3347, 'sonic': 3348, 'cats': 3349, 'text': 3350, 'song': 3351, 'uploaded': 3352, 'travis': 3353, 'thu': 3354, '39': 3355, 'civet': 3356, 'rachels': 3357, 'confined': 3358, 'die': 3359, 'heat': 3360, 'musk': 3361, 'url': 3362, 'started': 3363, 'download': 3364, 'postage': 3365, 'honesty': 3366, 'integrity': 3367, 'participants': 3368, 'success': 3369, 'instructions': 3370, 'developing': 3371, 'lists': 3372, 'large': 3373, 'corporations': 3374, 'bucks': 3375, 'requesting': 3376, 'legitimate': 3377, 'paying': 3378, 'envelopes': 3379, 'addresses': 3380, 'g': 3381, 'burrows': 3382, '264': 3383, 'tor': 3384, 'toowoomba': 3385, 'qld': 3386, '4350': 3387, 'luest': 3388, '366': 3389, 'garden': 3390, 'grove': 3391, '92842': 3392, 'r': 3393, 'ansems': 3394, 'gen': 3395, 'foulkesstraat': 3396, '4641': 3397, 'bw': 3398, 'ossendrecht': 3399, 'brumbley': 3400, '4632': 3401, 'hilton': 3402, 'ave': 3403, 'columbus': 3404, 'ohio': 3405, 'amended': 3406, 'verifies': 3407, 'computer': 3408, 'memory': 3409, 'edit': 3410, 'menu': 3411, 'paste': 3412, 'save': 3413, 'notepad': 3414, 'blue': 3415, 'planet': 3416, 'afraid': 3417, 'wolf': 3418, 'boulder': 3419, 'upi': 3420, 'yellowstone': 3421, 'park': 3422, '1943': 3423, 'caper': 3424, 'seemed': 3425, 'rehabilitate': 3426, 'image': 3427, 'triggered': 3428, 'veritable': 3429, 'ecological': 3430, 'cascade': 3431, 'streamside': 3432, 'communities': 3433, 'streams': 3434, 'plants': 3435, 'root': 3436, 'stability': 3437, 'critical': 3438, 'wildland': 3439, 'ecosystems': 3440, 'wolves': 3441, 'vacated': 3442, 'fws': 3443, 'downgrade': 3444, 'status': 3445, 'bangs': 3446, 'agency': 3447, 'reviewing': 3448, 'rumors': 3449, 'reintroduction': 3450, 'climate': 3451, 'humans': 3452, 'animals': 3453, 'birds': 3454, 'arrived': 3455, 'sooner': 3456, 'migrations': 3457, 'flowered': 3458, 'phoebe': 3459, 'forest': 3460, 'phlox': 3461, 'blooming': 3462, 'half': 3463, 'phenophases': 3464, 'showed': 3465, 'consistent': 3466, 'warming': 3467, 'england': 3468, 'cuckoo': 3469, 'returns': 3470, 'occurring': 3471, 'species': 3472, 'parmesan': 3473, 'localized': 3474, 'extinctions': 3475, 'habitat': 3476, 'tree': 3477, 'swallows': 3478, 'nesting': 3479, 'nine': 3480, 'tropical': 3481, 'moved': 3482, 'florida': 3483, 'pew': 3484, 'researchers': 3485, 'tried': 3486, 'transcend': 3487, 'argument': 3488, 'preamble': 3489, 'bbc': 3490, 'katrina': 3491, 'disaster': 3492, 'affected': 3493, 'countries': 3494, 'race': 3495, 'welfare': 3496, 'orleans': 3497, 'distances': 3498, 'irrelevant': 3499, 'windermere': 3500, 'eat': 3501, 'anytime': 3502, 'interesting': 3503, 'citizen': 3504, 'stricken': 3505, 'racial': 3506, 'pockets': 3507, 'diverse': 3508, 'member': 3509, 'recently': 3510, 'addressed': 3511, 'nation': 3512, 'curb': 3513, 'diligence': 3514, 'taurus': 3515, 'progresses': 3516, 'impressive': 3517, 'ideas': 3518, 'leaps': 3519, 'bounds': 3520, 'creativity': 3521, 'restful': 3522, 'periods': 3523, 'active': 3524, 'hectic': 3525, 'suddenly': 3526, 'tight': 3527, 'inconvenient': 3528, 'smoothly': 3529, 'virgo': 3530, 'bright': 3531, 'finances': 3532, 'stable': 3533, 'hopeless': 3534, 'romantic': 3535, 'streak': 3536, 'residence': 3537, 'fascinating': 3538, 'absolute': 3539, 'overall': 3540, 'sees': 3541, 'expanding': 3542, 'intuitive': 3543, 'psychic': 3544, 'aquarius': 3545, 'pisces': 3546, 'unexpected': 3547, 'share': 3548, 'mails': 3549, 'mailto': 3550, 'archilochus': 3551, 'solar': 3552, 'eclipse': 3553, '648': 3554, 'bc': 3555, 'koran': 3556, 'descends': 3557, '610': 3558, 'ad': 3559, 'clement': 3560, 'methodius': 3561, 'dies': 3562, '884': 3563, 'petrarch': 3564, 'meets': 3565, 'laura': 3566, '1327': 3567, 'durer': 3568, '1528': 3569, 'bridget': 3570, 'vere': 3571, '1584': 3572, 'sir': 3573, 'francis': 3574, 'walsingham': 3575, '1590': 3576, 'native': 3577, 'crete': 3578, 'el': 3579, 'greco': 3580, '1614': 3581, 'lucio': 3582, 'paint': 3583, 'pompey': 3584, 'ha': 3585, 'mfm': 3586, 'sc': 3587, 'plague': 3588, '1348': 3589, 'raphael': 3590, '1483': 3591, '1520': 3592, 'thomas': 3593, 'hobbes': 3594, '1588': 3595, 'kent': 3596, 'earthquake': 3597, '1580': 3598, 'historian': 3599, 'stow': 3600, '1605': 3601, 'sat': 3602, 'alexander': 3603, 'perez': 3604, '1535': 3605, '1611': 3606, 'philip': 3607, 'renegade': 3608, 'secretary': 3609, 'scene': 3610, 'parody': 3611, 'sobriquet': 3612, 'identifies': 3613, 'armatho': 3614, 'martin': 3615, 'mgr': 3616, 'pipeline': 3617, '1995': 3618, '57': 3619, 'italy': 3620, 'jews': 3621, 'speak': 3622, \"1590's\": 3623, '1530': 3624, 'lopez': 3625, 'ruy': 3626, 'zafra': 3627, '1533': 3628, 'atahualpa': 3629, 'inca': 3630, 'emperor': 3631, 'peru': 3632, 'learns': 3633, 'chess': 3634, '1551': 3635, 'ivan': 3636, 'iv': 3637, 'bans': 3638, '1560': 3639, 'rome': 3640, '1561': 3641, 'castling': 3642, 'moves': 3643, 'proposes': 3644, '1562': 3645, 'teresa': 3646, 'reformer': 3647, 'includes': 3648, 'writings': 3649, '1570': 3650, 'gianutto': 3651, 'della': 3652, 'mantia': 3653, 'horatio': 3654, '1572': 3655, 'eminent': 3656, '1574': 3657, 'boi': 3658, 'leonardo': 3659, 'beat': 3660, 'ceron': 3661, 'phillip': 3662, '1575': 3663, 'beats': 3664, 'madrid': 3665, 'cremona': 3666, 'except': 3667, 'banned': 3668, '1576': 3669, 'prisoner': 3670, 'wins': 3671, 'catherine': 3672, 'de': 3673, 'medici': 3674, 'keen': 3675, 'terrible': 3676, 'translated': 3677, 'italian': 3678, 'tarsia': 3679, 'published': 3680, 'venice': 3681, 'wrong': 3682, 'suspicion': 3683, 'rid': 3684, 'garcia': 3685, 'lennon': 3686, 'entered': 3687, 'stardom': 3688, 'murderer': 3689, 'jesus': 3690, 'pope': 3691, 'curse': 3692, 'carried': 3693, 'shot': 3694, 'chauvinisms': 3695, 'hated': 3696, 'mccartney': 3697, 'devil': 3698, 'attempting': 3699, 'disguise': 3700, 'alt': 3701, 'consumers': 3702, 'misc': 3703, 'looming': 3704, 'h': 3705, 'examination': 3706, 'ramifications': 3707, 'desperately': 3708, 'essence': 3709, 'owns': 3710, 'portion': 3711, 'iraqi': 3712, 'seething': 3713, 'cauldron': 3714, 'sink': 3715, 'chaos': 3716, 'guards': 3717, 'trained': 3718, 'naval': 3719, 'asymmetrical': 3720, 'warfare': 3721, 'holds': 3722, 'missiles': 3723, 'fastest': 3724, 'anti': 3725, 'ship': 3726, 'sunburn': 3727, 'reach': 3728, 'mach': 3729, 'altitude': 3730, 'takes': 3731, 'range': 3732, 'superior': 3733, 'exocet': 3734, 'missile': 3735, 'uss': 3736, 'likewise': 3737, 'deployed': 3738, 'scoff': 3739, 'accumulation': 3740, 'approximately': 3741, '600': 3742, 'korea': 3743, 'sums': 3744, 'enormous': 3745, 'leverage': 3746, 'dramatic': 3747, 'reduction': 3748, 'incomes': 3749, 'economy': 3750, 'throat': 3751, 'decide': 3752, 'squeeze': 3753, 'rapid': 3754, 'victory': 3755, 'cemented': 3756, 'perception': 3757, 'vital': 3758, 'refusing': 3759, 'enlist': 3760, 'stretched': 3761, 'breaking': 3762, 'conclusion': 3763, 'accused': 3764, 'aiding': 3765, 'globe': 3766, 'manner': 3767, 'maniac': 3768, 'undertake': 3769, '1600': 3770, 'pennsylvania': 3771, 'avenue': 3772, 'answer': 3773, 'abramoff': 3774, 'probability': 3775, 'level': 3776, 'cent': 3777, 'percentage': 3778, 'population': 3779, 'britain': 3780, '79': 3781, 'hijackers': 3782, 'saudi': 3783, 'arabia': 3784, '401': 3785, 'proposed': 3786, '680': 3787, 'estimated': 3788, 'reconstruction': 3789, 'awarded': 3790, 'bechtel': 3791, 'corp': 3792, '55': 3793, 'workforce': 3794, 'unemployed': 3795, '94': 3796, '40': 3797, 'allocated': 3798, 'homeland': 3799, 'samoa': 3800, '87': 3801, 'goods': 3802, 'subjected': 3803, 'thorough': 3804, 'inspection': 3805, '0': 3806, 'port': 3807, 'chemical': 3808, 'facilities': 3809, 'giving': 3810, 'hand': 3811, 'debt': 3812, '858': 3813, 'judges': 3814, '42': 3815, 'nationalities': 3816, 'detainees': 3817, 'guantanamo': 3818, 'confirmed': 3819, 'attempts': 3820, 'bay': 3821, 'prisoners': 3822, 'french': 3823, 'record': 3824, 'holder': 3825, 'nixon': 3826, 'average': 3827, 'receives': 3828, 'fool': 3829, 'evangelicals': 3830, 'voters': 3831, 'describe': 3832, 'christians': 3833, 'ugh': 3834, 'stupid': 3835, 'yep': 3836, 'dads': 3837, 'ucas': 3838, 'merrist': 3839, 'woking': 3840, 'surrey': 3841, 'besides': 3842, 'pacquiao': 3843, 'philipines': 3844, 'famous': 3845, 'texting': 3846, 'capital': 3847, 'limerick': 3848, 'student': 3849, 'mytouch': 3850, '4g': 3851, 'crashes': 3852, 'custom': 3853, 'roms': 3854, 'install': 3855, 'newest': 3856, 'cyanogen': 3857, 'mod': 3858, 'voided': 3859, 'warrenty': 3860, 'installing': 3861, 'clockwork': 3862, 'recovery': 3863, 'older': 3864, 'cynagon': 3865, 'rom': 3866, 'bugless': 3867, 'beast': 3868, 'baked': 3869, 'snake': 3870, 'focus': 3871, 'screen': 3872, 'launcher': 3873, 'adw': 3874, 'quite': 3875, 'moors': 3876, 'penines': 3877, 'yorkshire': 3878, 'lonely': 3879, 'eerie': 3880, 'appy': 3881, 'heavy': 3882, 'lope': 3883, 'stride': 3884, 'trot': 3885, 'olympus': 3886, 'x940': 3887, 'digital': 3888, 'camera': 3889, 'ur': 3890, 'gud': 3891, 'casual': 3892, 'functions': 3893, 'photography': 3894, 'comparable': 3895, 'sony': 3896, 'mega': 3897, 'pixel': 3898, 'wide': 3899, 'optical': 3900, 'zoom': 3901, 'wud': 3902, 'def': 3903, 'worth': 3904, 'plain': 3905, 'shoot': 3906, 'english': 3907, 'fix': 3908, 'dirt': 3909, 'sensor': 3910, 'cure': 3911, 'poles': 3912, 'preferable': 3913, 'depends': 3914, 'conditions': 3915, 'skilled': 3916, 'migrant': 3917, 'visa': 3918, 'clark': 3919, 'walk': 3920, 'blocks': 3921, 'coupons': 3922, 'poison': 3923, 'knowing': 3924, 'exact': 3925, 'arm': 3926, 'hammer': 3927, \"it's\": 3928, 'loves': 3929, 'giraffes': 3930, 'homemade': 3931, 'sculpted': 3932, 'giraffe': 3933, 'laying': 3934, 'tested': 3935, 'figure': 3936, 'dried': 3937, 'fragile': 3938, 'strengthen': 3939, 'cat': 3940, 'outside': 3941, 'carrier': 3942, 'adapt': 3943, 'litter': 3944, 'mitten': 3945, 'camping': 3946, 'cleaners': 3947, 'dusting': 3948, 'parakeet': 3949, 'dust': 3950, 'budgie': 3951, 'window': 3952, 'fresh': 3953, 'circulate': 3954, 'swiffer': 3955, 'micro': 3956, 'fiber': 3957, 'cloth': 3958, 'gon': 3959, 'na': 3960, 'stupidity': 3961, 'gpa': 3962, 'mine': 3963, 'newborn': 3964, 'baby': 3965, 'fish': 3966, 'feed': 3967, 'babies': 3968, 'flakes': 3969, 'mcdonald': 3970, 'monopoly': 3971, 'wan': 3972, 'pieces': 3973, 'extra': 3974, 'fries': 3975, 'drinks': 3976, 'scroll': 3977, 'buy': 3978, 'hurt': 3979, 'unless': 3980, 'adaptation': 3981, 'kimberwick': 3982, 'horses': 3983, 'pullers': 3984, 'gives': 3985, 'pressure': 3986, 'snaffle': 3987, 'vague': 3988, 'horse': 3989, 'canon': 3990, 't3i': 3991, 'dslr': 3992, 'buying': 3993, 'guide': 3994, 'drying': 3995, 'slow': 3996, 'exposed': 3997, 'dwarf': 3998, 'hamster': 3999, 'noise': 4000, 'wheel': 4001, 'petsmart': 4002, 'origin': 4003, 'howrah': 4004, 'asansol': 4005, 'train': 4006, 'passenger': 4007, 'jeez': 4008, 'spelling': 4009, 'punctuation': 4010, 'letters': 4011, 'resumes': 4012, 'application': 4013, 'round': 4014, 'canadian': 4015, 'reapply': 4016, 'prevent': 4017, 'escaping': 4018, 'cage': 4019, 'regards': 4020, 'traveler': 4021, 'unknowledgeable': 4022, 'dislike': 4023, 'urban': 4024, 'enviroment': 4025, 'finish': 4026, 'college': 4027, 'atm': 4028, 'hotels': 4029, 'travelling': 4030, 'sleeping': 4031, 'bag': 4032, 'blanket': 4033, 'light': 4034, 'itchy': 4035, 'beg': 4036, 'spare': 4037, 'hungry': 4038, 'survival': 4039, 'setting': 4040, 'vietnamese': 4041, 'mayko': 4042, 'meiko': 4043, 'japanese': 4044, 'proven': 4045, 'relating': 4046, 'splitter': 4047, 'filter': 4048, 'adsl': 4049, 'ph': 4050, 'easiest': 4051, 'comfortably': 4052, 'film': 4053, 'scratched': 4054, 'stores': 4055, 'carry': 4056, 'adorama': 4057, 'fi': 4058, 'statue': 4059, 'censored': 4060, 'spent': 4061, 'morton': 4062, 'ruth': 4063, 'lovely': 4064, 'anniversary': 4065, 'hamsters': 4066, 'steam': 4067, 'temperature': 4068, 'constantly': 4069, 'somewhere': 4070, 'european': 4071, 'indoors': 4072, 'outdoors': 4073, 'island': 4074, 'jejudo': 4075, 'jeju': 4076, 'amazing': 4077, 'll': 4078, 'blow': 4079, 'injured': 4080, 'pure': 4081, 'bird': 4082, 'dove': 4083, 'petco': 4084, 'shallow': 4085, 'dish': 4086, 'drink': 4087, 'bait': 4088, 'worms': 4089, 'petshoppe': 4090, 'aquarium': 4091, 'pets': 4092, 'anyways': 4093, 'paris': 4094, 'cdg': 4095, 'montparnasse': 4096, 'runs': 4097, 'transfers': 4098, 'rer': 4099, 'bienvenue': 4100, 'opera': 4101, 'software': 4102, 'programs': 4103, 'smooth': 4104, 'crisp': 4105, 'black': 4106, 'editing': 4107, 'gimp': 4108, 'cutting': 4109, 'shots': 4110, 'create': 4111, 'layer': 4112, 'fill': 4113, 'colors': 4114, 'adjust': 4115, 'channel': 4116, 'values': 4117, 'brightness': 4118, 'darkness': 4119, 'parts': 4120, 'picasa': 4121, 'photoscape': 4122, 'clinic': 4123, 'cheap': 4124, 'cheapest': 4125, 'plastic': 4126, 'surgeons': 4127, 'yanhee': 4128, 'hospitals': 4129, 'meat': 4130, 'label': 4131, 'dry': 4132, 'foods': 4133, 'spoilage': 4134, 'sick': 4135, 'vet': 4136, 'welcome': 4137, 'club': 4138, 'mash': 4139, 'spoon': 4140, 'trail': 4141, 'riding': 4142, 'cantering': 4143, 'scared': 4144, 'spooky': 4145, 'competitive': 4146, 'spend': 4147, 'met': 4148, 'stuck': 4149, 'rider': 4150, 'encounters': 4151, 'foxes': 4152, 'deer': 4153, 'woodpeckers': 4154, 'pecking': 4155, 'trees': 4156, 'watched': 4157, 'aware': 4158, 'maintenance': 4159, 'keeping': 4160, 'tank': 4161, 'size': 4162, 'maintaining': 4163, 'gravity': 4164, '024': 4165, 'gallon': 4166, 'powerhead': 4167, 'sump': 4168, 'protein': 4169, 'skimmer': 4170, 'piping': 4171, 'overflow': 4172, 'tablet': 4173, 'ipad': 4174, 'kindle': 4175, 'mini': 4176, 'judging': 4177, 'processor': 4178, 'bars': 4179, 'places': 4180, 'suburbs': 4181, 'wishing': 4182, 'birthday': 4183, 'gosh': 4184, 'conditioner': 4185, 'aquasafe': 4186, 'lazers': 4187, 'wang': 4188, 'recovering': 4189, 'accident': 4190, 'appear': 4191, 'feeling': 4192, 'comic': 4193, 'sci': 4194, 'movies': 4195, 'mount': 4196, 'laser': 4197, 'sights': 4198, 'removing': 4199, 'grip': 4200, 'grips': 4201, 'common': 4202, 'wangs': 4203, 'mounting': 4204, 'semi': 4205, 'automatic': 4206, 'newer': 4207, 'rail': 4208, 'built': 4209, 'receiver': 4210, 'shaft': 4211, 'sight': 4212, 'screws': 4213, 'budgies': 4214, 'breast': 4215, 'feeding': 4216, 'male': 4217, 'bisexual': 4218, 'properly': 4219, 'btw': 4220, 'canada': 4221, 'somebody': 4222, 'bunch': 4223, 'ye': 4224, 'temporary': 4225, 'usually': 4226, 'wifi': 4227, 'syrian': 4228, 'worried': 4229, 'firstly': 4230, 'hammie': 4231, 'stressed': 4232, 'thirdly': 4233, 'cge': 4234, 'ans': 4235, 'unsure': 4236, 'fujairah': 4237, 'dubai': 4238, 'gaming': 4239, 'console': 4240, 'ps3': 4241, 'kinect': 4242, 'ds': 4243, 'psp': 4244, 'typical': 4245, 'lifespan': 4246, 'seizure': 4247, 'indoor': 4248, 'cared': 4249, 'seldom': 4250, 'knew': 4251, 'sleep': 4252, 'aged': 4253, 'bonus': 4254, 'gaining': 4255, 'loosing': 4256, 'cockatiel': 4257, 'trust': 4258, 'losing': 4259, 'gesture': 4260, 'resorted': 4261, 'flock': 4262, 'predators': 4263, 'breyer': 4264, 'hi': 4265, 'fan': 4266, 'materials': 4267, 'miniature': 4268, 'model': 4269, 'kitten': 4270, 'biting': 4271, 'plays': 4272, 'figures': 4273, 'cruel': 4274, 'teething': 4275, 'yeah': 4276, 'mouth': 4277, 'sounded': 4278, 'worries': 4279, 'randomly': 4280, 'stopped': 4281, 'height': 4282, 'width': 4283, 'rats': 4284, 'higher': 4285, 'rather': 4286, 'wider': 4287, 'equal': 4288, 'length': 4289, 'taller': 4290, 'imo': 4291, 'bought': 4292, 'ebay': 4293, 'user': 4294, 'heating': 4295, 'corn': 4296, 'opinons': 4297, \"uth's\": 4298, 'burrowing': 4299, 'snakes': 4300, 'bottom': 4301, 'brunch': 4302, 'strongly': 4303, 'definately': 4304, 'meal': 4305, 'fabulous': 4306, 'toast': 4307, 'kennedy': 4308, 'ogden': 4309, 'exit': 4310, 'hubbard': 4311, 'corner': 4312, 'noble': 4313, 'titanic': 4314, 'nervous': 4315, 'movie': 4316, 'ships': 4317, 'perform': 4318, 'drill': 4319, 'leaving': 4320, 'dock': 4321, 'japan': 4322, 'obvious': 4323, 'tourist': 4324, 'spots': 4325, 'naha': 4326, 'temples': 4327, 'shrines': 4328, 'okinawa': 4329, 'speaking': 4330, 'conveyor': 4331, 'belt': 4332, 'sushi': 4333, 'restaurant': 4334, 'sake': 4335, 'nightlife': 4336, 'modern': 4337, 'brother': 4338, 'auto': 4339, 'semiautomatic': 4340, \"16's\": 4341, 'burst': 4342, 'function': 4343, 'jamming': 4344, 'alright': 4345, 'clog': 4346, 'zealand': 4347, 'holiday': 4348, 'christchurch': 4349, 'earthquakes': 4350, 'rotarua': 4351, 'hh': 4352, 'iguazu': 4353, 'studying': 4354, 'aboard': 4355, 'tend': 4356, 'treat': 4357, 'deliteful': 4358, 'parisians': 4359, 'lack': 4360, 'proper': 4361, 'manners': 4362, 'nobody': 4363, 'mediterranean': 4364, 'friendly': 4365, 'magical': 4366, 'mostly': 4367, 'staying': 4368, 'bta': 4369, 'romance': 4370, 'allowance': 4371, 'requirement': 4372, 'invention': 4373, 'scammers': 4374, 'fraud': 4375, 'centre': 4376, 'exists': 4377, 'tighten': 4378, 'pc': 4379, 'reproduce': 4380, 'married': 4381, 'compatible': 4382, 'pair': 4383, 'mate': 4384, 'encourage': 4385, 'dempseys': 4386, 'cichlid': 4387, 'breeding': 4388, 'aggressive': 4389, 'behavior': 4390, 'stops': 4391, 'spawn': 4392, 'eggs': 4393, 'cave': 4394, 'temp': 4395, '82': 4396, 'female': 4397, 'calico': 4398, 'peeing': 4399, 'soaking': 4400, 'somehow': 4401, 'underneath': 4402, 'scrub': 4403, 'remedies': 4404, 'urination': 4405, 'vomiting': 4406, 'breath': 4407, 'listlessness': 4408, 'meantime': 4409, 'apply': 4410, 'immigeration': 4411, '63': 4412, '67': 4413, 'minimunm': 4414, 'regular': 4415, 'permanent': 4416, 'residency': 4417, 'unfortunately': 4418, 'minimums': 4419, 'score': 4420, 'acts': 4421, 'candidates': 4422, 'minimum': 4423, 'ignored': 4424, 'mad': 4425, 'upset': 4426, 'gold': 4427, 'honey': 4428, 'crapload': 4429, 'visitor': 4430, 'automatically': 4431, 'medical': 4432, 'exam': 4433, 'passport': 4434, 'blood': 4435, 'embassies': 4436, 'professional': 4437, 'double': 4438, 'embassy': 4439, 'sussex': 4440, 'silkie': 4441, 'crossbred': 4442, 'mutt': 4443, 'chicken': 4444, 'features': 4445, 'silkies': 4446, 'dominate': 4447, 'recessive': 4448, 'rec': 4449, 'dom': 4450, 'genes': 4451, 'dilute': 4452, 'gene': 4453, 'darker': 4454, 'lighter': 4455, 'five': 4456, 'crosses': 4457, 'photos': 4458, 'girlfriend': 4459, 'nikon': 4460, 'd7000': 4461, 'distracting': 4462, 'elements': 4463, 'taste': 4464, 'shadow': 4465, 'customs': 4466, 'ireland': 4467, 'countryside': 4468, 'images': 4469, 'saw': 4470, 'charges': 4471, '70': 4472, 'mile': 4473, 'dehydrated': 4474, 'transport': 4475, 'destinations': 4476, 'cruises': 4477, 'possibility': 4478, 'customise': 4479, 'ports': 4480, 'caucasian': 4481, '1970s': 4482, 'addition': 4483, 'haight': 4484, 'basically': 4485, 'latin': 4486, 'illegals': 4487, 'counted': 4488, '80s': 4489, 'percent': 4490, 'chinese': 4491, 'migration': 4492, '90s': 4493, 'fewer': 4494, 'mexican': 4495, 'border': 4496, 'rabbits': 4497, 'chickens': 4498, 'rabbit': 4499, 'non': 4500, 'veg': 4501, 'delicate': 4502, 'diseases': 4503, 'echo': 4504, 'melt': 4505, 'brass': 4506, 'cast': 4507, 'propane': 4508, 'blower': 4509, 'burner': 4510, 'mikegigi': 4511, 'meltmetl': 4512, 'htm': 4513, 'towns': 4514, 'cafes': 4515, 'restaurants': 4516, 'halal': 4517, 'dartmouth': 4518, 'devon': 4519, 'whilst': 4520, 'consume': 4521, 'packed': 4522, 'bosnia': 4523, 'animal': 4524, 'cruelty': 4525, 'forbid': 4526, 'kosher': 4527, 'switzerland': 4528, 'netherlands': 4529, 'eu': 4530, 'dictate': 4531, 'convince': 4532, 'ball': 4533, 'python': 4534, 'pythons': 4535, 'knowledge': 4536, 'dude': 4537, 'mom': 4538, 'reptile': 4539, 'sympathy': 4540, 'insulting': 4541, 'tupperwear': 4542, 'tbh': 4543, 'humane': 4544, 'gay': 4545, 'village': 4546, 'fancy': 4547, 'wanting': 4548, 'bags': 4549, 'legally': 4550, 'shih': 4551, 'tzu': 4552, 'puppy': 4553, 'trouble': 4554, 'walking': 4555, 'leash': 4556, 'trainer': 4557, 'yrs': 4558, 'shoulder': 4559, 'harness': 4560, 'chew': 4561, 'obedience': 4562, 'ajay': 4563, 'guesthouse': 4564, 'travelled': 4565, 'twice': 4566, 'rooms': 4567, 'varanasi': 4568, 'taj': 4569, 'agra': 4570, 'sandeep': 4571, 'choice': 4572, 'pet': 4573, 'mice': 4574, 'guinea': 4575, 'pigs': 4576, 'stink': 4577, 'honest': 4578, 'degus': 4579, 'rat': 4580, 'incredibly': 4581, 'social': 4582, 'trainable': 4583, 'clean': 4584, 'cleaning': 4585, 'pairs': 4586, 'trios': 4587, 'bite': 4588, 'degu': 4589, 'potatos': 4590, 'toxic': 4591, 'fostering': 4592, 'kittens': 4593, 'hating': 4594, 'scratches': 4595, 'limit': 4596, 'flooring': 4597, 'boxes': 4598, 'cleaned': 4599, 'diarrhea': 4600, 'foster': 4601, 'coordinator': 4602, 'medication': 4603, 'deworming': 4604, 'claws': 4605, 'teeth': 4606, 'adults': 4607, 'volunteering': 4608, 'shelter': 4609, 'delay': 4610, 'certificate': 4611, 'registered': 4612, 'ontario': 4613, 'registration': 4614, 'northern': 4615, 'elsewhere': 4616, 'liked': 4617, 'specify': 4618, 'royal': 4619, 'carnival': 4620, 'caribbean': 4621, 'followings': 4622, 'aficionados': 4623, 'refuse': 4624, 'sail': 4625, 'differences': 4626, 'explore': 4627, 'variety': 4628, 'liberty': 4629, 'comedian': 4630, 'juggling': 4631, 'pools': 4632, 'slide': 4633, 'spa': 4634, 'loved': 4635, 'mariner': 4636, 'seas': 4637, 'treatment': 4638, 'cruiseline': 4639, 'regent': 4640, 'walmart': 4641, 'collage': 4642, 'saving': 4643, 'boston': 4644, 'philadelphia': 4645, 'sites': 4646, 'dc': 4647, 'nashville': 4648, 'birmingham': 4649, 'charlotte': 4650, 'numerous': 4651, 'foreign': 4652, 'seville': 4653, 'barcelona': 4654, 'valencia': 4655, 'bilboa': 4656, 'pamplona': 4657, 'guernica': 4658, 'dependent': 4659, 'territory': 4660, 'door': 4661, 'adopted': 4662, 'shepherd': 4663, 'crate': 4664, 'towards': 4665, 'willingly': 4666, 'command': 4667, 'patients': 4668, 'tosses': 4669, 'tricks': 4670, 'potty': 4671, 'till': 4672, 'recommendations': 4673, 'reliable': 4674, 'inexpensive': 4675, 'sinh': 4676, 'cafe': 4677, 'satisfied': 4678, 'party': 4679, 'clubs': 4680, 'confused': 4681, 'buses': 4682, 'boss': 4683, 'yoga': 4684, 'freakin': 4685, 'leg': 4686, 'relaxing': 4687, 'alot': 4688, 'thigh': 4689, 'bareback': 4690, 'ya': 4691, 'bother': 4692, 'gastroenteritis': 4693, 'diarheya': 4694, 'vomit': 4695, 'normal': 4696, 'radiographs': 4697, 'nausea': 4698, 'seen': 4699, 'boiled': 4700, 'rice': 4701, 'ailment': 4702, \"20's\": 4703, 'relationship': 4704, 'nicer': 4705, 'articles': 4706, 'contrary': 4707, 'fallen': 4708, 'victim': 4709, 'cultural': 4710, 'trap': 4711, 'christiane': 4712, 'misunderstanding': 4713, 'chances': 4714, 'false': 4715, 'zealander': 4716, 'undergraduate': 4717, 'applied': 4718, 'scholarship': 4719, 'obviously': 4720, 'melodramatic': 4721, 'gasps': 4722, 'prostitute': 4723, 'saying': 4724, 'bed': 4725, 'annoying': 4726, 'accents': 4727, 'australia': 4728, 'racked': 4729, 'overseas': 4730, 'racking': 4731, 'nz': 4732, 'worked': 4733, 'hunger': 4734, '700': 4735, 'advertised': 4736, 'known': 4737, 'networking': 4738, 'king': 4739, 'crawls': 4740, 'eaten': 4741, 'tiny': 4742, 'pencil': 4743, 'pinkies': 4744, 'eating': 4745, 'natural': 4746, 'instinct': 4747, 'hibernate': 4748, 'shedding': 4749, 'dull': 4750, 'shed': 4751, 'suitable': 4752, 'eats': 4753, 'fifteen': 4754, 'solved': 4755, 'hiss': 4756, 'apart': 4757, 'goal': 4758, 'tet': 4759, 'offensive': 4760, 'troops': 4761, 'defeat': 4762, 'arvn': 4763, 'rushed': 4764, 'counterattacked': 4765, 'ultimate': 4766, 'rallied': 4767, 'communists': 4768, 'screwed': 4769, 'accepting': 4770, 'offered': 4771, 'emancipate': 4772, 'failure': 4773, 'unpalatable': 4774, 'succeeded': 4775, 'google': 4776, 'bearded': 4777, 'dragon': 4778, 'juvenile': 4779, 'crickets': 4780, 'uvb': 4781, 'reproduced': 4782, 'fluorescent': 4783, 'lighting': 4784, 'thermometer': 4785, 'leafy': 4786, 'veggies': 4787, 'kale': 4788, 'spinach': 4789, 'finch': 4790, 'y': 4791, 'thx': 4792, 'christmas': 4793, 'ended': 4794, 'zebra': 4795, 'finches': 4796, 'chirping': 4797, 'tired': 4798, 'messy': 4799, 've': 4800, 'tame': 4801, 'tamed': 4802, 'touched': 4803, 'parakeets': 4804, 'adorable': 4805, 'personality': 4806, 'choosing': 4807, 'stripes': 4808, 'hair': 4809, 'stipes': 4810, 'balding': 4811, 'feathers': 4812, 'pink': 4813, 'brown': 4814, 'yellow': 4815, 'honestly': 4816, 'couch': 4817, 'finger': 4818, 'gently': 4819, 'hit': 4820, 'yell': 4821, 'quiet': 4822, 'named': 4823, 'cookie': 4824, 'sister': 4825, 'rain': 4826, 'county': 4827, 'worst': 4828, 'southeast': 4829, 'driest': 4830, 'enjoying': 4831, 'continental': 4832, 'assumptions': 4833, 'spring': 4834, 'festivities': 4835, 'patrick': 4836, 'festival': 4837, 'waterproof': 4838, 'clothing': 4839, 'footwear': 4840, 'essential': 4841, 'umbrella': 4842, 'dublin': 4843, 'bbq': 4844, 'occasions': 4845, 'realise': 4846, 'particular': 4847, 'killifish': 4848, 'colorful': 4849, 'cm': 4850, 'colourful': 4851, 'earthworms': 4852, 'uncut': 4853, 'everyday': 4854, 'acrylic': 4855, 'spawning': 4856, 'mop': 4857, 'separated': 4858, 'nourishing': 4859, 'produce': 4860, 'nicks': 4861, 'dings': 4862, 'fins': 4863, 'incubation': 4864, 'chlorine': 4865, 'ammonia': 4866, 'choramine': 4867, 'mineral': 4868, 'aplo': 4869, 'lineatus': 4870, 'indicates': 4871, 'thrive': 4872, 'chemistries': 4873, 'minerals': 4874, 'consequence': 4875, 'suffocate': 4876, 'shipping': 4877, 'container': 4878, 'methylene': 4879, 'grist': 4880, 'disney': 4881, 'yr': 4882, 'olds': 4883, 'tips': 4884, 'holidaying': 4885, 'filled': 4886, 'rejuvenating': 4887, 'memorable': 4888, 'designed': 4889, 'thematically': 4890, 'imposing': 4891, 'animated': 4892, 'cartoon': 4893, 'characters': 4894, 'magic': 4895, 'comforts': 4896, 'travelers': 4897, 'spacious': 4898, 'furnished': 4899, 'neatly': 4900, 'decorated': 4901, 'uniquely': 4902, 'marvelously': 4903, 'offers': 4904, 'eatables': 4905, 'deliciously': 4906, 'delicious': 4907, 'shores': 4908, 'regions': 4909, 'imposingly': 4910, 'theme': 4911, 'parks': 4912, 'types': 4913, 'entertainment': 4914, 'relax': 4915, 'rejuvenate': 4916, 'offering': 4917, 'booking': 4918, 'facility': 4919, 'affordable': 4920, 'avoid': 4921, 'onboard': 4922, 'magnet': 4923, 'magnetic': 4924, 'whiteboard': 4925, 'cabin': 4926, 'illustrated': 4927, 'describing': 4928, 'consistently': 4929, 'gained': 4930, 'pounds': 4931, 'farrier': 4932, 'father': 4933, 'insight': 4934, 'switched': 4935, 'coffee': 4936, 'habit': 4937, 'epm': 4938, 'dealt': 4939, 'lame': 4940, 'owner': 4941, 'dentist': 4942, 'gant': 4943, 'flank': 4944, 'topline': 4945, 'muscle': 4946, 'afford': 4947, 'wobblers': 4948, 'willing': 4949, 'chiro': 4950, 'rideable': 4951, 'saddle': 4952, 'pain': 4953, 'looked': 4954, 'studies': 4955, 'treating': 4956, 'acupuncture': 4957, 'alternative': 4958, 'therapies': 4959, 'hauled': 4960, 'windsor': 4961, 'returned': 4962, 'racing': 4963, 'lifetime': 4964, 'causing': 4965, 'atrophy': 4966, 'slight': 4967, 'stroke': 4968, 'knows': 4969, 'rude': 4970, 'insensitive': 4971, 'discourteous': 4972, 'wedding': 4973, 'impressed': 4974, 'cj': 4975, 'imagined': 4976, 'ants': 4977, 'myself': 4978, 'location': 4979, 'neighbors': 4980, 'dropped': 4981, 'lynda': 4982, 'compassion': 4983, 'garage': 4984, 'doors': 4985, 'happier': 4986, 'super': 4987, 'cold': 4988, 'serve': 4989, 'fast': 4990, 'lab': 4991, 'coats': 4992, 'lftd': 4993, 'weekends': 4994, 'infant': 4995, 'content': 4996, 'fantastic': 4997, 'lasted': 4998, 'faris': 4999, 'edmark': 5000, 'rover': 5001, 'sport': 5002, 'rear': 5003, 'tints': 5004, 'beer': 5005, 'store': 5006, 'verizon': 5007, 'dupont': 5008, 'unbeatable': 5009, 'wisdom': 5010, 'wallen': 5011, 'procedure': 5012, 'insurance': 5013, 'procedures': 5014, 'tattoos': 5015, 'revived': 5016, 'artwork': 5017, 'shop': 5018, 'tattoo': 5019, 'cathy': 5020, 'stars': 5021, 'lake': 5022, 'tots': 5023, 'postive': 5024, 'wine': 5025, 'tastings': 5026, 'opposite': 5027, 'quiktrip': 5028, 'crappy': 5029, 'recieve': 5030, 'awesome': 5031, 'haircut': 5032, 'palatine': 5033, 'towel': 5034, 'straight': 5035, 'edge': 5036, 'shave': 5037, 'baffled': 5038, 'loving': 5039, 'wok': 5040, 'cooked': 5041, 'chefs': 5042, 'comfort': 5043, 'starbucks': 5044, 'assembly': 5045, 'te': 5046, 'rest': 5047, 'anywhere': 5048, 'camper': 5049, 'decent': 5050, 'cup': 5051, 'burnt': 5052, 'bitter': 5053, 'sugar': 5054, 'milk': 5055, 'mask': 5056, 'westfield': 5057, 'rt': 5058, 'brick': 5059, 'ikea': 5060, 'furniture': 5061, 'qwest': 5062, 'dsl': 5063, 'lowest': 5064, 'lease': 5065, '129': 5066, 'tmobile': 5067, 'sweets': 5068, 'delicous': 5069, \"l'espalier\": 5070, 'discounted': 5071, 'beauty': 5072, 'household': 5073, 'appliances': 5074, 'daughter': 5075, 'ballet': 5076, 'instep': 5077, 'notch': 5078, 'loyal': 5079, 'crust': 5080, 'broad': 5081, 'coupon': 5082, 'pennysaver': 5083, 'grills': 5084, 'retarded': 5085, 'complaining': 5086, 'severe': 5087, 'toothache': 5088, 'dentists': 5089, 'fernandina': 5090, 'amelia': 5091, 'gentle': 5092, 'dentistry': 5093, 'chester': 5094, 'feels': 5095, 'springfield': 5096, 'il': 5097, 'funeral': 5098, 'kansas': 5099, 'refrigerator': 5100, 'brought': 5101, 'le': 5102, 'petit': 5103, 'nails': 5104, 'promise': 5105, 'disappointed': 5106, 'chocolate': 5107, 'lava': 5108, 'cake': 5109, 'retracted': 5110, 'hcc': 5111, 'kusal': 5112, 'goonewardena': 5113, 'physios': 5114, 'unbelievable': 5115, 'vigor': 5116, 'improved': 5117, 'happened': 5118, 'whim': 5119, 'server': 5120, 'attentive': 5121, 'flavorful': 5122, 'enjoyable': 5123, 'choppy': 5124, 'bull': 5125, 'nurses': 5126, 'sweet': 5127, 'pie': 5128, 'healing': 5129, 'buck': 5130, 'brainer': 5131, 'choose': 5132, 'pros': 5133, 'dingy': 5134, 'dirty': 5135, 'bike': 5136, 'fixeded': 5137, 'thumpstar': 5138, 'wase': 5139, 'gear': 5140, 'thaks': 5141, 'reccommend': 5142, 'suspect': 5143, 'failing': 5144, 'management': 5145, 'struggling': 5146, 'fond': 5147, 'memories': 5148, 'ham': 5149, 'hire': 5150, 'quickly': 5151, 'windows': 5152, 'closing': 5153, 'forgot': 5154, 'trainers': 5155, 'min': 5156, 'whenever': 5157, 'writer': 5158, 'printers': 5159, 'joule': 5160, 'gang': 5161, 'exceed': 5162, 'nasty': 5163, 'maids': 5164, 'satisfactory': 5165, 'sercvice': 5166, 'clothes': 5167, 'spoil': 5168, 'princess': 5169, 'largest': 5170, 'chandeliers': 5171, 'antiques': 5172, 'vintage': 5173, 'contemporary': 5174, 'repair': 5175, 'restoration': 5176, 'someplace': 5177, 'ribs': 5178, 'ordered': 5179, 'moo': 5180, 'shu': 5181, 'pork': 5182, 'disappointment': 5183, 'iowa': 5184, 'soul': 5185, 'presented': 5186, 'sum': 5187, 'penny': 5188, 'polite': 5189, 'dustin': 5190, 'feverishly': 5191, 'exhaust': 5192, 'motor': 5193, 'replaced': 5194, 'rhino': 5195, 'grizzly': 5196, 'department': 5197, 'blows': 5198, 'dreams': 5199, 'reality': 5200, 'bea': 5201, 'esp': 5202, 'mole': 5203, 'tortilla': 5204, 'soup': 5205, 'guacamole': 5206, 'complaint': 5207, 'queso': 5208, 'watery': 5209, 'vomited': 5210, 'poor': 5211, 'skylight': 5212, 'horrible': 5213, 'wind': 5214, 'blew': 5215, 'satisfaction': 5216, 'tricky': 5217, 'rental': 5218, 'raina': 5219, 'gift': 5220, 'chili': 5221, 'relleno': 5222, 'batter': 5223, 'mixed': 5224, 'tempura': 5225, 'shrimp': 5226, 'vegetable': 5227, 'salad': 5228, 'dine': 5229, 'cesar': 5230, 'gracie': 5231, 'ufc': 5232, 'jiu': 5233, 'jitsu': 5234, 'mma': 5235, 'toyota': 5236, 'absoulutely': 5237, 'reccomend': 5238, 'hospitality': 5239, 'cars': 5240, 'claimed': 5241, 'drives': 5242, 'cajunish': 5243, 'meadowrun': 5244, 'nightmare': 5245, 'locally': 5246, 'bites': 5247, 'baltimore': 5248, 'apps': 5249, 'entree': 5250, '07': 5251, 'dining': 5252, 'interviewed': 5253, 'thankful': 5254, 'puppies': 5255, 'breeder': 5256, 'bar': 5257, 'que': 5258, 'sauce': 5259, 'checked': 5260, 'napkins': 5261, 'buys': 5262, 'chao': 5263, 'knowledgeable': 5264, 'gentel': 5265, 'preserve': 5266, 'meticulous': 5267, 'smile': 5268, 'emissions': 5269, 'manson': 5270, 'pretense': 5271, 'reasonably': 5272, 'priced': 5273, 'selections': 5274, 'tasting': 5275, 'seriously': 5276, 'willow': 5277, 'lounge': 5278, 'ipanema': 5279, 'threw': 5280, 'surprise': 5281, 'fraiser': 5282, 'building': 5283, 'caught': 5284, 'furnishings': 5285, 'accessories': 5286, 'colorado': 5287, 'flips': 5288, 'sucks': 5289, 'ignorant': 5290, 'compeltly': 5291, 'dissatisfied': 5292, 'advanced': 5293, 'meanest': 5294, 'uneven': 5295, 'rediculous': 5296, 'supercuts': 5297, 'favor': 5298, 'establishment': 5299, 'shame': 5300, 'branford': 5301, 'disgusting': 5302, 'adequate': 5303, 'phenomenal': 5304, 'lopsided': 5305, 'thicker': 5306, 'hole': 5307, 'slices': 5308, 'minimal': 5309, 'cheese': 5310, 'lacked': 5311, 'flavor': 5312, 'pizza': 5313, 'complete': 5314, 'utter': 5315, 'sales': 5316, 'patience': 5317, 'kindness': 5318, 'tasted': 5319, 'odd': 5320, 'flipped': 5321, 'square': 5322, 'riddled': 5323, 'mold': 5324, 'clerk': 5325, 'considerable': 5326, 'providence': 5327, 'aesthetics': 5328, 'jana': 5329, 'kueck': 5330, 'music': 5331, 'art': 5332, 'hesitate': 5333, 'roofing': 5334, 'recommended': 5335, 'van': 5336, 'mysterys': 5337, 'valet': 5338, 'apartments': 5339, 'roadside': 5340, 'towed': 5341, 'vehicle': 5342, 'sussman': 5343, 'kia': 5344, 'pleasant': 5345, 'dealer': 5346, 'bringing': 5347, 'eatting': 5348, 'amaze': 5349, 'grill': 5350, 'dishes': 5351, 'ta': 5352, 'juno': 5353, 'atmosphere': 5354, 'kid': 5355, 'amore': 5356, 'arancini': 5357, 'di': 5358, 'riso': 5359, 'risotto': 5360, 'fritters': 5361, 'towing': 5362, 'solana': 5363, 'vibe': 5364, 'impeccable': 5365, 'janice': 5366, 'alta': 5367, 'moda': 5368, 'suck': 5369, 'genius': 5370, 'talent': 5371, 'layout': 5372, 'learning': 5373, 'italiano': 5374, 'nissan': 5375, 'dealship': 5376, 'nw': 5377, 'er': 5378, 'nurse': 5379, 'seekers': 5380, 'attended': 5381, 'jolla': 5382, 'residential': 5383, 'mistake': 5384, 'tasteless': 5385, 'host': 5386, 'upcoming': 5387, 'converted': 5388, 'hino': 5389, 'contributions': 5390, 'awards': 5391, 'leader': 5392, 'dandenong': 5393, 'pma': 5394, 'medium': 5395, 'anthony': 5396, 'bronze': 5397, 'excellence': 5398, 'brendan': 5399, 'bottles': 5400, 'photographer': 5401, 'hesitation': 5402, 'peddle': 5403, 'rescheduling': 5404, 'chose': 5405, 'hang': 5406, 'rip': 5407, 'excuse': 5408, 'estimate': 5409, 'gem': 5410, 'immaculately': 5411, 'authentic': 5412, 'cuban': 5413, 'cuisine': 5414, 'ingredients': 5415, 'expertly': 5416, 'seasoned': 5417, 'compassionate': 5418, 'approachable': 5419, 'personalized': 5420, 'counseling': 5421, 'nonjudgmental': 5422, 'veraakulov': 5423, 'preferred': 5424, 'provider': 5425, 'petting': 5426, 'gracee': 5427, 'minute': 5428, 'calls': 5429, 'punctual': 5430, 'enthusiastic': 5431, 'nonexistent': 5432, 'unorganized': 5433, 'exile': 5434, 'longest': 5435, 'lasting': 5436, 'punk': 5437, 'richmond': 5438, 'shopping': 5439, 'environmentally': 5440, 'conscious': 5441, 'heavily': 5442, 'angry': 5443, 'lobster': 5444, 'landlord': 5445, 'buckingham': 5446, 'condominiums': 5447, 'townhouse': 5448, 'exterminator': 5449, 'experienced': 5450, 'leaves': 5451, 'desired': 5452, 'wildernest': 5453, 'occasional': 5454, 'deck': 5455, 'mingle': 5456, 'wildlife': 5457, 'kathy': 5458, 'stewart': 5459, 'proprietors': 5460, 'epitome': 5461, 'delightful': 5462, 'hospitable': 5463, 'superb': 5464, 'restored': 5465, 'mechanics': 5466, 'kitchen': 5467, 'preparing': 5468, 'breakfasts': 5469, 'waiters': 5470, 'licking': 5471, 'bowel': 5472, 'holly': 5473, 'truely': 5474, 'hairstylist': 5475, 'welcoming': 5476, 'highlights': 5477, 'blowdry': 5478, 'compliments': 5479, 'deffenitly': 5480, 'salon': 5481, 'finest': 5482, 'magnificent': 5483, 'shape': 5484, 'astounding': 5485, 'owners': 5486, 'entertaining': 5487, 'gracious': 5488, 'farms': 5489, 'mahal': 5490, 'debit': 5491, 'transformational': 5492, 'coach': 5493, 'bramen': 5494, 'honda': 5495, 'hassle': 5496, 'brickell': 5497, 'frontier': 5498, 'cracked': 5499, 'manifold': 5500, 'mechanic': 5501, 'nail': 5502, 'shady': 5503, 'jerk': 5504, 'attitude': 5505, 'inexperienced': 5506, 'prideful': 5507, 'researching': 5508, 'vets': 5509, 'written': 5510, 'untrue': 5511, 'ghassemlou': 5512, 'learned': 5513, 'afterward': 5514, 'fused': 5515, 'unbelievably': 5516, 'kim': 5517, 'cheveux': 5518, 'quaint': 5519, 'felt': 5520, 'hostess': 5521, 'stand': 5522, 'unprofessional': 5523, 'jerks': 5524, 'carless': 5525, 'neeeeeeeeeverrrr': 5526, 'conditioned': 5527, 'students': 5528, 'argue': 5529, 'complex': 5530, '90': 5531, 'tenants': 5532, 'smokers': 5533, 'smoke': 5534, 'regulars': 5535, 'hotpot': 5536, 'traffic': 5537, 'bloody': 5538, 'chrisssake': 5539, 'christian': 5540, 'churchy': 5541, 'grandure': 5542, 'robe': 5543, \"'60s\": 5544, 'heck': 5545, 'becuse': 5546, 'broken': 5547, 'fair': 5548, 'johnette': 5549, 'responsiveness': 5550, '2010': 5551, 'picky': 5552, 'eaters': 5553, 'orderd': 5554, 'meals': 5555, 'chimichangas': 5556, 'jalapeno': 5557, 'borritos': 5558, 'quesadillas': 5559, 'bland': 5560, 'spice': 5561, 'tables': 5562, 'empty': 5563, 'fidelity': 5564, 'leasing': 5565, 'joke': 5566, 'whatsoever': 5567, 'misinform': 5568, 'misrepresent': 5569, 'excuses': 5570, 'confuse': 5571, 'holders': 5572, 'misinformation': 5573, 'ifa': 5574, 'assh': 5575, 'loud': 5576, 'safety': 5577, 'equipped': 5578, 'gym': 5579, 'jose': 5580, 'contractors': 5581, 'remodel': 5582, 'pressured': 5583, 'mann': 5584, 'beloved': 5585, 'kitty': 5586, 'itemized': 5587, 'disposal': 5588, 'fee': 5589, 'waited': 5590, 'mins': 5591, 'chain': 5592, 'slipped': 5593, 'lucky': 5594, 'adopt': 5595, 'frustrating': 5596, '230': 5597, 'ammount': 5598, 'wasted': 5599, 'elevated': 5600, 'promised': 5601, 'advertising': 5602, 'boot': 5603, 'tile': 5604, 'remodeling': 5605, 'certified': 5606, 'owned': 5607, 'bmw': 5608, 'dealership': 5609, 'driving': 5610, 'highway': 5611, 'seal': 5612, 'soda': 5613, 'ohm': 5614, 'grow': 5615, 'sierra': 5616, 'stylist': 5617, 'wavy': 5618, 'trio': 5619, 'hills': 5620, 'warn': 5621, 'grocery': 5622, '5000': 5623, 'challenging': 5624, 'managing': 5625, 'pos': 5626, 'counter': 5627, 'barcoding': 5628, 'fusionretail': 5629, 'maintain': 5630, 'organised': 5631, 'resolved': 5632, 'cayuga': 5633, 'lewiston': 5634, 'gentleman': 5635, 'foot': 5636, 'cuticles': 5637, 'pedicure': 5638, 'stretch': 5639, 'andrew': 5640, 'infertility': 5641, 'herbs': 5642, 'suspicious': 5643, 'glowing': 5644, 'yards': 5645, 'brewery': 5646, 'sampler': 5647, 'ipa': 5648, 'brawler': 5649, 'stout': 5650, 'esa': 5651, 'philly': 5652, 'negative': 5653, 'abou': 5654, 'parking': 5655, 'cruze': 5656, 'mpg': 5657, 'miles': 5658, '9000': 5659, 'purchace': 5660, 'vic': 5661, 'canever': 5662, 'grandparents': 5663, 'passed': 5664, 'professionally': 5665, 'names': 5666, 'greeter': 5667, 'reasons': 5668, 'instructor': 5669, 'studio': 5670, 'karma': 5671, 'manifest': 5672, 'marginal': 5673, 'focused': 5674, 'entertained': 5675, 'dental': 5676, 'discomfort': 5677, 'courage': 5678, 'muster': 5679, 'considered': 5680, 'rocky': 5681, 'lange': 5682, 'retired': 5683, 'routine': 5684, 'ingrown': 5685, 'toenail': 5686, '483': 5687, 'payments': 5688, 'reversed': 5689, 'reversal': 5690, 'billing': 5691, '1000': 5692, 'postcards': 5693, 'thieves': 5694, 'falls': 5695, 'catagory': 5696, 'rigged': 5697, 'somethin': 5698, 'popped': 5699, 'pumpkin': 5700, 'latte': 5701, 'break': 5702, 'stationery': 5703, 'goodness': 5704, 'printing': 5705, 'overpriced': 5706, 'ltake': 5707, 'premier': 5708, 'university': 5709, 'virginia': 5710, 'fhs': 5711, 'rutgers': 5712, 'ranked': 5713, 'pharmacy': 5714, 'motel': 5715, 'chill': 5716, 'regret': 5717, 'slice': 5718, 'forsyth': 5719, 'selection': 5720, 'meats': 5721, 'sauces': 5722, 'cookies': 5723, 'cakes': 5724, 'craving': 5725, 'loss': 5726, 'liau': 5727, 'talks': 5728, 'cares': 5729, 'confident': 5730, 'wearing': 5731, 'bathing': 5732, 'suit': 5733, 'bowtie': 5734, 'nicely': 5735, 'theatre': 5736, 'ads': 5737, 'previews': 5738, 'feature': 5739, 'cinema': 5740, 'jean': 5741, 'hyundai': 5742, 'genesis': 5743, 'quoted': 5744, 'inclusive': 5745, 'grinder': 5746, 'inserts': 5747, '260': 5748, 'suspects': 5749, 'reviewer': 5750, 'laundry': 5751, 'necessarily': 5752, 'clock': 5753, 'ensure': 5754, 'scoop': 5755, 'serivce': 5756, 'fuse': 5757, '2007': 5758, 'alarms': 5759, 'audio': 5760, 'visual': 5761, 'passion': 5762, 'eather': 5763, 'realy': 5764, 'wrapping': 5765, 'totalling': 5766, '212': 5767, 'ted': 5768, 'curtains': 5769, 'rudeness': 5770, 'smoked': 5771, 'smoking': 5772, 'reception': 5773, 'responded': 5774, 'alerted': 5775, 'emailed': 5776, 'mackinaw': 5777, 'devoid': 5778, 'nyc': 5779, 'glasgow': 5780, 'grail': 5781, 'crushed': 5782, 'pepper': 5783, 'oregano': 5784, 'flew': 5785, 'waitress': 5786, 'visiting': 5787, 'mia': 5788, 'seats': 5789, '2009': 5790, 'mezza': 5791, \"luna's\": 5792, 'deffly': 5793, 'healthier': 5794, 'prolly': 5795, 'luna': 5796, 'crushing': 5797, 'negotiation': 5798, 'fiance': 5799, 'identity': 5800, 'stolen': 5801, 'luckily': 5802, 'crooks': 5803, 'hookers': 5804, 'spaces': 5805, 'cooper': 5806, 'bugs': 5807, 'falling': 5808, 'oily': 5809, 'greasy': 5810, 'thinks': 5811, 'kiss': 5812, 'silly': 5813, 'experiences': 5814, 'chef': 5815, 'miracles': 5816, '21st': 5817, 'offices': 5818, 'traveled': 5819, 'resturant': 5820, 'usally': 5821, 'promptly': 5822, 'portions': 5823, 'generous': 5824, 'amazes': 5825, 'personable': 5826, 'unheard': 5827, 'intruders': 5828, 'slit': 5829, 'helped': 5830, 'conditioning': 5831, 'approx': 5832, 'compressor': 5833, 'nope': 5834, 'stood': 5835, 'bench': 5836, 'picked': 5837, 'sooo': 5838, 'locker': 5839, 'cape': 5840, 'fitness': 5841, 'obligated': 5842, 'ridiculous': 5843, 'celebrity': 5844, 'derrick': 5845, '400': 5846, 'jaw': 5847, 'receptionist': 5848, 'cried': 5849, 'accountant': 5850, 'lower': 5851, 'rating': 5852, 'lose': 5853, 'drawer': 5854, 'limbo': 5855, 'bedroom': 5856, 'conquer': 5857, 'confidently': 5858, 'egg': 5859, 'tastes': 5860, 'strzalka': 5861, 'flagship': 5862, 'cvts': 5863, '2008': 5864, 'proxy': 5865, 'stone': 5866, 'inoperable': 5867, 'warwick': 5868, 'jersey': 5869, '1701': 5870, 'locust': 5871, 'township': 5872, 'walnut': 5873, '17th': 5874, 'phantom': 5875, 'innkeeper': 5876, 'arrival': 5877, 'cans': 5878, 'trash': 5879, 'bath': 5880, 'stall': 5881, 'mildew': 5882, 'kitchens': 5883, 'laffa': 5884, 'hummus': 5885, 'tells': 5886, 'semifreddo': 5887, 'brides': 5888, 'detective': 5889, 'uhh': 5890, 'shops': 5891, 'transparent': 5892, 'shredded': 5893, 'tire': 5894, '<oov>': 5895}\n"
          ],
          "name": "stdout"
        }
      ]
    },
    {
      "metadata": {
        "id": "JLx2kZmvEswj",
        "colab_type": "code",
        "colab": {}
      },
      "cell_type": "code",
      "source": [
        "time_numerical = sequence"
      ],
      "execution_count": 0,
      "outputs": []
    },
    {
      "metadata": {
        "id": "FKos897UEswr",
        "colab_type": "code",
        "outputId": "76d8c90a-cf17-472d-ac53-8c446643e4dd",
        "colab": {
          "base_uri": "https://localhost:8080/",
          "height": 91
        }
      },
      "cell_type": "code",
      "source": [
        "#########################\n",
        "#  Check that the length is right\n",
        "#########################\n",
        "print(len(time_numerical))\n",
        "\n",
        "#########################\n",
        "#  Check that the format looks right\n",
        "#########################\n",
        "print(time_numerical[:20])\n",
        "\n",
        "#########################\n",
        "#  Convert back to text\n",
        "#########################\n",
        "print(\" \".join([character_list[idx] for idx in time_numerical[:39]]))"
      ],
      "execution_count": 10,
      "outputs": [
        {
          "output_type": "stream",
          "text": [
            "36408\n",
            "[ 1  2  3  4  5  6  1  7  8  9 10 11  0 12 13 14 15  3 16  1]\n",
            "the third was being run by the head of an investment firm <eos> you wonder if he was manipulating the market with his bombing targets <eos> guerrillas killed an engineer asi ali from tikrit <eos> his mother was also\n"
          ],
          "name": "stdout"
        }
      ]
    },
    {
      "metadata": {
        "id": "XxK_wAV1Esw2",
        "colab_type": "code",
        "colab": {}
      },
      "cell_type": "code",
      "source": [
        "def one_hots(numerical_list, vocab_size=vocab_size):\n",
        "    result = nd.zeros((len(numerical_list), vocab_size), ctx=ctx)\n",
        "    for i, idx in enumerate(numerical_list):\n",
        "        result[i, int(idx)] = 1.0\n",
        "    return result"
      ],
      "execution_count": 0,
      "outputs": []
    },
    {
      "metadata": {
        "id": "6mDSAeM6Esw-",
        "colab_type": "code",
        "outputId": "a1c245f7-ce96-43f9-aa8e-5f4a2aaf1df7",
        "colab": {
          "base_uri": "https://localhost:8080/",
          "height": 89
        }
      },
      "cell_type": "code",
      "source": [
        "print(one_hots(time_numerical[:2]))"
      ],
      "execution_count": 12,
      "outputs": [
        {
          "output_type": "stream",
          "text": [
            "\n",
            "[[ 0.  1.  0. ...,  0.  0.  0.]\n",
            " [ 0.  0.  1. ...,  0.  0.  0.]]\n",
            "<NDArray 2x5896 @gpu(0)>\n"
          ],
          "name": "stdout"
        }
      ]
    },
    {
      "metadata": {
        "id": "ncDeb04zEsxF",
        "colab_type": "code",
        "colab": {}
      },
      "cell_type": "code",
      "source": [
        "def textify(embedding):\n",
        "    indices = nd.argmax(embedding, axis=1).asnumpy()\n",
        "    #result = \" \".join([character_list[int(idx)] if int(idx) != 0 else '\\n' for idx in indices])\n",
        "    result = (\" \".join([character_list[int(idx)] for idx in indices])+' ').replace('<eos> ','\\n')\n",
        "    return result"
      ],
      "execution_count": 0,
      "outputs": []
    },
    {
      "metadata": {
        "id": "BeRr8v2-EsxK",
        "colab_type": "code",
        "outputId": "c47876a4-080d-475a-e257-a326c45253e1",
        "colab": {
          "base_uri": "https://localhost:8080/",
          "height": 251
        }
      },
      "cell_type": "code",
      "source": [
        "print(textify(one_hots(time_numerical[:40])))\n",
        "print('\\n\\n')\n",
        "print(textify(one_hots(time_numerical[-40:])))"
      ],
      "execution_count": 14,
      "outputs": [
        {
          "output_type": "stream",
          "text": [
            "the third was being run by the head of an investment firm \n",
            "you wonder if he was manipulating the market with his bombing targets \n",
            "guerrillas killed an engineer asi ali from tikrit \n",
            "his mother was also killed \n",
            "\n",
            "\n",
            "\n",
            "in on a sunday to replace a shredded tire \n",
            "ok one bad experience fine \n",
            "once again i waited for quite a bit before being attended to \n",
            "so i got just my other rear tire replaced \n",
            "\n",
            "\n"
          ],
          "name": "stdout"
        }
      ]
    },
    {
      "metadata": {
        "id": "_K-aGNstEsxS",
        "colab_type": "code",
        "outputId": "bd8487fe-b839-48fc-cc8e-fc021183e145",
        "colab": {
          "base_uri": "https://localhost:8080/",
          "height": 125
        }
      },
      "cell_type": "code",
      "source": [
        "seq_length = 64\n",
        "# -1 here so we have enough characters for labels later\n",
        "num_samples = (len(time_numerical) - 1) // seq_length\n",
        "dataset = one_hots(time_numerical[:seq_length*num_samples]).reshape((num_samples, seq_length, vocab_size))\n",
        "print(textify(dataset[0]))"
      ],
      "execution_count": 15,
      "outputs": [
        {
          "output_type": "stream",
          "text": [
            "the third was being run by the head of an investment firm \n",
            "you wonder if he was manipulating the market with his bombing targets \n",
            "guerrillas killed an engineer asi ali from tikrit \n",
            "his mother was also killed in the attack \n",
            "the commission said it had no legal grounds for such an exclusion \n",
            "this item is a small one and \n"
          ],
          "name": "stdout"
        }
      ]
    },
    {
      "metadata": {
        "id": "6b9-Ke_AEsxd",
        "colab_type": "code",
        "colab": {}
      },
      "cell_type": "code",
      "source": [
        "batch_size = 32"
      ],
      "execution_count": 0,
      "outputs": []
    },
    {
      "metadata": {
        "id": "MKl_-TgZEsxl",
        "colab_type": "code",
        "outputId": "08ddcd52-85ee-4ab3-8823-f669d0e3a326",
        "colab": {
          "base_uri": "https://localhost:8080/",
          "height": 71
        }
      },
      "cell_type": "code",
      "source": [
        "print('# of sequences in dataset: ', len(dataset))\n",
        "num_batches = len(dataset) // batch_size\n",
        "print('# of batches: ', num_batches)\n",
        "train_data = dataset[:num_batches*batch_size].reshape((batch_size, num_batches, seq_length, vocab_size))\n",
        "# swap batch_size and seq_length axis to make later access easier\n",
        "train_data = nd.swapaxes(train_data, 0, 1)\n",
        "train_data = nd.swapaxes(train_data, 1, 2)\n",
        "print('Shape of data set: ', train_data.shape)"
      ],
      "execution_count": 17,
      "outputs": [
        {
          "output_type": "stream",
          "text": [
            "# of sequences in dataset:  568\n",
            "# of batches:  17\n",
            "Shape of data set:  (17, 64, 32, 5896)\n"
          ],
          "name": "stdout"
        }
      ]
    },
    {
      "metadata": {
        "id": "_dV0ypiaEsxz",
        "colab_type": "code",
        "outputId": "aa269994-ae92-4fe2-ecce-053850a577ab",
        "colab": {
          "base_uri": "https://localhost:8080/",
          "height": 917
        }
      },
      "cell_type": "code",
      "source": [
        "for i in range(3):\n",
        "    print(\"***Batch %s:***\\n %s \\n %s \\n\\n\" % (i, textify(train_data[i, :, 0]), textify(train_data[i, :, 1])))"
      ],
      "execution_count": 18,
      "outputs": [
        {
          "output_type": "stream",
          "text": [
            "***Batch 0:***\n",
            " the third was being run by the head of an investment firm \n",
            "you wonder if he was manipulating the market with his bombing targets \n",
            "guerrillas killed an engineer asi ali from tikrit \n",
            "his mother was also killed in the attack \n",
            "the commission said it had no legal grounds for such an exclusion \n",
            "this item is a small one and  \n",
            " intelligence 's lackluster performance in dealing with the ltte is startling \n",
            "six crew members were from the arakan region of myanmar \n",
            "the boat was heading toward cox 's bazar in bangladesh \n",
            "subsequently phuket became the ltte 's main backup base \n",
            "he also writes for aakrosh india 's defense tied quarterly journal \n",
            "both india and afghanistan deny the claim \n",
            " \n",
            "\n",
            "\n",
            "***Batch 1:***\n",
            " easily missed \n",
            "but in my view it is highly significant \n",
            "the situation in iraq is only going to get better this way \n",
            "if someone committed a crime against humanity prosecute the person \n",
            "a team from the court managed to take his deposition before he died \n",
            "the trial begins again nov 28 \n",
            "there has been talk that the night  \n",
            " where are mullah omar mullah usmani and gulbuddin hikmetar \n",
            "bush is reported to have asked a flustered musharraf \n",
            "karzai was clearly pleased at the results \n",
            "until then he had said pakistan s options were open \n",
            "however pakistani officials insist that the decision was unconnected to the tripartite meeting \n",
            "however there were visible signs of a crackdown on the pakistan  \n",
            "\n",
            "\n",
            "***Batch 2:***\n",
            " curfew might be implemented again \n",
            "over 300 iraqis are reported dead and 500 reported wounded in fallujah alone \n",
            "al iraqiyah tv said that icdc were controlling ramadi \n",
            "now you can tour chernobyl and write your own story \n",
            "this is not a post about fault finding or assigning blame \n",
            "there is a lot to learn about chernobyl \n",
            "there are  \n",
            " side \n",
            "both india and afghanistan deny the claim \n",
            "senior us diplomats and military officials have warned india also \n",
            "however general barno insists the us presence poses no threat to iran \n",
            "many taliban living in afghanistan voted for president karzai \n",
            "or they were n't eyewitnesses and are just lying \n",
            "he has never lived in a war zone \n",
            "that  \n",
            "\n",
            "\n"
          ],
          "name": "stdout"
        }
      ]
    },
    {
      "metadata": {
        "id": "v-5a_SsDEsx5",
        "colab_type": "code",
        "outputId": "083ee8d2-c945-4d9d-b7c7-3a86b2fe8a3b",
        "colab": {
          "base_uri": "https://localhost:8080/",
          "height": 35
        }
      },
      "cell_type": "code",
      "source": [
        "labels = one_hots(time_numerical[1:seq_length*num_samples+1])\n",
        "train_label = labels.reshape((batch_size, num_batches, seq_length, vocab_size))\n",
        "train_label = nd.swapaxes(train_label, 0, 1)\n",
        "train_label = nd.swapaxes(train_label, 1, 2)\n",
        "print(train_label.shape)"
      ],
      "execution_count": 19,
      "outputs": [
        {
          "output_type": "stream",
          "text": [
            "(17, 64, 32, 5896)\n"
          ],
          "name": "stdout"
        }
      ]
    },
    {
      "metadata": {
        "id": "uEJJWIY_EsyH",
        "colab_type": "code",
        "outputId": "056787ce-2415-4ad4-ab0b-a68069ed52b5",
        "colab": {
          "base_uri": "https://localhost:8080/",
          "height": 305
        }
      },
      "cell_type": "code",
      "source": [
        "print(textify(train_data[10, :, 3]))\n",
        "print(textify(train_label[10, :, 3]))"
      ],
      "execution_count": 20,
      "outputs": [
        {
          "output_type": "stream",
          "text": [
            "return has no income assets or liabilities \n",
            "despite the name this entity appears to be a mtm company \n",
            "80y enron broadband acquisition inc \n",
            "i think this entity should stay with 83n \n",
            "so i suggest it be assigned to leon \n",
            "it should be 4 easy \n",
            "1579 ebs network co division of 17h \n",
            "this one should possibly be assigned \n",
            "has no income assets or liabilities \n",
            "despite the name this entity appears to be a mtm company \n",
            "80y enron broadband acquisition inc \n",
            "i think this entity should stay with 83n \n",
            "so i suggest it be assigned to leon \n",
            "it should be 4 easy \n",
            "1579 ebs network co division of 17h \n",
            "this one should possibly be assigned to \n"
          ],
          "name": "stdout"
        }
      ]
    },
    {
      "metadata": {
        "id": "t-WoJVdaEsyO",
        "colab_type": "code",
        "colab": {}
      },
      "cell_type": "code",
      "source": [
        "num_inputs = vocab_size\n",
        "num_hidden = 256\n",
        "num_outputs = vocab_size\n",
        "\n",
        "########################\n",
        "#  Weights connecting the inputs to the hidden layer\n",
        "########################\n",
        "Wxg = nd.random_normal(shape=(num_inputs,num_hidden), ctx=ctx) * .01\n",
        "Wxi = nd.random_normal(shape=(num_inputs,num_hidden), ctx=ctx) * .01\n",
        "Wxf = nd.random_normal(shape=(num_inputs,num_hidden), ctx=ctx) * .01\n",
        "Wxo = nd.random_normal(shape=(num_inputs,num_hidden), ctx=ctx) * .01\n",
        "\n",
        "########################\n",
        "#  Recurrent weights connecting the hidden layer across time steps\n",
        "########################\n",
        "Whg = nd.random_normal(shape=(num_hidden,num_hidden), ctx=ctx)* .01\n",
        "Whi = nd.random_normal(shape=(num_hidden,num_hidden), ctx=ctx)* .01\n",
        "Whf = nd.random_normal(shape=(num_hidden,num_hidden), ctx=ctx)* .01\n",
        "Who = nd.random_normal(shape=(num_hidden,num_hidden), ctx=ctx)* .01\n",
        "\n",
        "########################\n",
        "#  Bias vector for hidden layer\n",
        "########################\n",
        "bg = nd.random_normal(shape=num_hidden, ctx=ctx) * .01\n",
        "bi = nd.random_normal(shape=num_hidden, ctx=ctx) * .01\n",
        "bf = nd.random_normal(shape=num_hidden, ctx=ctx) * .01\n",
        "bo = nd.random_normal(shape=num_hidden, ctx=ctx) * .01\n",
        "\n",
        "########################\n",
        "# Weights to the output nodes\n",
        "########################\n",
        "Why = nd.random_normal(shape=(num_hidden,num_outputs), ctx=ctx) * .01\n",
        "by = nd.random_normal(shape=num_outputs, ctx=ctx) * .01"
      ],
      "execution_count": 0,
      "outputs": []
    },
    {
      "metadata": {
        "id": "m1c59qRpEsyV",
        "colab_type": "code",
        "colab": {}
      },
      "cell_type": "code",
      "source": [
        "params = [Wxg, Wxi, Wxf, Wxo, Whg, Whi, Whf, Who, bg, bi, bf, bo, Why, by]\n",
        "\n",
        "for param in params:\n",
        "    param.attach_grad()\n"
      ],
      "execution_count": 0,
      "outputs": []
    },
    {
      "metadata": {
        "id": "j_0CAm2REsye",
        "colab_type": "code",
        "colab": {}
      },
      "cell_type": "code",
      "source": [
        "def softmax(y_linear, temperature=1.0):\n",
        "    lin = (y_linear-nd.max(y_linear)) / temperature\n",
        "    exp = nd.exp(lin)\n",
        "    partition = nd.sum(exp, axis=0, exclude=True).reshape((-1,1))\n",
        "    return exp / partition"
      ],
      "execution_count": 0,
      "outputs": []
    },
    {
      "metadata": {
        "id": "yFqw6AJOEsyk",
        "colab_type": "code",
        "outputId": "d81936d2-b291-4fbe-c486-43727af4b120",
        "colab": {
          "base_uri": "https://localhost:8080/",
          "height": 89
        }
      },
      "cell_type": "code",
      "source": [
        "####################\n",
        "# With a temperature of 1 (always 1 during training), we get back some set of probabilities\n",
        "####################\n",
        "softmax(nd.array([[1, -1], [-1, 1]]), temperature=1.0)"
      ],
      "execution_count": 24,
      "outputs": [
        {
          "output_type": "execute_result",
          "data": {
            "text/plain": [
              "\n",
              "[[ 0.88079703  0.11920292]\n",
              " [ 0.11920292  0.88079703]]\n",
              "<NDArray 2x2 @cpu(0)>"
            ]
          },
          "metadata": {
            "tags": []
          },
          "execution_count": 24
        }
      ]
    },
    {
      "metadata": {
        "id": "6PgCgAbUEsyz",
        "colab_type": "code",
        "outputId": "2f33fbb8-e4b6-4e1e-c1ff-a5bc751d134b",
        "colab": {
          "base_uri": "https://localhost:8080/",
          "height": 89
        }
      },
      "cell_type": "code",
      "source": [
        "####################\n",
        "# If we set a high temperature, we can get more entropic (*noisier*) probabilities\n",
        "####################\n",
        "softmax(nd.array([[1,-1],[-1,1]]), temperature=1000.0)"
      ],
      "execution_count": 25,
      "outputs": [
        {
          "output_type": "execute_result",
          "data": {
            "text/plain": [
              "\n",
              "[[ 0.50049996  0.49949998]\n",
              " [ 0.49949998  0.50049996]]\n",
              "<NDArray 2x2 @cpu(0)>"
            ]
          },
          "metadata": {
            "tags": []
          },
          "execution_count": 25
        }
      ]
    },
    {
      "metadata": {
        "id": "WUMESQBgEsy8",
        "colab_type": "code",
        "outputId": "cbbce321-87aa-4cb5-a89e-040f8c50256c",
        "colab": {
          "base_uri": "https://localhost:8080/",
          "height": 89
        }
      },
      "cell_type": "code",
      "source": [
        "####################\n",
        "# Often we want to sample with low temperatures to produce sharp probabilities\n",
        "####################\n",
        "softmax(nd.array([[10,-10],[-10,10]]), temperature=.1)"
      ],
      "execution_count": 26,
      "outputs": [
        {
          "output_type": "execute_result",
          "data": {
            "text/plain": [
              "\n",
              "[[ 1.  0.]\n",
              " [ 0.  1.]]\n",
              "<NDArray 2x2 @cpu(0)>"
            ]
          },
          "metadata": {
            "tags": []
          },
          "execution_count": 26
        }
      ]
    },
    {
      "metadata": {
        "id": "_BadBBOdEszF",
        "colab_type": "code",
        "colab": {}
      },
      "cell_type": "code",
      "source": [
        "def lstm_rnn(inputs, h, c, temperature=1.0):\n",
        "    outputs = []\n",
        "    for X in inputs:\n",
        "        g = nd.tanh(nd.dot(X, Wxg) + nd.dot(h, Whg) + bg)\n",
        "        i = nd.sigmoid(nd.dot(X, Wxi) + nd.dot(h, Whi) + bi)\n",
        "        f = nd.sigmoid(nd.dot(X, Wxf) + nd.dot(h, Whf) + bf)\n",
        "        o = nd.sigmoid(nd.dot(X, Wxo) + nd.dot(h, Who) + bo)\n",
        "        #######################\n",
        "        #\n",
        "        #######################\n",
        "        c = f * c + i * g\n",
        "        h = o * nd.tanh(c)\n",
        "        #######################\n",
        "        #\n",
        "        #######################\n",
        "        yhat_linear = nd.dot(h, Why) + by\n",
        "        yhat = softmax(yhat_linear, temperature=temperature)\n",
        "        outputs.append(yhat)\n",
        "    return (outputs, h, c)"
      ],
      "execution_count": 0,
      "outputs": []
    },
    {
      "metadata": {
        "id": "i8FUC6CPEszP",
        "colab_type": "code",
        "colab": {}
      },
      "cell_type": "code",
      "source": [
        "# def cross_entropy(yhat, y):\n",
        "#     return - nd.sum(y * nd.log(yhat))\n",
        "\n",
        "def cross_entropy(yhat, y):\n",
        "    return - nd.mean(nd.sum(y * nd.log(yhat), axis=0, exclude=True))"
      ],
      "execution_count": 0,
      "outputs": []
    },
    {
      "metadata": {
        "id": "Nn26ypRTEszU",
        "colab_type": "code",
        "outputId": "c5914e2b-c3a9-403d-f622-040fe3346221",
        "colab": {
          "base_uri": "https://localhost:8080/",
          "height": 71
        }
      },
      "cell_type": "code",
      "source": [
        "cross_entropy(nd.array([[.2,.5,.3], [.2,.5,.3]]), nd.array([[1.,0,0], [0, 1.,0]]))"
      ],
      "execution_count": 29,
      "outputs": [
        {
          "output_type": "execute_result",
          "data": {
            "text/plain": [
              "\n",
              "[ 1.15129256]\n",
              "<NDArray 1 @cpu(0)>"
            ]
          },
          "metadata": {
            "tags": []
          },
          "execution_count": 29
        }
      ]
    },
    {
      "metadata": {
        "id": "gP5P85H4Eszb",
        "colab_type": "code",
        "colab": {}
      },
      "cell_type": "code",
      "source": [
        "def average_ce_loss(outputs, labels):\n",
        "    assert(len(outputs) == len(labels))\n",
        "    total_loss = 0.\n",
        "    for (output, label) in zip(outputs,labels):\n",
        "        total_loss = total_loss + cross_entropy(output, label)\n",
        "    return total_loss / len(outputs)"
      ],
      "execution_count": 0,
      "outputs": []
    },
    {
      "metadata": {
        "id": "xiHYNX1KEszi",
        "colab_type": "code",
        "colab": {}
      },
      "cell_type": "code",
      "source": [
        "def SGD(params, lr):    \n",
        "    for param in params:\n",
        "        param[:] = param - lr * param.grad"
      ],
      "execution_count": 0,
      "outputs": []
    },
    {
      "metadata": {
        "id": "zufclFUDEszq",
        "colab_type": "code",
        "colab": {}
      },
      "cell_type": "code",
      "source": [
        "def testaccuracy(mode, temperature=1.0):\n",
        "    #####################################\n",
        "    # Initialize the string that we'll return to the supplied prefix\n",
        "    #####################################\n",
        "    global testlines\n",
        "    total = 0\n",
        "    correct = 0\n",
        "    for prefix in testlines :\n",
        "        prefix_numerical, _, __ = preprocess(prefix, wtoi, itow)\n",
        "\n",
        "        #####################################\n",
        "        # Prepare the prefix as a sequence of one-hots for ingestion by RNN\n",
        "        #####################################\n",
        "        if mode == 0 :\n",
        "            string_numerical = list(prefix_numerical[:-1])\n",
        "            num_chars = 1\n",
        "        else :\n",
        "            string_numerical = list(prefix_numerical[:(len(prefix_numerical)+1)//2])\n",
        "            num_chars = len(prefix_numerical) - len(string_numerical)\n",
        "\n",
        "        input_sequence = one_hots(string_numerical)\n",
        "\n",
        "        h = nd.zeros(shape=(1, num_hidden), ctx=ctx)\n",
        "        c = nd.zeros(shape=(1, num_hidden), ctx=ctx)\n",
        "\n",
        "        for i in range(num_chars):\n",
        "            outputs, h, c = lstm_rnn(input_sequence, h, c, temperature=temperature)\n",
        "            #choice = np.random.choice(vocab_size, p=outputs[-1][0].asnumpy())\n",
        "            choice = np.argmax((outputs[-1][0]).asnumpy(),axis=0)\n",
        "            #print(choice)\n",
        "            string_numerical.append(choice)\n",
        "            if choice == prefix_numerical[len(string_numerical)-1]:\n",
        "                correct += 1\n",
        "            total += 1\n",
        "            input_sequence = one_hots([choice])\n",
        "        #print(string_numerical)\n",
        "    acc = float(correct)/total\n",
        "    #return textify(one_hots(string_numerical))\n",
        "    return acc"
      ],
      "execution_count": 0,
      "outputs": []
    },
    {
      "metadata": {
        "id": "OTct3O1rEszy",
        "colab_type": "code",
        "outputId": "e2ddc6b4-cf41-455f-bc39-e40200583a2b",
        "colab": {
          "base_uri": "https://localhost:8080/",
          "height": 35
        }
      },
      "cell_type": "code",
      "source": [
        "print(testaccuracy(0, temperature=.1))"
      ],
      "execution_count": 33,
      "outputs": [
        {
          "output_type": "stream",
          "text": [
            "0.0\n"
          ],
          "name": "stdout"
        }
      ]
    },
    {
      "metadata": {
        "id": "OEB3g0mKEs0G",
        "colab_type": "code",
        "outputId": "5107471b-f18c-413a-b573-95863b4083f2",
        "colab": {
          "base_uri": "https://localhost:8080/",
          "height": 3977
        }
      },
      "cell_type": "code",
      "source": [
        "epochs = 2000\n",
        "moving_loss = 0.\n",
        "\n",
        "learning_rate = 2.0\n",
        "\n",
        "# state = nd.zeros(shape=(batch_size, num_hidden), ctx=ctx)\n",
        "for e in range(epochs):\n",
        "    ############################\n",
        "    # Attenuate the learning rate by a factor of 2 every 100 epochs.\n",
        "    ############################\n",
        "    if ((e+1) % 100 == 0):\n",
        "        learning_rate = learning_rate / 2.0\n",
        "    h = nd.zeros(shape=(batch_size, num_hidden), ctx=mx.gpu())\n",
        "    c = nd.zeros(shape=(batch_size, num_hidden), ctx=mx.gpu())\n",
        "    for i in range(num_batches):\n",
        "        data_one_hot = train_data[i]\n",
        "        label_one_hot = train_label[i]\n",
        "        with autograd.record():\n",
        "            outputs, h, c = lstm_rnn(data_one_hot, h, c)\n",
        "            loss = average_ce_loss(outputs, label_one_hot)\n",
        "            loss.backward()\n",
        "        SGD(params, learning_rate)\n",
        "\n",
        "        ##########################\n",
        "        #  Keep a moving average of the losses\n",
        "        ##########################\n",
        "        if (i == 0) and (e == 0):\n",
        "            moving_loss = nd.mean(loss).asscalar()\n",
        "        else:\n",
        "            moving_loss = .99 * moving_loss + .01 * nd.mean(loss).asscalar()\n",
        "\n",
        "    print(\"Epoch %s. Loss: %s, Test Accuracy: %f\" % (e, moving_loss, 100*testaccuracy(0, temperature=.1)))"
      ],
      "execution_count": 0,
      "outputs": [
        {
          "output_type": "stream",
          "text": [
            "Epoch 0. Loss: 8.64264800933, Test Accuracy: 100.000000\n",
            "Epoch 1. Loss: 8.50281664915, Test Accuracy: 0.000000\n",
            "Epoch 2. Loss: 8.32879803211, Test Accuracy: 99.707602\n",
            "Epoch 3. Loss: 8.11411426274, Test Accuracy: 100.000000\n",
            "Epoch 4. Loss: 7.90261438226, Test Accuracy: 0.000000\n",
            "Epoch 5. Loss: 7.71149917558, Test Accuracy: 0.000000\n",
            "Epoch 6. Loss: 7.55044609956, Test Accuracy: 0.000000\n",
            "Epoch 7. Loss: 7.40931205458, Test Accuracy: 100.000000\n",
            "Epoch 8. Loss: 7.2854081501, Test Accuracy: 0.146199\n",
            "Epoch 9. Loss: 7.17910374921, Test Accuracy: 100.000000\n",
            "Epoch 10. Loss: 7.08468651579, Test Accuracy: 100.000000\n",
            "Epoch 11. Loss: 7.00404844681, Test Accuracy: 100.000000\n",
            "Epoch 12. Loss: 6.93300325692, Test Accuracy: 100.000000\n",
            "Epoch 13. Loss: 6.87174871282, Test Accuracy: 97.953216\n",
            "Epoch 14. Loss: 6.81894663819, Test Accuracy: 100.000000\n",
            "Epoch 15. Loss: 6.77446821615, Test Accuracy: 100.000000\n",
            "Epoch 16. Loss: 6.73535949881, Test Accuracy: 100.000000\n",
            "Epoch 17. Loss: 6.70142696194, Test Accuracy: 0.000000\n",
            "Epoch 18. Loss: 6.66887456824, Test Accuracy: 100.000000\n",
            "Epoch 19. Loss: 6.6439533284, Test Accuracy: 0.000000\n",
            "Epoch 20. Loss: 6.62124864943, Test Accuracy: 100.000000\n",
            "Epoch 21. Loss: 6.60235326254, Test Accuracy: 1.315789\n",
            "Epoch 22. Loss: 6.58436834595, Test Accuracy: 100.000000\n",
            "Epoch 23. Loss: 6.56918786219, Test Accuracy: 0.730994\n",
            "Epoch 24. Loss: 6.55440377236, Test Accuracy: 100.000000\n",
            "Epoch 25. Loss: 6.54215325507, Test Accuracy: 0.730994\n",
            "Epoch 26. Loss: 6.52978009431, Test Accuracy: 100.000000\n",
            "Epoch 27. Loss: 6.51970098859, Test Accuracy: 1.023392\n",
            "Epoch 28. Loss: 6.50918751519, Test Accuracy: 100.000000\n",
            "Epoch 29. Loss: 6.50068163829, Test Accuracy: 1.608187\n",
            "Epoch 30. Loss: 6.49156593821, Test Accuracy: 100.000000\n",
            "Epoch 31. Loss: 6.48415706833, Test Accuracy: 1.754386\n",
            "Epoch 32. Loss: 6.4760153224, Test Accuracy: 100.000000\n",
            "Epoch 33. Loss: 6.46916227024, Test Accuracy: 3.362573\n",
            "Epoch 34. Loss: 6.46143415274, Test Accuracy: 100.000000\n",
            "Epoch 35. Loss: 6.45434283513, Test Accuracy: 1.169591\n",
            "Epoch 36. Loss: 6.44664448602, Test Accuracy: 100.000000\n",
            "Epoch 37. Loss: 6.44074042441, Test Accuracy: 100.000000\n",
            "Epoch 38. Loss: 6.43138886599, Test Accuracy: 7.017544\n",
            "Epoch 39. Loss: 6.42351390336, Test Accuracy: 0.000000\n",
            "Epoch 40. Loss: 6.41494290424, Test Accuracy: 0.000000\n",
            "Epoch 41. Loss: 6.40105267943, Test Accuracy: 0.000000\n",
            "Epoch 42. Loss: 6.39527423312, Test Accuracy: 100.000000\n",
            "Epoch 43. Loss: 6.3845458645, Test Accuracy: 14.181287\n",
            "Epoch 44. Loss: 6.37249912481, Test Accuracy: 100.000000\n",
            "Epoch 45. Loss: 6.35976613752, Test Accuracy: 87.134503\n",
            "Epoch 46. Loss: 6.34656406661, Test Accuracy: 100.000000\n",
            "Epoch 47. Loss: 6.33361705214, Test Accuracy: 95.029240\n",
            "Epoch 48. Loss: 6.3208142115, Test Accuracy: 100.000000\n",
            "Epoch 49. Loss: 6.30861654169, Test Accuracy: 95.467836\n",
            "Epoch 50. Loss: 6.29692147063, Test Accuracy: 100.000000\n",
            "Epoch 51. Loss: 6.28581700452, Test Accuracy: 95.321637\n",
            "Epoch 52. Loss: 6.27540171393, Test Accuracy: 100.000000\n",
            "Epoch 53. Loss: 6.26526458088, Test Accuracy: 95.321637\n",
            "Epoch 54. Loss: 6.25594354344, Test Accuracy: 100.000000\n",
            "Epoch 55. Loss: 6.24661815991, Test Accuracy: 94.883041\n",
            "Epoch 56. Loss: 6.23820450316, Test Accuracy: 100.000000\n",
            "Epoch 57. Loss: 6.2292380123, Test Accuracy: 93.274854\n",
            "Epoch 58. Loss: 6.22147080962, Test Accuracy: 100.000000\n",
            "Epoch 59. Loss: 6.21254252686, Test Accuracy: 88.888889\n",
            "Epoch 60. Loss: 6.20510172093, Test Accuracy: 99.853801\n",
            "Epoch 61. Loss: 6.19671245579, Test Accuracy: 88.304094\n",
            "Epoch 62. Loss: 6.18938538267, Test Accuracy: 99.853801\n",
            "Epoch 63. Loss: 6.18101356001, Test Accuracy: 86.549708\n",
            "Epoch 64. Loss: 6.17380475466, Test Accuracy: 99.561404\n",
            "Epoch 65. Loss: 6.16520890901, Test Accuracy: 82.456140\n",
            "Epoch 66. Loss: 6.15811632795, Test Accuracy: 99.561404\n",
            "Epoch 67. Loss: 6.14911279592, Test Accuracy: 85.964912\n",
            "Epoch 68. Loss: 6.14187244443, Test Accuracy: 99.269006\n",
            "Epoch 69. Loss: 6.13262769983, Test Accuracy: 86.111111\n",
            "Epoch 70. Loss: 6.12500189959, Test Accuracy: 99.269006\n",
            "Epoch 71. Loss: 6.11542351952, Test Accuracy: 85.672515\n",
            "Epoch 72. Loss: 6.10753190559, Test Accuracy: 99.269006\n",
            "Epoch 73. Loss: 6.09785132868, Test Accuracy: 89.181287\n",
            "Epoch 74. Loss: 6.08956618805, Test Accuracy: 98.976608\n",
            "Epoch 75. Loss: 6.07900228024, Test Accuracy: 92.543860\n",
            "Epoch 76. Loss: 6.0706556566, Test Accuracy: 97.660819\n",
            "Epoch 77. Loss: 6.06159340789, Test Accuracy: 80.847953\n",
            "Epoch 78. Loss: 6.05254295773, Test Accuracy: 98.684211\n",
            "Epoch 79. Loss: 6.04323382096, Test Accuracy: 57.163743\n",
            "Epoch 80. Loss: 6.03609647499, Test Accuracy: 97.368421\n",
            "Epoch 81. Loss: 6.02584974291, Test Accuracy: 89.766082\n",
            "Epoch 82. Loss: 6.0172952059, Test Accuracy: 97.953216\n",
            "Epoch 83. Loss: 6.0060470837, Test Accuracy: 62.280702\n",
            "Epoch 84. Loss: 5.9990104271, Test Accuracy: 98.976608\n",
            "Epoch 85. Loss: 5.98866625379, Test Accuracy: 94.005848\n",
            "Epoch 86. Loss: 5.98038924112, Test Accuracy: 75.730994\n",
            "Epoch 87. Loss: 5.9694940346, Test Accuracy: 80.116959\n",
            "Epoch 88. Loss: 5.9611477967, Test Accuracy: 90.497076\n",
            "Epoch 89. Loss: 5.95362153877, Test Accuracy: 99.122807\n",
            "Epoch 90. Loss: 5.94402790082, Test Accuracy: 80.555556\n",
            "Epoch 91. Loss: 5.93462715787, Test Accuracy: 98.538012\n",
            "Epoch 92. Loss: 5.92424615769, Test Accuracy: 90.497076\n",
            "Epoch 93. Loss: 5.93119248995, Test Accuracy: 98.684211\n",
            "Epoch 94. Loss: 5.96499816727, Test Accuracy: 96.783626\n",
            "Epoch 95. Loss: 5.95543984878, Test Accuracy: 99.853801\n",
            "Epoch 96. Loss: 5.9401282461, Test Accuracy: 95.906433\n",
            "Epoch 97. Loss: 5.9253901309, Test Accuracy: 99.707602\n",
            "Epoch 98. Loss: 5.91065209662, Test Accuracy: 98.830409\n",
            "Epoch 99. Loss: 5.88823832441, Test Accuracy: 97.953216\n",
            "Epoch 100. Loss: 5.86728151052, Test Accuracy: 97.807018\n",
            "Epoch 101. Loss: 5.8487223378, Test Accuracy: 97.076023\n",
            "Epoch 102. Loss: 5.83152251392, Test Accuracy: 97.368421\n",
            "Epoch 103. Loss: 5.81677038028, Test Accuracy: 96.783626\n",
            "Epoch 104. Loss: 5.80345672354, Test Accuracy: 96.345029\n",
            "Epoch 105. Loss: 5.79126198246, Test Accuracy: 95.029240\n",
            "Epoch 106. Loss: 5.78124934379, Test Accuracy: 95.760234\n",
            "Epoch 107. Loss: 5.77089295518, Test Accuracy: 95.175439\n",
            "Epoch 108. Loss: 5.76050877583, Test Accuracy: 96.637427\n",
            "Epoch 109. Loss: 5.75141340849, Test Accuracy: 92.397661\n",
            "Epoch 110. Loss: 5.74374985241, Test Accuracy: 96.198830\n",
            "Epoch 111. Loss: 5.73448406, Test Accuracy: 96.345029\n",
            "Epoch 112. Loss: 5.7266652458, Test Accuracy: 97.222222\n",
            "Epoch 113. Loss: 5.72003814984, Test Accuracy: 96.198830\n",
            "Epoch 114. Loss: 5.71247783087, Test Accuracy: 96.637427\n",
            "Epoch 115. Loss: 5.70525948245, Test Accuracy: 96.783626\n",
            "Epoch 116. Loss: 5.69876725831, Test Accuracy: 96.345029\n",
            "Epoch 117. Loss: 5.69130570442, Test Accuracy: 96.345029\n",
            "Epoch 118. Loss: 5.68396497706, Test Accuracy: 96.491228\n",
            "Epoch 119. Loss: 5.67887758525, Test Accuracy: 94.444444\n",
            "Epoch 120. Loss: 5.67174286613, Test Accuracy: 97.514620\n",
            "Epoch 121. Loss: 5.66572851925, Test Accuracy: 95.321637\n",
            "Epoch 122. Loss: 5.65986149614, Test Accuracy: 94.883041\n",
            "Epoch 123. Loss: 5.65272122748, Test Accuracy: 91.520468\n",
            "Epoch 124. Loss: 5.6464939969, Test Accuracy: 95.321637\n",
            "Epoch 125. Loss: 5.63800440754, Test Accuracy: 89.619883\n",
            "Epoch 126. Loss: 5.63224468553, Test Accuracy: 91.812865\n",
            "Epoch 127. Loss: 5.62685805084, Test Accuracy: 94.152047\n",
            "Epoch 128. Loss: 5.61979544725, Test Accuracy: 96.491228\n",
            "Epoch 129. Loss: 5.61334636631, Test Accuracy: 95.321637\n",
            "Epoch 130. Loss: 5.60605316508, Test Accuracy: 95.029240\n",
            "Epoch 131. Loss: 5.5988460571, Test Accuracy: 97.660819\n",
            "Epoch 132. Loss: 5.59241590852, Test Accuracy: 92.836257\n",
            "Epoch 133. Loss: 5.58657244185, Test Accuracy: 97.660819\n",
            "Epoch 134. Loss: 5.58020296826, Test Accuracy: 94.883041\n",
            "Epoch 135. Loss: 5.57266232485, Test Accuracy: 95.175439\n",
            "Epoch 136. Loss: 5.56550426319, Test Accuracy: 92.836257\n",
            "Epoch 137. Loss: 5.55960607794, Test Accuracy: 95.321637\n",
            "Epoch 138. Loss: 5.55207050405, Test Accuracy: 93.859649\n",
            "Epoch 139. Loss: 5.54461171721, Test Accuracy: 94.298246\n",
            "Epoch 140. Loss: 5.53732485932, Test Accuracy: 95.614035\n",
            "Epoch 141. Loss: 5.52912756254, Test Accuracy: 93.128655\n",
            "Epoch 142. Loss: 5.52207266027, Test Accuracy: 91.081871\n",
            "Epoch 143. Loss: 5.51617617888, Test Accuracy: 89.473684\n",
            "Epoch 144. Loss: 5.50833418119, Test Accuracy: 93.128655\n",
            "Epoch 145. Loss: 5.50038398834, Test Accuracy: 88.157895\n",
            "Epoch 146. Loss: 5.49307600534, Test Accuracy: 95.906433\n",
            "Epoch 147. Loss: 5.48602662174, Test Accuracy: 92.397661\n",
            "Epoch 148. Loss: 5.47894707949, Test Accuracy: 91.812865\n",
            "Epoch 149. Loss: 5.47168044896, Test Accuracy: 94.883041\n",
            "Epoch 150. Loss: 5.46503302607, Test Accuracy: 96.052632\n",
            "Epoch 151. Loss: 5.45771719135, Test Accuracy: 92.105263\n",
            "Epoch 152. Loss: 5.45081703126, Test Accuracy: 92.397661\n",
            "Epoch 153. Loss: 5.44313651711, Test Accuracy: 94.152047\n",
            "Epoch 154. Loss: 5.43456145215, Test Accuracy: 91.228070\n",
            "Epoch 155. Loss: 5.42718981416, Test Accuracy: 91.520468\n",
            "Epoch 156. Loss: 5.41852185735, Test Accuracy: 93.274854\n",
            "Epoch 157. Loss: 5.4116374353, Test Accuracy: 94.005848\n",
            "Epoch 158. Loss: 5.40267942283, Test Accuracy: 94.444444\n",
            "Epoch 159. Loss: 5.39393496298, Test Accuracy: 92.251462\n",
            "Epoch 160. Loss: 5.38876400969, Test Accuracy: 93.859649\n",
            "Epoch 161. Loss: 5.37809640764, Test Accuracy: 93.859649\n",
            "Epoch 162. Loss: 5.37160444886, Test Accuracy: 93.274854\n",
            "Epoch 163. Loss: 5.36318072903, Test Accuracy: 88.888889\n",
            "Epoch 164. Loss: 5.35602268311, Test Accuracy: 93.274854\n",
            "Epoch 165. Loss: 5.34666859591, Test Accuracy: 93.567251\n",
            "Epoch 166. Loss: 5.33847553486, Test Accuracy: 83.479532\n",
            "Epoch 167. Loss: 5.33525263096, Test Accuracy: 95.467836\n",
            "Epoch 168. Loss: 5.32413178032, Test Accuracy: 87.426901\n",
            "Epoch 169. Loss: 5.31600205801, Test Accuracy: 92.690058\n",
            "Epoch 170. Loss: 5.30578007824, Test Accuracy: 92.105263\n",
            "Epoch 171. Loss: 5.29688089461, Test Accuracy: 86.842105\n",
            "Epoch 172. Loss: 5.28875739303, Test Accuracy: 90.350877\n",
            "Epoch 173. Loss: 5.27975809629, Test Accuracy: 93.567251\n",
            "Epoch 174. Loss: 5.27076427723, Test Accuracy: 92.690058\n",
            "Epoch 175. Loss: 5.26083874423, Test Accuracy: 96.198830\n",
            "Epoch 176. Loss: 5.25393702206, Test Accuracy: 95.614035\n",
            "Epoch 177. Loss: 5.244561777, Test Accuracy: 89.327485\n",
            "Epoch 178. Loss: 5.2369405519, Test Accuracy: 85.818713\n",
            "Epoch 179. Loss: 5.22813422078, Test Accuracy: 91.228070\n",
            "Epoch 180. Loss: 5.22167188541, Test Accuracy: 35.233918\n",
            "Epoch 181. Loss: 5.45160148761, Test Accuracy: 87.865497\n",
            "Epoch 182. Loss: 5.5750610868, Test Accuracy: 74.853801\n",
            "Epoch 183. Loss: 5.62416934955, Test Accuracy: 95.614035\n",
            "Epoch 184. Loss: 5.62195315586, Test Accuracy: 75.438596\n",
            "Epoch 185. Loss: 5.60351501008, Test Accuracy: 94.005848\n",
            "Epoch 186. Loss: 5.5768870512, Test Accuracy: 95.175439\n",
            "Epoch 187. Loss: 5.54719398356, Test Accuracy: 91.374269\n",
            "Epoch 188. Loss: 5.51616893292, Test Accuracy: 91.812865\n",
            "Epoch 189. Loss: 5.48469093868, Test Accuracy: 90.789474\n",
            "Epoch 190. Loss: 5.45669392877, Test Accuracy: 89.327485\n",
            "Epoch 191. Loss: 5.43120377291, Test Accuracy: 92.690058\n",
            "Epoch 192. Loss: 5.4019932642, Test Accuracy: 93.859649\n",
            "Epoch 193. Loss: 5.37619912769, Test Accuracy: 85.233918\n",
            "Epoch 194. Loss: 5.35068375667, Test Accuracy: 88.888889\n",
            "Epoch 195. Loss: 5.32524927228, Test Accuracy: 91.812865\n",
            "Epoch 196. Loss: 5.30302518215, Test Accuracy: 87.865497\n",
            "Epoch 197. Loss: 5.28181796052, Test Accuracy: 84.941520\n",
            "Epoch 198. Loss: 5.25907717725, Test Accuracy: 83.625731\n",
            "Epoch 199. Loss: 5.23002897137, Test Accuracy: 90.350877\n",
            "Epoch 200. Loss: 5.20311931069, Test Accuracy: 90.204678\n",
            "Epoch 201. Loss: 5.17870206326, Test Accuracy: 90.204678\n",
            "Epoch 202. Loss: 5.15642270234, Test Accuracy: 89.912281\n",
            "Epoch 203. Loss: 5.13657165397, Test Accuracy: 89.619883\n",
            "Epoch 204. Loss: 5.11822893762, Test Accuracy: 89.473684\n",
            "Epoch 205. Loss: 5.10196524833, Test Accuracy: 88.304094\n",
            "Epoch 206. Loss: 5.08751968169, Test Accuracy: 86.842105\n",
            "Epoch 207. Loss: 5.07362944137, Test Accuracy: 88.596491\n",
            "Epoch 208. Loss: 5.06119605251, Test Accuracy: 85.672515\n",
            "Epoch 209. Loss: 5.0490484938, Test Accuracy: 86.403509\n",
            "Epoch 210. Loss: 5.03834957498, Test Accuracy: 85.087719\n",
            "Epoch 211. Loss: 5.02869417666, Test Accuracy: 88.157895\n",
            "Epoch 212. Loss: 5.0189583259, Test Accuracy: 84.210526\n",
            "Epoch 213. Loss: 5.00905012329, Test Accuracy: 87.865497\n",
            "Epoch 214. Loss: 4.99938652046, Test Accuracy: 87.134503\n",
            "Epoch 215. Loss: 4.99155521303, Test Accuracy: 86.988304\n",
            "Epoch 216. Loss: 4.98552256855, Test Accuracy: 82.602339\n",
            "Epoch 217. Loss: 4.97668491644, Test Accuracy: 79.093567\n",
            "Epoch 218. Loss: 4.96964962529, Test Accuracy: 83.479532\n",
            "Epoch 219. Loss: 4.96285169639, Test Accuracy: 86.695906\n"
          ],
          "name": "stdout"
        }
      ]
    },
    {
      "metadata": {
        "id": "KcnXN0rAEs0P",
        "colab_type": "code",
        "colab": {}
      },
      "cell_type": "code",
      "source": [
        "print(\"Task a. After training with one hot encoding : \\n\")\n",
        "print(\"\")\n",
        "print(\"Epoch %s. Loss: %s Test Accuracy: %f\" % (e, moving_loss, testaccuracy(0, temperature=.1)))"
      ],
      "execution_count": 0,
      "outputs": []
    },
    {
      "metadata": {
        "id": "SDqtNKOZG8FV",
        "colab_type": "code",
        "colab": {}
      },
      "cell_type": "code",
      "source": [
        ""
      ],
      "execution_count": 0,
      "outputs": []
    }
  ]
}